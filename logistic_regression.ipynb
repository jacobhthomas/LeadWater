{
 "cells": [
  {
   "cell_type": "code",
   "execution_count": 377,
   "metadata": {},
   "outputs": [],
   "source": [
    "import numpy as np\n",
    "import pandas as pd\n",
    "import matplotlib.pyplot as plt\n",
    "import statsmodels.api as sm\n",
    "import statsmodels.formula.api as smf\n",
    "import matplotlib as mpl\n",
    "import matplotlib.cm as cm"
   ]
  },
  {
   "cell_type": "code",
   "execution_count": 378,
   "metadata": {},
   "outputs": [],
   "source": [
    "assessor_dir = 'datasets/assessorSequential.csv'\n",
    "df = pd.read_csv(assessor_dir)"
   ]
  },
  {
   "cell_type": "code",
   "execution_count": 379,
   "metadata": {},
   "outputs": [],
   "source": [
    "df = df.drop(columns=['Unnamed: 0','X11th.Draw','PIN','Township Code','Neighborhood Code','Age','Longitude','Latitude','ZIP'])"
   ]
  },
  {
   "cell_type": "code",
   "execution_count": 380,
   "metadata": {},
   "outputs": [
    {
     "data": {
      "text/plain": [
       "Index(['X1st.Draw', 'X2nd.Draw', 'X3rd.Draw', 'X4th.Draw', 'X5th.Draw',\n",
       "       'X6th.Draw', 'X7th.Draw', 'X8th.Draw', 'X9th.Draw', 'X10th.Draw'],\n",
       "      dtype='object')"
      ]
     },
     "execution_count": 380,
     "metadata": {},
     "output_type": "execute_result"
    }
   ],
   "source": [
    "draw_col = df.columns[2:12]\n",
    "draw_col"
   ]
  },
  {
   "cell_type": "code",
   "execution_count": 381,
   "metadata": {},
   "outputs": [],
   "source": [
    "df['avg_draw'] = df[draw_col].mean(axis=1)\n",
    "df = df.drop(columns=draw_col)"
   ]
  },
  {
   "cell_type": "code",
   "execution_count": 382,
   "metadata": {},
   "outputs": [],
   "source": [
    "df_full = df.copy()"
   ]
  },
  {
   "cell_type": "code",
   "execution_count": 383,
   "metadata": {},
   "outputs": [
    {
     "data": {
      "text/html": [
       "<div>\n",
       "<style scoped>\n",
       "    .dataframe tbody tr th:only-of-type {\n",
       "        vertical-align: middle;\n",
       "    }\n",
       "\n",
       "    .dataframe tbody tr th {\n",
       "        vertical-align: top;\n",
       "    }\n",
       "\n",
       "    .dataframe thead th {\n",
       "        text-align: right;\n",
       "    }\n",
       "</style>\n",
       "<table border=\"1\" class=\"dataframe\">\n",
       "  <thead>\n",
       "    <tr style=\"text-align: right;\">\n",
       "      <th></th>\n",
       "      <th>Date.Sampled</th>\n",
       "      <th>Address</th>\n",
       "      <th>Sale Price</th>\n",
       "      <th>Tract Median Income</th>\n",
       "      <th>avg_draw</th>\n",
       "    </tr>\n",
       "  </thead>\n",
       "  <tbody>\n",
       "    <tr>\n",
       "      <th>0</th>\n",
       "      <td>9/4/2019</td>\n",
       "      <td>100XX S BELL AVE</td>\n",
       "      <td>280000.0</td>\n",
       "      <td>122727.0</td>\n",
       "      <td>2.433</td>\n",
       "    </tr>\n",
       "    <tr>\n",
       "      <th>1</th>\n",
       "      <td>7/16/2016</td>\n",
       "      <td>100XX S CALHOUN AVE</td>\n",
       "      <td>NaN</td>\n",
       "      <td>44423.0</td>\n",
       "      <td>9.866</td>\n",
       "    </tr>\n",
       "    <tr>\n",
       "      <th>2</th>\n",
       "      <td>12/17/2019</td>\n",
       "      <td>100XX S CALUMET AVE</td>\n",
       "      <td>NaN</td>\n",
       "      <td>40612.0</td>\n",
       "      <td>10.399</td>\n",
       "    </tr>\n",
       "    <tr>\n",
       "      <th>3</th>\n",
       "      <td>12/14/2019</td>\n",
       "      <td>100XX S CARPENTER ST</td>\n",
       "      <td>NaN</td>\n",
       "      <td>37207.0</td>\n",
       "      <td>8.663</td>\n",
       "    </tr>\n",
       "    <tr>\n",
       "      <th>4</th>\n",
       "      <td>7/14/2021</td>\n",
       "      <td>100XX S CARPENTER ST</td>\n",
       "      <td>NaN</td>\n",
       "      <td>37207.0</td>\n",
       "      <td>9.280</td>\n",
       "    </tr>\n",
       "  </tbody>\n",
       "</table>\n",
       "</div>"
      ],
      "text/plain": [
       "  Date.Sampled               Address  Sale Price  Tract Median Income  \\\n",
       "0     9/4/2019      100XX S BELL AVE    280000.0             122727.0   \n",
       "1    7/16/2016   100XX S CALHOUN AVE         NaN              44423.0   \n",
       "2   12/17/2019   100XX S CALUMET AVE         NaN              40612.0   \n",
       "3   12/14/2019  100XX S CARPENTER ST         NaN              37207.0   \n",
       "4    7/14/2021  100XX S CARPENTER ST         NaN              37207.0   \n",
       "\n",
       "   avg_draw  \n",
       "0     2.433  \n",
       "1     9.866  \n",
       "2    10.399  \n",
       "3     8.663  \n",
       "4     9.280  "
      ]
     },
     "execution_count": 383,
     "metadata": {},
     "output_type": "execute_result"
    }
   ],
   "source": [
    "df_reduced = df.copy()\n",
    "df_full.head(5)"
   ]
  },
  {
   "cell_type": "code",
   "execution_count": 384,
   "metadata": {},
   "outputs": [
    {
     "data": {
      "text/plain": [
       "(149, 5)"
      ]
     },
     "execution_count": 384,
     "metadata": {},
     "output_type": "execute_result"
    }
   ],
   "source": [
    "df_full[~df_full.isin(['NaN', 'NaT']).any(axis=1)]\n",
    "df_full.shape\n",
    "df_full.dropna(inplace=True)\n",
    "df_full.shape"
   ]
  },
  {
   "cell_type": "code",
   "execution_count": 385,
   "metadata": {},
   "outputs": [],
   "source": [
    "#assign 0 to <7.5 and 1 to >=7.5\n",
    "df_full['avg_lead_target'] = np.where(df_full['avg_draw']<8.55, 0, 1)"
   ]
  },
  {
   "cell_type": "code",
   "execution_count": 386,
   "metadata": {},
   "outputs": [
    {
     "data": {
      "text/html": [
       "<div>\n",
       "<style scoped>\n",
       "    .dataframe tbody tr th:only-of-type {\n",
       "        vertical-align: middle;\n",
       "    }\n",
       "\n",
       "    .dataframe tbody tr th {\n",
       "        vertical-align: top;\n",
       "    }\n",
       "\n",
       "    .dataframe thead th {\n",
       "        text-align: right;\n",
       "    }\n",
       "</style>\n",
       "<table border=\"1\" class=\"dataframe\">\n",
       "  <thead>\n",
       "    <tr style=\"text-align: right;\">\n",
       "      <th></th>\n",
       "      <th>Date.Sampled</th>\n",
       "      <th>Address</th>\n",
       "      <th>Sale Price</th>\n",
       "      <th>Tract Median Income</th>\n",
       "      <th>avg_draw</th>\n",
       "      <th>avg_lead_target</th>\n",
       "    </tr>\n",
       "  </thead>\n",
       "  <tbody>\n",
       "    <tr>\n",
       "      <th>0</th>\n",
       "      <td>9/4/2019</td>\n",
       "      <td>100XX S BELL AVE</td>\n",
       "      <td>280000.0</td>\n",
       "      <td>122727.0</td>\n",
       "      <td>2.433</td>\n",
       "      <td>0</td>\n",
       "    </tr>\n",
       "    <tr>\n",
       "      <th>17</th>\n",
       "      <td>12/20/2016</td>\n",
       "      <td>102XX S ARTESIAN AVE</td>\n",
       "      <td>219000.0</td>\n",
       "      <td>98281.0</td>\n",
       "      <td>5.192</td>\n",
       "      <td>0</td>\n",
       "    </tr>\n",
       "    <tr>\n",
       "      <th>20</th>\n",
       "      <td>9/17/2019</td>\n",
       "      <td>102XX S OGLESBY AVE</td>\n",
       "      <td>147400.0</td>\n",
       "      <td>30069.0</td>\n",
       "      <td>27.250</td>\n",
       "      <td>1</td>\n",
       "    </tr>\n",
       "    <tr>\n",
       "      <th>21</th>\n",
       "      <td>9/28/2016</td>\n",
       "      <td>103XX S HAMILTON AVE</td>\n",
       "      <td>330000.0</td>\n",
       "      <td>110344.0</td>\n",
       "      <td>6.315</td>\n",
       "      <td>0</td>\n",
       "    </tr>\n",
       "    <tr>\n",
       "      <th>36</th>\n",
       "      <td>10/10/2019</td>\n",
       "      <td>105XX S CENTRAL PARK AVE</td>\n",
       "      <td>280000.0</td>\n",
       "      <td>100361.0</td>\n",
       "      <td>10.505</td>\n",
       "      <td>1</td>\n",
       "    </tr>\n",
       "    <tr>\n",
       "      <th>42</th>\n",
       "      <td>11/4/2021</td>\n",
       "      <td>105XX S KEDZIE AVE</td>\n",
       "      <td>290000.0</td>\n",
       "      <td>91924.0</td>\n",
       "      <td>14.775</td>\n",
       "      <td>1</td>\n",
       "    </tr>\n",
       "    <tr>\n",
       "      <th>44</th>\n",
       "      <td>8/30/2021</td>\n",
       "      <td>105XX S SEELEY AVE</td>\n",
       "      <td>464000.0</td>\n",
       "      <td>110344.0</td>\n",
       "      <td>5.901</td>\n",
       "      <td>0</td>\n",
       "    </tr>\n",
       "    <tr>\n",
       "      <th>49</th>\n",
       "      <td>11/30/2021</td>\n",
       "      <td>106XX S EBERHART AVE</td>\n",
       "      <td>86000.0</td>\n",
       "      <td>45273.0</td>\n",
       "      <td>15.010</td>\n",
       "      <td>1</td>\n",
       "    </tr>\n",
       "    <tr>\n",
       "      <th>65</th>\n",
       "      <td>12/6/2021</td>\n",
       "      <td>108XX S EGGLESTON AVE</td>\n",
       "      <td>146000.0</td>\n",
       "      <td>41167.0</td>\n",
       "      <td>2.018</td>\n",
       "      <td>0</td>\n",
       "    </tr>\n",
       "    <tr>\n",
       "      <th>67</th>\n",
       "      <td>3/2/2022</td>\n",
       "      <td>108XX S HAMLIN AVE</td>\n",
       "      <td>273000.0</td>\n",
       "      <td>118640.0</td>\n",
       "      <td>4.998</td>\n",
       "      <td>0</td>\n",
       "    </tr>\n",
       "  </tbody>\n",
       "</table>\n",
       "</div>"
      ],
      "text/plain": [
       "   Date.Sampled                   Address  Sale Price  Tract Median Income  \\\n",
       "0      9/4/2019          100XX S BELL AVE    280000.0             122727.0   \n",
       "17   12/20/2016      102XX S ARTESIAN AVE    219000.0              98281.0   \n",
       "20    9/17/2019       102XX S OGLESBY AVE    147400.0              30069.0   \n",
       "21    9/28/2016      103XX S HAMILTON AVE    330000.0             110344.0   \n",
       "36   10/10/2019  105XX S CENTRAL PARK AVE    280000.0             100361.0   \n",
       "42    11/4/2021        105XX S KEDZIE AVE    290000.0              91924.0   \n",
       "44    8/30/2021        105XX S SEELEY AVE    464000.0             110344.0   \n",
       "49   11/30/2021      106XX S EBERHART AVE     86000.0              45273.0   \n",
       "65    12/6/2021     108XX S EGGLESTON AVE    146000.0              41167.0   \n",
       "67     3/2/2022        108XX S HAMLIN AVE    273000.0             118640.0   \n",
       "\n",
       "    avg_draw  avg_lead_target  \n",
       "0      2.433                0  \n",
       "17     5.192                0  \n",
       "20    27.250                1  \n",
       "21     6.315                0  \n",
       "36    10.505                1  \n",
       "42    14.775                1  \n",
       "44     5.901                0  \n",
       "49    15.010                1  \n",
       "65     2.018                0  \n",
       "67     4.998                0  "
      ]
     },
     "execution_count": 386,
     "metadata": {},
     "output_type": "execute_result"
    }
   ],
   "source": [
    "df_full.head(10)"
   ]
  },
  {
   "cell_type": "code",
   "execution_count": 387,
   "metadata": {},
   "outputs": [
    {
     "data": {
      "text/plain": [
       "1    76\n",
       "0    73\n",
       "Name: avg_lead_target, dtype: int64"
      ]
     },
     "execution_count": 387,
     "metadata": {},
     "output_type": "execute_result"
    }
   ],
   "source": [
    "df_full['avg_lead_target'].value_counts()"
   ]
  },
  {
   "cell_type": "code",
   "execution_count": 388,
   "metadata": {},
   "outputs": [],
   "source": [
    "df_full['sale_price'] = df_full['Sale Price']\n",
    "df_full['tract_income'] = df_full['Tract Median Income']\n",
    "df_full = df_full.drop(columns=['Sale Price','Tract Median Income'])"
   ]
  },
  {
   "cell_type": "code",
   "execution_count": 389,
   "metadata": {},
   "outputs": [
    {
     "name": "stdout",
     "output_type": "stream",
     "text": [
      "(73, 6)\n"
     ]
    }
   ],
   "source": [
    "class_0 = df_full[df_full['avg_lead_target']==0]\n",
    "print(class_0.shape)\n",
    "class_1 = df_full[df_full['avg_lead_target']==1]\n",
    "\n",
    "class_1_under = class_1.sample(class_0.shape[0])\n",
    "\n",
    "df_balanced = pd.concat([class_0, class_1_under], axis=0)"
   ]
  },
  {
   "cell_type": "code",
   "execution_count": 390,
   "metadata": {},
   "outputs": [
    {
     "data": {
      "text/plain": [
       "0    73\n",
       "1    73\n",
       "Name: avg_lead_target, dtype: int64"
      ]
     },
     "execution_count": 390,
     "metadata": {},
     "output_type": "execute_result"
    }
   ],
   "source": [
    "df_balanced['avg_lead_target'].value_counts()"
   ]
  },
  {
   "cell_type": "code",
   "execution_count": 391,
   "metadata": {},
   "outputs": [
    {
     "data": {
      "text/html": [
       "<div>\n",
       "<style scoped>\n",
       "    .dataframe tbody tr th:only-of-type {\n",
       "        vertical-align: middle;\n",
       "    }\n",
       "\n",
       "    .dataframe tbody tr th {\n",
       "        vertical-align: top;\n",
       "    }\n",
       "\n",
       "    .dataframe thead th {\n",
       "        text-align: right;\n",
       "    }\n",
       "</style>\n",
       "<table border=\"1\" class=\"dataframe\">\n",
       "  <thead>\n",
       "    <tr style=\"text-align: right;\">\n",
       "      <th></th>\n",
       "      <th>Date.Sampled</th>\n",
       "      <th>Address</th>\n",
       "      <th>avg_draw</th>\n",
       "      <th>avg_lead_target</th>\n",
       "      <th>sale_price</th>\n",
       "      <th>tract_income</th>\n",
       "    </tr>\n",
       "  </thead>\n",
       "  <tbody>\n",
       "    <tr>\n",
       "      <th>0</th>\n",
       "      <td>9/4/2019</td>\n",
       "      <td>100XX S BELL AVE</td>\n",
       "      <td>2.433</td>\n",
       "      <td>0</td>\n",
       "      <td>280000.0</td>\n",
       "      <td>122727.0</td>\n",
       "    </tr>\n",
       "    <tr>\n",
       "      <th>17</th>\n",
       "      <td>12/20/2016</td>\n",
       "      <td>102XX S ARTESIAN AVE</td>\n",
       "      <td>5.192</td>\n",
       "      <td>0</td>\n",
       "      <td>219000.0</td>\n",
       "      <td>98281.0</td>\n",
       "    </tr>\n",
       "    <tr>\n",
       "      <th>21</th>\n",
       "      <td>9/28/2016</td>\n",
       "      <td>103XX S HAMILTON AVE</td>\n",
       "      <td>6.315</td>\n",
       "      <td>0</td>\n",
       "      <td>330000.0</td>\n",
       "      <td>110344.0</td>\n",
       "    </tr>\n",
       "    <tr>\n",
       "      <th>44</th>\n",
       "      <td>8/30/2021</td>\n",
       "      <td>105XX S SEELEY AVE</td>\n",
       "      <td>5.901</td>\n",
       "      <td>0</td>\n",
       "      <td>464000.0</td>\n",
       "      <td>110344.0</td>\n",
       "    </tr>\n",
       "    <tr>\n",
       "      <th>65</th>\n",
       "      <td>12/6/2021</td>\n",
       "      <td>108XX S EGGLESTON AVE</td>\n",
       "      <td>2.018</td>\n",
       "      <td>0</td>\n",
       "      <td>146000.0</td>\n",
       "      <td>41167.0</td>\n",
       "    </tr>\n",
       "    <tr>\n",
       "      <th>...</th>\n",
       "      <td>...</td>\n",
       "      <td>...</td>\n",
       "      <td>...</td>\n",
       "      <td>...</td>\n",
       "      <td>...</td>\n",
       "      <td>...</td>\n",
       "    </tr>\n",
       "    <tr>\n",
       "      <th>1511</th>\n",
       "      <td>3/1/2022</td>\n",
       "      <td>74XX N ORIOLE AVE</td>\n",
       "      <td>10.418</td>\n",
       "      <td>1</td>\n",
       "      <td>415600.0</td>\n",
       "      <td>95990.0</td>\n",
       "    </tr>\n",
       "    <tr>\n",
       "      <th>948</th>\n",
       "      <td>12/9/2019</td>\n",
       "      <td>49XX W WAVELAND AVE</td>\n",
       "      <td>10.626</td>\n",
       "      <td>1</td>\n",
       "      <td>424900.0</td>\n",
       "      <td>56917.0</td>\n",
       "    </tr>\n",
       "    <tr>\n",
       "      <th>1371</th>\n",
       "      <td>1/22/2020</td>\n",
       "      <td>64XX N FAIRFIELD AVE</td>\n",
       "      <td>12.522</td>\n",
       "      <td>1</td>\n",
       "      <td>400000.0</td>\n",
       "      <td>41308.0</td>\n",
       "    </tr>\n",
       "    <tr>\n",
       "      <th>163</th>\n",
       "      <td>9/24/2019</td>\n",
       "      <td>121XX S WALLACE ST</td>\n",
       "      <td>8.895</td>\n",
       "      <td>1</td>\n",
       "      <td>20000.0</td>\n",
       "      <td>44436.0</td>\n",
       "    </tr>\n",
       "    <tr>\n",
       "      <th>1237</th>\n",
       "      <td>6/15/2021</td>\n",
       "      <td>59XX S KILBOURN AVE</td>\n",
       "      <td>29.810</td>\n",
       "      <td>1</td>\n",
       "      <td>350000.0</td>\n",
       "      <td>48678.0</td>\n",
       "    </tr>\n",
       "  </tbody>\n",
       "</table>\n",
       "<p>146 rows × 6 columns</p>\n",
       "</div>"
      ],
      "text/plain": [
       "     Date.Sampled                Address  avg_draw  avg_lead_target  \\\n",
       "0        9/4/2019       100XX S BELL AVE     2.433                0   \n",
       "17     12/20/2016   102XX S ARTESIAN AVE     5.192                0   \n",
       "21      9/28/2016   103XX S HAMILTON AVE     6.315                0   \n",
       "44      8/30/2021     105XX S SEELEY AVE     5.901                0   \n",
       "65      12/6/2021  108XX S EGGLESTON AVE     2.018                0   \n",
       "...           ...                    ...       ...              ...   \n",
       "1511     3/1/2022      74XX N ORIOLE AVE    10.418                1   \n",
       "948     12/9/2019    49XX W WAVELAND AVE    10.626                1   \n",
       "1371    1/22/2020   64XX N FAIRFIELD AVE    12.522                1   \n",
       "163     9/24/2019     121XX S WALLACE ST     8.895                1   \n",
       "1237    6/15/2021    59XX S KILBOURN AVE    29.810                1   \n",
       "\n",
       "      sale_price  tract_income  \n",
       "0       280000.0      122727.0  \n",
       "17      219000.0       98281.0  \n",
       "21      330000.0      110344.0  \n",
       "44      464000.0      110344.0  \n",
       "65      146000.0       41167.0  \n",
       "...          ...           ...  \n",
       "1511    415600.0       95990.0  \n",
       "948     424900.0       56917.0  \n",
       "1371    400000.0       41308.0  \n",
       "163      20000.0       44436.0  \n",
       "1237    350000.0       48678.0  \n",
       "\n",
       "[146 rows x 6 columns]"
      ]
     },
     "execution_count": 391,
     "metadata": {},
     "output_type": "execute_result"
    }
   ],
   "source": [
    "df_balanced"
   ]
  },
  {
   "cell_type": "code",
   "execution_count": 392,
   "metadata": {},
   "outputs": [
    {
     "name": "stdout",
     "output_type": "stream",
     "text": [
      "Optimization terminated successfully.\n",
      "         Current function value: 0.684165\n",
      "         Iterations 4\n"
     ]
    }
   ],
   "source": [
    "log_reg = smf.logit(formula='avg_lead_target ~ tract_income + sale_price', data=df_balanced).fit()"
   ]
  },
  {
   "cell_type": "code",
   "execution_count": 393,
   "metadata": {},
   "outputs": [
    {
     "name": "stdout",
     "output_type": "stream",
     "text": [
      "                           Logit Regression Results                           \n",
      "==============================================================================\n",
      "Dep. Variable:        avg_lead_target   No. Observations:                  146\n",
      "Model:                          Logit   Df Residuals:                      143\n",
      "Method:                           MLE   Df Model:                            2\n",
      "Date:                Tue, 25 Apr 2023   Pseudo R-squ.:                 0.01296\n",
      "Time:                        01:16:04   Log-Likelihood:                -99.888\n",
      "converged:                       True   LL-Null:                       -101.20\n",
      "Covariance Type:            nonrobust   LLR p-value:                    0.2694\n",
      "================================================================================\n",
      "                   coef    std err          z      P>|z|      [0.025      0.975]\n",
      "--------------------------------------------------------------------------------\n",
      "Intercept       -0.1875      0.417     -0.450      0.653      -1.005       0.630\n",
      "tract_income -3.737e-06   7.44e-06     -0.502      0.615   -1.83e-05    1.08e-05\n",
      "sale_price    1.166e-06   8.08e-07      1.443      0.149   -4.18e-07    2.75e-06\n",
      "================================================================================\n"
     ]
    }
   ],
   "source": [
    "print(log_reg.summary())"
   ]
  },
  {
   "cell_type": "code",
   "execution_count": 394,
   "metadata": {},
   "outputs": [
    {
     "name": "stdout",
     "output_type": "stream",
     "text": [
      "Optimization terminated successfully.\n",
      "         Current function value: 0.683988\n",
      "         Iterations 5\n"
     ]
    }
   ],
   "source": [
    "log_reg_reduced = smf.logit(formula='avg_lead_target ~ sale_price', data=df_full).fit()"
   ]
  },
  {
   "cell_type": "code",
   "execution_count": 395,
   "metadata": {},
   "outputs": [
    {
     "data": {
      "text/html": [
       "<table class=\"simpletable\">\n",
       "<caption>Logit Regression Results</caption>\n",
       "<tr>\n",
       "  <th>Dep. Variable:</th>    <td>avg_lead_target</td> <th>  No. Observations:  </th>  <td>   149</td> \n",
       "</tr>\n",
       "<tr>\n",
       "  <th>Model:</th>                 <td>Logit</td>      <th>  Df Residuals:      </th>  <td>   147</td> \n",
       "</tr>\n",
       "<tr>\n",
       "  <th>Method:</th>                 <td>MLE</td>       <th>  Df Model:          </th>  <td>     1</td> \n",
       "</tr>\n",
       "<tr>\n",
       "  <th>Date:</th>            <td>Tue, 25 Apr 2023</td> <th>  Pseudo R-squ.:     </th>  <td>0.01293</td>\n",
       "</tr>\n",
       "<tr>\n",
       "  <th>Time:</th>                <td>01:16:05</td>     <th>  Log-Likelihood:    </th> <td> -101.91</td>\n",
       "</tr>\n",
       "<tr>\n",
       "  <th>converged:</th>             <td>True</td>       <th>  LL-Null:           </th> <td> -103.25</td>\n",
       "</tr>\n",
       "<tr>\n",
       "  <th>Covariance Type:</th>     <td>nonrobust</td>    <th>  LLR p-value:       </th>  <td>0.1023</td> \n",
       "</tr>\n",
       "</table>\n",
       "<table class=\"simpletable\">\n",
       "<tr>\n",
       "       <td></td>         <th>coef</th>     <th>std err</th>      <th>z</th>      <th>P>|z|</th>  <th>[0.025</th>    <th>0.975]</th>  \n",
       "</tr>\n",
       "<tr>\n",
       "  <th>Intercept</th>  <td>   -0.3247</td> <td>    0.282</td> <td>   -1.152</td> <td> 0.249</td> <td>   -0.877</td> <td>    0.228</td>\n",
       "</tr>\n",
       "<tr>\n",
       "  <th>sale_price</th> <td> 9.644e-07</td> <td> 6.14e-07</td> <td>    1.571</td> <td> 0.116</td> <td>-2.39e-07</td> <td> 2.17e-06</td>\n",
       "</tr>\n",
       "</table>"
      ],
      "text/plain": [
       "<class 'statsmodels.iolib.summary.Summary'>\n",
       "\"\"\"\n",
       "                           Logit Regression Results                           \n",
       "==============================================================================\n",
       "Dep. Variable:        avg_lead_target   No. Observations:                  149\n",
       "Model:                          Logit   Df Residuals:                      147\n",
       "Method:                           MLE   Df Model:                            1\n",
       "Date:                Tue, 25 Apr 2023   Pseudo R-squ.:                 0.01293\n",
       "Time:                        01:16:05   Log-Likelihood:                -101.91\n",
       "converged:                       True   LL-Null:                       -103.25\n",
       "Covariance Type:            nonrobust   LLR p-value:                    0.1023\n",
       "==============================================================================\n",
       "                 coef    std err          z      P>|z|      [0.025      0.975]\n",
       "------------------------------------------------------------------------------\n",
       "Intercept     -0.3247      0.282     -1.152      0.249      -0.877       0.228\n",
       "sale_price  9.644e-07   6.14e-07      1.571      0.116   -2.39e-07    2.17e-06\n",
       "==============================================================================\n",
       "\"\"\""
      ]
     },
     "execution_count": 395,
     "metadata": {},
     "output_type": "execute_result"
    }
   ],
   "source": [
    "log_reg_reduced.summary()"
   ]
  },
  {
   "cell_type": "code",
   "execution_count": 396,
   "metadata": {},
   "outputs": [],
   "source": [
    "df_reduced = df_reduced[['Tract Median Income','avg_draw']]\n",
    "df_reduced['avg_lead_target'] = np.where(df_reduced['avg_draw']<9, 0, 1)\n",
    "df_reduced['tract_income'] = df_reduced['Tract Median Income']\n",
    "df_reduced = df_reduced.drop(columns=['Tract Median Income'])"
   ]
  },
  {
   "cell_type": "code",
   "execution_count": 397,
   "metadata": {},
   "outputs": [
    {
     "name": "stdout",
     "output_type": "stream",
     "text": [
      "(816, 3)\n"
     ]
    }
   ],
   "source": [
    "class_0 = df_reduced[df_reduced['avg_lead_target']==0]\n",
    "print(class_0.shape)\n",
    "class_1 = df_reduced[df_reduced['avg_lead_target']==1]\n",
    "\n",
    "class_1_under = class_1.sample(class_0.shape[0])\n",
    "\n",
    "df_balanced1 = pd.concat([class_0, class_1_under], axis=0)"
   ]
  },
  {
   "cell_type": "code",
   "execution_count": 398,
   "metadata": {},
   "outputs": [
    {
     "data": {
      "text/plain": [
       "0    816\n",
       "1    816\n",
       "Name: avg_lead_target, dtype: int64"
      ]
     },
     "execution_count": 398,
     "metadata": {},
     "output_type": "execute_result"
    }
   ],
   "source": [
    "df_balanced1['avg_lead_target'].value_counts()"
   ]
  },
  {
   "cell_type": "code",
   "execution_count": 399,
   "metadata": {},
   "outputs": [
    {
     "name": "stdout",
     "output_type": "stream",
     "text": [
      "Optimization terminated successfully.\n",
      "         Current function value: 0.692576\n",
      "         Iterations 3\n"
     ]
    }
   ],
   "source": [
    "log_reg1 = smf.logit(formula='avg_lead_target ~ tract_income', data=df_balanced1).fit()"
   ]
  },
  {
   "cell_type": "code",
   "execution_count": 400,
   "metadata": {},
   "outputs": [
    {
     "data": {
      "text/html": [
       "<table class=\"simpletable\">\n",
       "<caption>Logit Regression Results</caption>\n",
       "<tr>\n",
       "  <th>Dep. Variable:</th>    <td>avg_lead_target</td> <th>  No. Observations:  </th>  <td>  1109</td>  \n",
       "</tr>\n",
       "<tr>\n",
       "  <th>Model:</th>                 <td>Logit</td>      <th>  Df Residuals:      </th>  <td>  1107</td>  \n",
       "</tr>\n",
       "<tr>\n",
       "  <th>Method:</th>                 <td>MLE</td>       <th>  Df Model:          </th>  <td>     1</td>  \n",
       "</tr>\n",
       "<tr>\n",
       "  <th>Date:</th>            <td>Tue, 25 Apr 2023</td> <th>  Pseudo R-squ.:     </th> <td>0.0006130</td>\n",
       "</tr>\n",
       "<tr>\n",
       "  <th>Time:</th>                <td>01:16:05</td>     <th>  Log-Likelihood:    </th> <td> -768.07</td> \n",
       "</tr>\n",
       "<tr>\n",
       "  <th>converged:</th>             <td>True</td>       <th>  LL-Null:           </th> <td> -768.54</td> \n",
       "</tr>\n",
       "<tr>\n",
       "  <th>Covariance Type:</th>     <td>nonrobust</td>    <th>  LLR p-value:       </th>  <td>0.3317</td>  \n",
       "</tr>\n",
       "</table>\n",
       "<table class=\"simpletable\">\n",
       "<tr>\n",
       "        <td></td>          <th>coef</th>     <th>std err</th>      <th>z</th>      <th>P>|z|</th>  <th>[0.025</th>    <th>0.975]</th>  \n",
       "</tr>\n",
       "<tr>\n",
       "  <th>Intercept</th>    <td>    0.0982</td> <td>    0.149</td> <td>    0.658</td> <td> 0.510</td> <td>   -0.194</td> <td>    0.391</td>\n",
       "</tr>\n",
       "<tr>\n",
       "  <th>tract_income</th> <td>-1.997e-06</td> <td> 2.06e-06</td> <td>   -0.970</td> <td> 0.332</td> <td>-6.03e-06</td> <td> 2.04e-06</td>\n",
       "</tr>\n",
       "</table>"
      ],
      "text/plain": [
       "<class 'statsmodels.iolib.summary.Summary'>\n",
       "\"\"\"\n",
       "                           Logit Regression Results                           \n",
       "==============================================================================\n",
       "Dep. Variable:        avg_lead_target   No. Observations:                 1109\n",
       "Model:                          Logit   Df Residuals:                     1107\n",
       "Method:                           MLE   Df Model:                            1\n",
       "Date:                Tue, 25 Apr 2023   Pseudo R-squ.:               0.0006130\n",
       "Time:                        01:16:05   Log-Likelihood:                -768.07\n",
       "converged:                       True   LL-Null:                       -768.54\n",
       "Covariance Type:            nonrobust   LLR p-value:                    0.3317\n",
       "================================================================================\n",
       "                   coef    std err          z      P>|z|      [0.025      0.975]\n",
       "--------------------------------------------------------------------------------\n",
       "Intercept        0.0982      0.149      0.658      0.510      -0.194       0.391\n",
       "tract_income -1.997e-06   2.06e-06     -0.970      0.332   -6.03e-06    2.04e-06\n",
       "================================================================================\n",
       "\"\"\""
      ]
     },
     "execution_count": 400,
     "metadata": {},
     "output_type": "execute_result"
    }
   ],
   "source": [
    "log_reg1.summary()"
   ]
  },
  {
   "cell_type": "code",
   "execution_count": null,
   "metadata": {},
   "outputs": [],
   "source": []
  }
 ],
 "metadata": {
  "kernelspec": {
   "display_name": "base",
   "language": "python",
   "name": "python3"
  },
  "language_info": {
   "codemirror_mode": {
    "name": "ipython",
    "version": 3
   },
   "file_extension": ".py",
   "mimetype": "text/x-python",
   "name": "python",
   "nbconvert_exporter": "python",
   "pygments_lexer": "ipython3",
   "version": "3.9.13"
  },
  "orig_nbformat": 4
 },
 "nbformat": 4,
 "nbformat_minor": 2
}
