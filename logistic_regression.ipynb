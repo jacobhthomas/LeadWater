{
 "cells": [
  {
   "cell_type": "code",
   "execution_count": 353,
   "metadata": {},
   "outputs": [],
   "source": [
    "import numpy as np\n",
    "import pandas as pd\n",
    "import matplotlib.pyplot as plt\n",
    "import statsmodels.api as sm\n",
    "import statsmodels.formula.api as smf\n",
    "import matplotlib as mpl\n",
    "import matplotlib.cm as cm"
   ]
  },
  {
   "cell_type": "code",
   "execution_count": 354,
   "metadata": {},
   "outputs": [],
   "source": [
    "assessor_dir = 'datasets/assessorSequential.csv'\n",
    "df = pd.read_csv(assessor_dir)"
   ]
  },
  {
   "cell_type": "code",
   "execution_count": 355,
   "metadata": {},
   "outputs": [],
   "source": [
    "df = df.drop(columns=['Unnamed: 0','X11th.Draw','PIN','Township Code','Neighborhood Code','Age','Longitude','Latitude','ZIP'])"
   ]
  },
  {
   "cell_type": "code",
   "execution_count": 356,
   "metadata": {},
   "outputs": [
    {
     "data": {
      "text/plain": [
       "Index(['X1st.Draw', 'X2nd.Draw', 'X3rd.Draw', 'X4th.Draw', 'X5th.Draw',\n",
       "       'X6th.Draw', 'X7th.Draw', 'X8th.Draw', 'X9th.Draw', 'X10th.Draw'],\n",
       "      dtype='object')"
      ]
     },
     "execution_count": 356,
     "metadata": {},
     "output_type": "execute_result"
    }
   ],
   "source": [
    "draw_col = df.columns[2:12]\n",
    "draw_col"
   ]
  },
  {
   "cell_type": "code",
   "execution_count": 357,
   "metadata": {},
   "outputs": [],
   "source": [
    "df['avg_draw'] = df[draw_col].mean(axis=1)\n",
    "df = df.drop(columns=draw_col)"
   ]
  },
  {
   "cell_type": "code",
   "execution_count": 358,
   "metadata": {},
   "outputs": [],
   "source": [
    "df_full = df.copy()"
   ]
  },
  {
   "cell_type": "code",
   "execution_count": 359,
   "metadata": {},
   "outputs": [
    {
     "data": {
      "text/html": [
       "<div>\n",
       "<style scoped>\n",
       "    .dataframe tbody tr th:only-of-type {\n",
       "        vertical-align: middle;\n",
       "    }\n",
       "\n",
       "    .dataframe tbody tr th {\n",
       "        vertical-align: top;\n",
       "    }\n",
       "\n",
       "    .dataframe thead th {\n",
       "        text-align: right;\n",
       "    }\n",
       "</style>\n",
       "<table border=\"1\" class=\"dataframe\">\n",
       "  <thead>\n",
       "    <tr style=\"text-align: right;\">\n",
       "      <th></th>\n",
       "      <th>Date.Sampled</th>\n",
       "      <th>Address</th>\n",
       "      <th>Sale Price</th>\n",
       "      <th>Tract Median Income</th>\n",
       "      <th>avg_draw</th>\n",
       "    </tr>\n",
       "  </thead>\n",
       "  <tbody>\n",
       "    <tr>\n",
       "      <th>0</th>\n",
       "      <td>9/4/2019</td>\n",
       "      <td>100XX S BELL AVE</td>\n",
       "      <td>280000.0</td>\n",
       "      <td>122727.0</td>\n",
       "      <td>2.433</td>\n",
       "    </tr>\n",
       "    <tr>\n",
       "      <th>1</th>\n",
       "      <td>7/16/2016</td>\n",
       "      <td>100XX S CALHOUN AVE</td>\n",
       "      <td>NaN</td>\n",
       "      <td>44423.0</td>\n",
       "      <td>9.866</td>\n",
       "    </tr>\n",
       "    <tr>\n",
       "      <th>2</th>\n",
       "      <td>12/17/2019</td>\n",
       "      <td>100XX S CALUMET AVE</td>\n",
       "      <td>NaN</td>\n",
       "      <td>40612.0</td>\n",
       "      <td>10.399</td>\n",
       "    </tr>\n",
       "    <tr>\n",
       "      <th>3</th>\n",
       "      <td>12/14/2019</td>\n",
       "      <td>100XX S CARPENTER ST</td>\n",
       "      <td>NaN</td>\n",
       "      <td>37207.0</td>\n",
       "      <td>8.663</td>\n",
       "    </tr>\n",
       "    <tr>\n",
       "      <th>4</th>\n",
       "      <td>7/14/2021</td>\n",
       "      <td>100XX S CARPENTER ST</td>\n",
       "      <td>NaN</td>\n",
       "      <td>37207.0</td>\n",
       "      <td>9.280</td>\n",
       "    </tr>\n",
       "  </tbody>\n",
       "</table>\n",
       "</div>"
      ],
      "text/plain": [
       "  Date.Sampled               Address  Sale Price  Tract Median Income  \\\n",
       "0     9/4/2019      100XX S BELL AVE    280000.0             122727.0   \n",
       "1    7/16/2016   100XX S CALHOUN AVE         NaN              44423.0   \n",
       "2   12/17/2019   100XX S CALUMET AVE         NaN              40612.0   \n",
       "3   12/14/2019  100XX S CARPENTER ST         NaN              37207.0   \n",
       "4    7/14/2021  100XX S CARPENTER ST         NaN              37207.0   \n",
       "\n",
       "   avg_draw  \n",
       "0     2.433  \n",
       "1     9.866  \n",
       "2    10.399  \n",
       "3     8.663  \n",
       "4     9.280  "
      ]
     },
     "execution_count": 359,
     "metadata": {},
     "output_type": "execute_result"
    }
   ],
   "source": [
    "df_reduced = df.copy()\n",
    "df_full.head(5)"
   ]
  },
  {
   "cell_type": "code",
   "execution_count": 360,
   "metadata": {},
   "outputs": [
    {
     "data": {
      "text/plain": [
       "(149, 5)"
      ]
     },
     "execution_count": 360,
     "metadata": {},
     "output_type": "execute_result"
    }
   ],
   "source": [
    "df_full[~df_full.isin(['NaN', 'NaT']).any(axis=1)]\n",
    "df_full.shape\n",
    "df_full.dropna(inplace=True)\n",
    "df_full.shape"
   ]
  },
  {
   "cell_type": "code",
   "execution_count": 361,
   "metadata": {},
   "outputs": [],
   "source": [
    "#assign 0 to <7.5 and 1 to >=7.5\n",
    "df_full['avg_lead_target'] = np.where(df_full['avg_draw']<6, 0, 1)"
   ]
  },
  {
   "cell_type": "code",
   "execution_count": 362,
   "metadata": {},
   "outputs": [
    {
     "data": {
      "text/html": [
       "<div>\n",
       "<style scoped>\n",
       "    .dataframe tbody tr th:only-of-type {\n",
       "        vertical-align: middle;\n",
       "    }\n",
       "\n",
       "    .dataframe tbody tr th {\n",
       "        vertical-align: top;\n",
       "    }\n",
       "\n",
       "    .dataframe thead th {\n",
       "        text-align: right;\n",
       "    }\n",
       "</style>\n",
       "<table border=\"1\" class=\"dataframe\">\n",
       "  <thead>\n",
       "    <tr style=\"text-align: right;\">\n",
       "      <th></th>\n",
       "      <th>Date.Sampled</th>\n",
       "      <th>Address</th>\n",
       "      <th>Sale Price</th>\n",
       "      <th>Tract Median Income</th>\n",
       "      <th>avg_draw</th>\n",
       "      <th>avg_lead_target</th>\n",
       "    </tr>\n",
       "  </thead>\n",
       "  <tbody>\n",
       "    <tr>\n",
       "      <th>0</th>\n",
       "      <td>9/4/2019</td>\n",
       "      <td>100XX S BELL AVE</td>\n",
       "      <td>280000.0</td>\n",
       "      <td>122727.0</td>\n",
       "      <td>2.433</td>\n",
       "      <td>0</td>\n",
       "    </tr>\n",
       "    <tr>\n",
       "      <th>17</th>\n",
       "      <td>12/20/2016</td>\n",
       "      <td>102XX S ARTESIAN AVE</td>\n",
       "      <td>219000.0</td>\n",
       "      <td>98281.0</td>\n",
       "      <td>5.192</td>\n",
       "      <td>0</td>\n",
       "    </tr>\n",
       "    <tr>\n",
       "      <th>20</th>\n",
       "      <td>9/17/2019</td>\n",
       "      <td>102XX S OGLESBY AVE</td>\n",
       "      <td>147400.0</td>\n",
       "      <td>30069.0</td>\n",
       "      <td>27.250</td>\n",
       "      <td>1</td>\n",
       "    </tr>\n",
       "    <tr>\n",
       "      <th>21</th>\n",
       "      <td>9/28/2016</td>\n",
       "      <td>103XX S HAMILTON AVE</td>\n",
       "      <td>330000.0</td>\n",
       "      <td>110344.0</td>\n",
       "      <td>6.315</td>\n",
       "      <td>1</td>\n",
       "    </tr>\n",
       "    <tr>\n",
       "      <th>36</th>\n",
       "      <td>10/10/2019</td>\n",
       "      <td>105XX S CENTRAL PARK AVE</td>\n",
       "      <td>280000.0</td>\n",
       "      <td>100361.0</td>\n",
       "      <td>10.505</td>\n",
       "      <td>1</td>\n",
       "    </tr>\n",
       "    <tr>\n",
       "      <th>42</th>\n",
       "      <td>11/4/2021</td>\n",
       "      <td>105XX S KEDZIE AVE</td>\n",
       "      <td>290000.0</td>\n",
       "      <td>91924.0</td>\n",
       "      <td>14.775</td>\n",
       "      <td>1</td>\n",
       "    </tr>\n",
       "    <tr>\n",
       "      <th>44</th>\n",
       "      <td>8/30/2021</td>\n",
       "      <td>105XX S SEELEY AVE</td>\n",
       "      <td>464000.0</td>\n",
       "      <td>110344.0</td>\n",
       "      <td>5.901</td>\n",
       "      <td>0</td>\n",
       "    </tr>\n",
       "    <tr>\n",
       "      <th>49</th>\n",
       "      <td>11/30/2021</td>\n",
       "      <td>106XX S EBERHART AVE</td>\n",
       "      <td>86000.0</td>\n",
       "      <td>45273.0</td>\n",
       "      <td>15.010</td>\n",
       "      <td>1</td>\n",
       "    </tr>\n",
       "    <tr>\n",
       "      <th>65</th>\n",
       "      <td>12/6/2021</td>\n",
       "      <td>108XX S EGGLESTON AVE</td>\n",
       "      <td>146000.0</td>\n",
       "      <td>41167.0</td>\n",
       "      <td>2.018</td>\n",
       "      <td>0</td>\n",
       "    </tr>\n",
       "    <tr>\n",
       "      <th>67</th>\n",
       "      <td>3/2/2022</td>\n",
       "      <td>108XX S HAMLIN AVE</td>\n",
       "      <td>273000.0</td>\n",
       "      <td>118640.0</td>\n",
       "      <td>4.998</td>\n",
       "      <td>0</td>\n",
       "    </tr>\n",
       "  </tbody>\n",
       "</table>\n",
       "</div>"
      ],
      "text/plain": [
       "   Date.Sampled                   Address  Sale Price  Tract Median Income  \\\n",
       "0      9/4/2019          100XX S BELL AVE    280000.0             122727.0   \n",
       "17   12/20/2016      102XX S ARTESIAN AVE    219000.0              98281.0   \n",
       "20    9/17/2019       102XX S OGLESBY AVE    147400.0              30069.0   \n",
       "21    9/28/2016      103XX S HAMILTON AVE    330000.0             110344.0   \n",
       "36   10/10/2019  105XX S CENTRAL PARK AVE    280000.0             100361.0   \n",
       "42    11/4/2021        105XX S KEDZIE AVE    290000.0              91924.0   \n",
       "44    8/30/2021        105XX S SEELEY AVE    464000.0             110344.0   \n",
       "49   11/30/2021      106XX S EBERHART AVE     86000.0              45273.0   \n",
       "65    12/6/2021     108XX S EGGLESTON AVE    146000.0              41167.0   \n",
       "67     3/2/2022        108XX S HAMLIN AVE    273000.0             118640.0   \n",
       "\n",
       "    avg_draw  avg_lead_target  \n",
       "0      2.433                0  \n",
       "17     5.192                0  \n",
       "20    27.250                1  \n",
       "21     6.315                1  \n",
       "36    10.505                1  \n",
       "42    14.775                1  \n",
       "44     5.901                0  \n",
       "49    15.010                1  \n",
       "65     2.018                0  \n",
       "67     4.998                0  "
      ]
     },
     "execution_count": 362,
     "metadata": {},
     "output_type": "execute_result"
    }
   ],
   "source": [
    "df_full.head(10)"
   ]
  },
  {
   "cell_type": "code",
   "execution_count": 363,
   "metadata": {},
   "outputs": [
    {
     "data": {
      "text/plain": [
       "1    105\n",
       "0     44\n",
       "Name: avg_lead_target, dtype: int64"
      ]
     },
     "execution_count": 363,
     "metadata": {},
     "output_type": "execute_result"
    }
   ],
   "source": [
    "df_full['avg_lead_target'].value_counts()"
   ]
  },
  {
   "cell_type": "code",
   "execution_count": 364,
   "metadata": {},
   "outputs": [],
   "source": [
    "df_full['sale_price'] = df_full['Sale Price']\n",
    "df_full['tract_income'] = df_full['Tract Median Income']\n",
    "df_full = df_full.drop(columns=['Sale Price','Tract Median Income'])"
   ]
  },
  {
   "cell_type": "code",
   "execution_count": 365,
   "metadata": {},
   "outputs": [
    {
     "name": "stdout",
     "output_type": "stream",
     "text": [
      "(44, 6)\n"
     ]
    }
   ],
   "source": [
    "class_0 = df_full[df_full['avg_lead_target']==0]\n",
    "print(class_0.shape)\n",
    "class_1 = df_full[df_full['avg_lead_target']==1]\n",
    "\n",
    "class_1_under = class_1.sample(class_0.shape[0])\n",
    "\n",
    "df_balanced = pd.concat([class_0, class_1_under], axis=0)"
   ]
  },
  {
   "cell_type": "code",
   "execution_count": 366,
   "metadata": {},
   "outputs": [
    {
     "data": {
      "text/plain": [
       "0    44\n",
       "1    44\n",
       "Name: avg_lead_target, dtype: int64"
      ]
     },
     "execution_count": 366,
     "metadata": {},
     "output_type": "execute_result"
    }
   ],
   "source": [
    "df_balanced['avg_lead_target'].value_counts()"
   ]
  },
  {
   "cell_type": "code",
   "execution_count": 367,
   "metadata": {},
   "outputs": [
    {
     "data": {
      "text/html": [
       "<div>\n",
       "<style scoped>\n",
       "    .dataframe tbody tr th:only-of-type {\n",
       "        vertical-align: middle;\n",
       "    }\n",
       "\n",
       "    .dataframe tbody tr th {\n",
       "        vertical-align: top;\n",
       "    }\n",
       "\n",
       "    .dataframe thead th {\n",
       "        text-align: right;\n",
       "    }\n",
       "</style>\n",
       "<table border=\"1\" class=\"dataframe\">\n",
       "  <thead>\n",
       "    <tr style=\"text-align: right;\">\n",
       "      <th></th>\n",
       "      <th>Date.Sampled</th>\n",
       "      <th>Address</th>\n",
       "      <th>avg_draw</th>\n",
       "      <th>avg_lead_target</th>\n",
       "      <th>sale_price</th>\n",
       "      <th>tract_income</th>\n",
       "    </tr>\n",
       "  </thead>\n",
       "  <tbody>\n",
       "    <tr>\n",
       "      <th>0</th>\n",
       "      <td>9/4/2019</td>\n",
       "      <td>100XX S BELL AVE</td>\n",
       "      <td>2.433</td>\n",
       "      <td>0</td>\n",
       "      <td>280000.0</td>\n",
       "      <td>122727.0</td>\n",
       "    </tr>\n",
       "    <tr>\n",
       "      <th>17</th>\n",
       "      <td>12/20/2016</td>\n",
       "      <td>102XX S ARTESIAN AVE</td>\n",
       "      <td>5.192</td>\n",
       "      <td>0</td>\n",
       "      <td>219000.0</td>\n",
       "      <td>98281.0</td>\n",
       "    </tr>\n",
       "    <tr>\n",
       "      <th>44</th>\n",
       "      <td>8/30/2021</td>\n",
       "      <td>105XX S SEELEY AVE</td>\n",
       "      <td>5.901</td>\n",
       "      <td>0</td>\n",
       "      <td>464000.0</td>\n",
       "      <td>110344.0</td>\n",
       "    </tr>\n",
       "    <tr>\n",
       "      <th>65</th>\n",
       "      <td>12/6/2021</td>\n",
       "      <td>108XX S EGGLESTON AVE</td>\n",
       "      <td>2.018</td>\n",
       "      <td>0</td>\n",
       "      <td>146000.0</td>\n",
       "      <td>41167.0</td>\n",
       "    </tr>\n",
       "    <tr>\n",
       "      <th>67</th>\n",
       "      <td>3/2/2022</td>\n",
       "      <td>108XX S HAMLIN AVE</td>\n",
       "      <td>4.998</td>\n",
       "      <td>0</td>\n",
       "      <td>273000.0</td>\n",
       "      <td>118640.0</td>\n",
       "    </tr>\n",
       "    <tr>\n",
       "      <th>...</th>\n",
       "      <td>...</td>\n",
       "      <td>...</td>\n",
       "      <td>...</td>\n",
       "      <td>...</td>\n",
       "      <td>...</td>\n",
       "      <td>...</td>\n",
       "    </tr>\n",
       "    <tr>\n",
       "      <th>246</th>\n",
       "      <td>11/16/2020</td>\n",
       "      <td>15XX E 86TH ST</td>\n",
       "      <td>13.020</td>\n",
       "      <td>1</td>\n",
       "      <td>239900.0</td>\n",
       "      <td>42766.0</td>\n",
       "    </tr>\n",
       "    <tr>\n",
       "      <th>343</th>\n",
       "      <td>8/27/2016</td>\n",
       "      <td>18XX W WELLINGTON AVE</td>\n",
       "      <td>10.851</td>\n",
       "      <td>1</td>\n",
       "      <td>1200000.0</td>\n",
       "      <td>178750.0</td>\n",
       "    </tr>\n",
       "    <tr>\n",
       "      <th>1488</th>\n",
       "      <td>3/18/2022</td>\n",
       "      <td>72XX W BRYN MAWR AVE</td>\n",
       "      <td>8.810</td>\n",
       "      <td>1</td>\n",
       "      <td>328000.0</td>\n",
       "      <td>83197.0</td>\n",
       "    </tr>\n",
       "    <tr>\n",
       "      <th>1680</th>\n",
       "      <td>12/10/2019</td>\n",
       "      <td>89XX S JEFFERY BLVD</td>\n",
       "      <td>8.224</td>\n",
       "      <td>1</td>\n",
       "      <td>200000.0</td>\n",
       "      <td>50426.0</td>\n",
       "    </tr>\n",
       "    <tr>\n",
       "      <th>701</th>\n",
       "      <td>2/10/2022</td>\n",
       "      <td>35XX W 77TH PL</td>\n",
       "      <td>9.300</td>\n",
       "      <td>1</td>\n",
       "      <td>203000.0</td>\n",
       "      <td>62391.0</td>\n",
       "    </tr>\n",
       "  </tbody>\n",
       "</table>\n",
       "<p>88 rows × 6 columns</p>\n",
       "</div>"
      ],
      "text/plain": [
       "     Date.Sampled                Address  avg_draw  avg_lead_target  \\\n",
       "0        9/4/2019       100XX S BELL AVE     2.433                0   \n",
       "17     12/20/2016   102XX S ARTESIAN AVE     5.192                0   \n",
       "44      8/30/2021     105XX S SEELEY AVE     5.901                0   \n",
       "65      12/6/2021  108XX S EGGLESTON AVE     2.018                0   \n",
       "67       3/2/2022     108XX S HAMLIN AVE     4.998                0   \n",
       "...           ...                    ...       ...              ...   \n",
       "246    11/16/2020         15XX E 86TH ST    13.020                1   \n",
       "343     8/27/2016  18XX W WELLINGTON AVE    10.851                1   \n",
       "1488    3/18/2022   72XX W BRYN MAWR AVE     8.810                1   \n",
       "1680   12/10/2019    89XX S JEFFERY BLVD     8.224                1   \n",
       "701     2/10/2022         35XX W 77TH PL     9.300                1   \n",
       "\n",
       "      sale_price  tract_income  \n",
       "0       280000.0      122727.0  \n",
       "17      219000.0       98281.0  \n",
       "44      464000.0      110344.0  \n",
       "65      146000.0       41167.0  \n",
       "67      273000.0      118640.0  \n",
       "...          ...           ...  \n",
       "246     239900.0       42766.0  \n",
       "343    1200000.0      178750.0  \n",
       "1488    328000.0       83197.0  \n",
       "1680    200000.0       50426.0  \n",
       "701     203000.0       62391.0  \n",
       "\n",
       "[88 rows x 6 columns]"
      ]
     },
     "execution_count": 367,
     "metadata": {},
     "output_type": "execute_result"
    }
   ],
   "source": [
    "df_balanced"
   ]
  },
  {
   "cell_type": "code",
   "execution_count": 368,
   "metadata": {},
   "outputs": [
    {
     "name": "stdout",
     "output_type": "stream",
     "text": [
      "Optimization terminated successfully.\n",
      "         Current function value: 0.680425\n",
      "         Iterations 4\n"
     ]
    }
   ],
   "source": [
    "log_reg = smf.logit(formula='avg_lead_target ~ tract_income + sale_price', data=df_balanced).fit()"
   ]
  },
  {
   "cell_type": "code",
   "execution_count": 369,
   "metadata": {},
   "outputs": [
    {
     "name": "stdout",
     "output_type": "stream",
     "text": [
      "                           Logit Regression Results                           \n",
      "==============================================================================\n",
      "Dep. Variable:        avg_lead_target   No. Observations:                   88\n",
      "Model:                          Logit   Df Residuals:                       85\n",
      "Method:                           MLE   Df Model:                            2\n",
      "Date:                Tue, 25 Apr 2023   Pseudo R-squ.:                 0.01835\n",
      "Time:                        01:14:48   Log-Likelihood:                -59.877\n",
      "converged:                       True   LL-Null:                       -60.997\n",
      "Covariance Type:            nonrobust   LLR p-value:                    0.3264\n",
      "================================================================================\n",
      "                   coef    std err          z      P>|z|      [0.025      0.975]\n",
      "--------------------------------------------------------------------------------\n",
      "Intercept       -0.1459      0.567     -0.258      0.797      -1.257       0.965\n",
      "tract_income -6.472e-06   9.23e-06     -0.701      0.483   -2.46e-05    1.16e-05\n",
      "sale_price    1.606e-06   1.11e-06      1.451      0.147   -5.63e-07    3.77e-06\n",
      "================================================================================\n"
     ]
    }
   ],
   "source": [
    "print(log_reg.summary())"
   ]
  },
  {
   "cell_type": "code",
   "execution_count": 370,
   "metadata": {},
   "outputs": [
    {
     "name": "stdout",
     "output_type": "stream",
     "text": [
      "Optimization terminated successfully.\n",
      "         Current function value: 0.601887\n",
      "         Iterations 5\n"
     ]
    }
   ],
   "source": [
    "log_reg_reduced = smf.logit(formula='avg_lead_target ~ sale_price', data=df_full).fit()"
   ]
  },
  {
   "cell_type": "code",
   "execution_count": 371,
   "metadata": {},
   "outputs": [
    {
     "data": {
      "text/html": [
       "<table class=\"simpletable\">\n",
       "<caption>Logit Regression Results</caption>\n",
       "<tr>\n",
       "  <th>Dep. Variable:</th>    <td>avg_lead_target</td> <th>  No. Observations:  </th>  <td>   149</td> \n",
       "</tr>\n",
       "<tr>\n",
       "  <th>Model:</th>                 <td>Logit</td>      <th>  Df Residuals:      </th>  <td>   147</td> \n",
       "</tr>\n",
       "<tr>\n",
       "  <th>Method:</th>                 <td>MLE</td>       <th>  Df Model:          </th>  <td>     1</td> \n",
       "</tr>\n",
       "<tr>\n",
       "  <th>Date:</th>            <td>Tue, 25 Apr 2023</td> <th>  Pseudo R-squ.:     </th> <td>0.008146</td>\n",
       "</tr>\n",
       "<tr>\n",
       "  <th>Time:</th>                <td>01:14:48</td>     <th>  Log-Likelihood:    </th> <td> -89.681</td>\n",
       "</tr>\n",
       "<tr>\n",
       "  <th>converged:</th>             <td>True</td>       <th>  LL-Null:           </th> <td> -90.418</td>\n",
       "</tr>\n",
       "<tr>\n",
       "  <th>Covariance Type:</th>     <td>nonrobust</td>    <th>  LLR p-value:       </th>  <td>0.2248</td> \n",
       "</tr>\n",
       "</table>\n",
       "<table class=\"simpletable\">\n",
       "<tr>\n",
       "       <td></td>         <th>coef</th>     <th>std err</th>      <th>z</th>      <th>P>|z|</th>  <th>[0.025</th>    <th>0.975]</th>  \n",
       "</tr>\n",
       "<tr>\n",
       "  <th>Intercept</th>  <td>    0.5693</td> <td>    0.308</td> <td>    1.848</td> <td> 0.065</td> <td>   -0.034</td> <td>    1.173</td>\n",
       "</tr>\n",
       "<tr>\n",
       "  <th>sale_price</th> <td> 8.166e-07</td> <td> 7.07e-07</td> <td>    1.155</td> <td> 0.248</td> <td>-5.69e-07</td> <td>  2.2e-06</td>\n",
       "</tr>\n",
       "</table>"
      ],
      "text/plain": [
       "<class 'statsmodels.iolib.summary.Summary'>\n",
       "\"\"\"\n",
       "                           Logit Regression Results                           \n",
       "==============================================================================\n",
       "Dep. Variable:        avg_lead_target   No. Observations:                  149\n",
       "Model:                          Logit   Df Residuals:                      147\n",
       "Method:                           MLE   Df Model:                            1\n",
       "Date:                Tue, 25 Apr 2023   Pseudo R-squ.:                0.008146\n",
       "Time:                        01:14:48   Log-Likelihood:                -89.681\n",
       "converged:                       True   LL-Null:                       -90.418\n",
       "Covariance Type:            nonrobust   LLR p-value:                    0.2248\n",
       "==============================================================================\n",
       "                 coef    std err          z      P>|z|      [0.025      0.975]\n",
       "------------------------------------------------------------------------------\n",
       "Intercept      0.5693      0.308      1.848      0.065      -0.034       1.173\n",
       "sale_price  8.166e-07   7.07e-07      1.155      0.248   -5.69e-07     2.2e-06\n",
       "==============================================================================\n",
       "\"\"\""
      ]
     },
     "execution_count": 371,
     "metadata": {},
     "output_type": "execute_result"
    }
   ],
   "source": [
    "log_reg_reduced.summary()"
   ]
  },
  {
   "cell_type": "code",
   "execution_count": 372,
   "metadata": {},
   "outputs": [],
   "source": [
    "df_reduced = df_reduced[['Tract Median Income','avg_draw']]\n",
    "df_reduced['avg_lead_target'] = np.where(df_reduced['avg_draw']<9, 0, 1)\n",
    "df_reduced['tract_income'] = df_reduced['Tract Median Income']\n",
    "df_reduced = df_reduced.drop(columns=['Tract Median Income'])"
   ]
  },
  {
   "cell_type": "code",
   "execution_count": 373,
   "metadata": {},
   "outputs": [
    {
     "name": "stdout",
     "output_type": "stream",
     "text": [
      "(816, 3)\n"
     ]
    }
   ],
   "source": [
    "class_0 = df_reduced[df_reduced['avg_lead_target']==0]\n",
    "print(class_0.shape)\n",
    "class_1 = df_reduced[df_reduced['avg_lead_target']==1]\n",
    "\n",
    "class_1_under = class_1.sample(class_0.shape[0])\n",
    "\n",
    "df_balanced1 = pd.concat([class_0, class_1_under], axis=0)"
   ]
  },
  {
   "cell_type": "code",
   "execution_count": 374,
   "metadata": {},
   "outputs": [
    {
     "data": {
      "text/plain": [
       "0    816\n",
       "1    816\n",
       "Name: avg_lead_target, dtype: int64"
      ]
     },
     "execution_count": 374,
     "metadata": {},
     "output_type": "execute_result"
    }
   ],
   "source": [
    "df_balanced1['avg_lead_target'].value_counts()"
   ]
  },
  {
   "cell_type": "code",
   "execution_count": 375,
   "metadata": {},
   "outputs": [
    {
     "name": "stdout",
     "output_type": "stream",
     "text": [
      "Optimization terminated successfully.\n",
      "         Current function value: 0.692325\n",
      "         Iterations 3\n"
     ]
    }
   ],
   "source": [
    "log_reg1 = smf.logit(formula='avg_lead_target ~ tract_income', data=df_balanced1).fit()"
   ]
  },
  {
   "cell_type": "code",
   "execution_count": 376,
   "metadata": {},
   "outputs": [
    {
     "data": {
      "text/html": [
       "<table class=\"simpletable\">\n",
       "<caption>Logit Regression Results</caption>\n",
       "<tr>\n",
       "  <th>Dep. Variable:</th>    <td>avg_lead_target</td> <th>  No. Observations:  </th>  <td>  1104</td>  \n",
       "</tr>\n",
       "<tr>\n",
       "  <th>Model:</th>                 <td>Logit</td>      <th>  Df Residuals:      </th>  <td>  1102</td>  \n",
       "</tr>\n",
       "<tr>\n",
       "  <th>Method:</th>                 <td>MLE</td>       <th>  Df Model:          </th>  <td>     1</td>  \n",
       "</tr>\n",
       "<tr>\n",
       "  <th>Date:</th>            <td>Tue, 25 Apr 2023</td> <th>  Pseudo R-squ.:     </th> <td>0.0008461</td>\n",
       "</tr>\n",
       "<tr>\n",
       "  <th>Time:</th>                <td>01:14:49</td>     <th>  Log-Likelihood:    </th> <td> -764.33</td> \n",
       "</tr>\n",
       "<tr>\n",
       "  <th>converged:</th>             <td>True</td>       <th>  LL-Null:           </th> <td> -764.97</td> \n",
       "</tr>\n",
       "<tr>\n",
       "  <th>Covariance Type:</th>     <td>nonrobust</td>    <th>  LLR p-value:       </th>  <td>0.2552</td>  \n",
       "</tr>\n",
       "</table>\n",
       "<table class=\"simpletable\">\n",
       "<tr>\n",
       "        <td></td>          <th>coef</th>     <th>std err</th>      <th>z</th>      <th>P>|z|</th>  <th>[0.025</th>    <th>0.975]</th>  \n",
       "</tr>\n",
       "<tr>\n",
       "  <th>Intercept</th>    <td>    0.1103</td> <td>    0.148</td> <td>    0.745</td> <td> 0.456</td> <td>   -0.180</td> <td>    0.401</td>\n",
       "</tr>\n",
       "<tr>\n",
       "  <th>tract_income</th> <td>-2.324e-06</td> <td> 2.05e-06</td> <td>   -1.136</td> <td> 0.256</td> <td>-6.33e-06</td> <td> 1.68e-06</td>\n",
       "</tr>\n",
       "</table>"
      ],
      "text/plain": [
       "<class 'statsmodels.iolib.summary.Summary'>\n",
       "\"\"\"\n",
       "                           Logit Regression Results                           \n",
       "==============================================================================\n",
       "Dep. Variable:        avg_lead_target   No. Observations:                 1104\n",
       "Model:                          Logit   Df Residuals:                     1102\n",
       "Method:                           MLE   Df Model:                            1\n",
       "Date:                Tue, 25 Apr 2023   Pseudo R-squ.:               0.0008461\n",
       "Time:                        01:14:49   Log-Likelihood:                -764.33\n",
       "converged:                       True   LL-Null:                       -764.97\n",
       "Covariance Type:            nonrobust   LLR p-value:                    0.2552\n",
       "================================================================================\n",
       "                   coef    std err          z      P>|z|      [0.025      0.975]\n",
       "--------------------------------------------------------------------------------\n",
       "Intercept        0.1103      0.148      0.745      0.456      -0.180       0.401\n",
       "tract_income -2.324e-06   2.05e-06     -1.136      0.256   -6.33e-06    1.68e-06\n",
       "================================================================================\n",
       "\"\"\""
      ]
     },
     "execution_count": 376,
     "metadata": {},
     "output_type": "execute_result"
    }
   ],
   "source": [
    "log_reg1.summary()"
   ]
  },
  {
   "cell_type": "code",
   "execution_count": null,
   "metadata": {},
   "outputs": [],
   "source": []
  }
 ],
 "metadata": {
  "kernelspec": {
   "display_name": "base",
   "language": "python",
   "name": "python3"
  },
  "language_info": {
   "codemirror_mode": {
    "name": "ipython",
    "version": 3
   },
   "file_extension": ".py",
   "mimetype": "text/x-python",
   "name": "python",
   "nbconvert_exporter": "python",
   "pygments_lexer": "ipython3",
   "version": "3.9.13"
  },
  "orig_nbformat": 4
 },
 "nbformat": 4,
 "nbformat_minor": 2
}
