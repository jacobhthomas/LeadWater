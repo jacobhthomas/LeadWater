{
  "cells": [
    {
      "cell_type": "code",
      "execution_count": 51,
      "metadata": {
        "id": "q4hgfDuzVmYV"
      },
      "outputs": [],
      "source": [
        "import numpy as np\n",
        "import pandas as pd\n",
        "import matplotlib.pyplot as plt\n",
        "\n",
        "import matplotlib as mpl\n",
        "import matplotlib.cm as cm"
      ]
    },
    {
      "cell_type": "markdown",
      "metadata": {
        "id": "2Iqz5Z-jvwhR"
      },
      "source": [
        "Assessor Sales Data Preprocessing"
      ]
    },
    {
      "cell_type": "markdown",
      "metadata": {
        "id": "ldjkNvkPv0PN"
      },
      "source": [
        "Link to Dataset: https://datacatalog.cookcountyil.gov/Property-Taxation/Assessor-Archived-05-11-2022-Residential-Sales-Dat/5pge-nu6u"
      ]
    },
    {
      "cell_type": "code",
      "execution_count": 82,
      "metadata": {
        "colab": {
          "base_uri": "https://localhost:8080/"
        },
        "id": "RQHTj7Q3wOrl",
        "outputId": "6f8c63c1-6870-4e17-c3c3-6ee99f96c856"
      },
      "outputs": [],
      "source": [
        "assessor_dir = 'LeadWater/datasets/assessorSequential.csv' \n",
        "df = pd.read_csv(assessor_dir)\n",
        "# assessor_df = assessor_df_cleaned(assessor_df)"
      ]
    },
    {
      "cell_type": "code",
      "execution_count": 83,
      "metadata": {},
      "outputs": [],
      "source": [
        "df.drop(columns=['Unnamed: 0', 'PIN','Township Code','Neighborhood Code','Tract Median Income','Age','ZIP','Longitude','Latitude'], inplace=True)"
      ]
    },
    {
      "cell_type": "code",
      "execution_count": 84,
      "metadata": {},
      "outputs": [
        {
          "data": {
            "text/html": [
              "<div>\n",
              "<style scoped>\n",
              "    .dataframe tbody tr th:only-of-type {\n",
              "        vertical-align: middle;\n",
              "    }\n",
              "\n",
              "    .dataframe tbody tr th {\n",
              "        vertical-align: top;\n",
              "    }\n",
              "\n",
              "    .dataframe thead th {\n",
              "        text-align: right;\n",
              "    }\n",
              "</style>\n",
              "<table border=\"1\" class=\"dataframe\">\n",
              "  <thead>\n",
              "    <tr style=\"text-align: right;\">\n",
              "      <th></th>\n",
              "      <th>Date.Sampled</th>\n",
              "      <th>Address</th>\n",
              "      <th>X1st.Draw</th>\n",
              "      <th>X2nd.Draw</th>\n",
              "      <th>X3rd.Draw</th>\n",
              "      <th>X4th.Draw</th>\n",
              "      <th>X5th.Draw</th>\n",
              "      <th>X6th.Draw</th>\n",
              "      <th>X7th.Draw</th>\n",
              "      <th>X8th.Draw</th>\n",
              "      <th>X9th.Draw</th>\n",
              "      <th>X10th.Draw</th>\n",
              "      <th>X11th.Draw</th>\n",
              "      <th>Sale Price</th>\n",
              "    </tr>\n",
              "  </thead>\n",
              "  <tbody>\n",
              "    <tr>\n",
              "      <th>0</th>\n",
              "      <td>9/4/2019</td>\n",
              "      <td>100XX S BELL AVE</td>\n",
              "      <td>1.52</td>\n",
              "      <td>1.37</td>\n",
              "      <td>1.59</td>\n",
              "      <td>2.53</td>\n",
              "      <td>2.44</td>\n",
              "      <td>1.90</td>\n",
              "      <td>2.45</td>\n",
              "      <td>2.92</td>\n",
              "      <td>3.75</td>\n",
              "      <td>3.86</td>\n",
              "      <td>4.35</td>\n",
              "      <td>280000.0</td>\n",
              "    </tr>\n",
              "    <tr>\n",
              "      <th>1</th>\n",
              "      <td>7/16/2016</td>\n",
              "      <td>100XX S CALHOUN AVE</td>\n",
              "      <td>3.70</td>\n",
              "      <td>2.62</td>\n",
              "      <td>8.83</td>\n",
              "      <td>13.80</td>\n",
              "      <td>13.20</td>\n",
              "      <td>13.60</td>\n",
              "      <td>12.30</td>\n",
              "      <td>11.80</td>\n",
              "      <td>10.80</td>\n",
              "      <td>8.01</td>\n",
              "      <td>2.75</td>\n",
              "      <td>NaN</td>\n",
              "    </tr>\n",
              "    <tr>\n",
              "      <th>2</th>\n",
              "      <td>12/17/2019</td>\n",
              "      <td>100XX S CALUMET AVE</td>\n",
              "      <td>4.02</td>\n",
              "      <td>5.35</td>\n",
              "      <td>6.97</td>\n",
              "      <td>6.55</td>\n",
              "      <td>17.70</td>\n",
              "      <td>16.60</td>\n",
              "      <td>12.10</td>\n",
              "      <td>11.60</td>\n",
              "      <td>12.00</td>\n",
              "      <td>11.10</td>\n",
              "      <td>8.72</td>\n",
              "      <td>NaN</td>\n",
              "    </tr>\n",
              "    <tr>\n",
              "      <th>3</th>\n",
              "      <td>12/14/2019</td>\n",
              "      <td>100XX S CARPENTER ST</td>\n",
              "      <td>9.54</td>\n",
              "      <td>7.31</td>\n",
              "      <td>6.95</td>\n",
              "      <td>5.63</td>\n",
              "      <td>4.91</td>\n",
              "      <td>7.15</td>\n",
              "      <td>12.40</td>\n",
              "      <td>13.10</td>\n",
              "      <td>10.10</td>\n",
              "      <td>9.54</td>\n",
              "      <td>7.23</td>\n",
              "      <td>NaN</td>\n",
              "    </tr>\n",
              "    <tr>\n",
              "      <th>4</th>\n",
              "      <td>7/14/2021</td>\n",
              "      <td>100XX S CARPENTER ST</td>\n",
              "      <td>14.00</td>\n",
              "      <td>11.00</td>\n",
              "      <td>8.83</td>\n",
              "      <td>8.12</td>\n",
              "      <td>8.69</td>\n",
              "      <td>7.14</td>\n",
              "      <td>11.00</td>\n",
              "      <td>7.51</td>\n",
              "      <td>8.50</td>\n",
              "      <td>8.01</td>\n",
              "      <td>NaN</td>\n",
              "      <td>NaN</td>\n",
              "    </tr>\n",
              "  </tbody>\n",
              "</table>\n",
              "</div>"
            ],
            "text/plain": [
              "  Date.Sampled               Address  X1st.Draw  X2nd.Draw  X3rd.Draw  \\\n",
              "0     9/4/2019      100XX S BELL AVE       1.52       1.37       1.59   \n",
              "1    7/16/2016   100XX S CALHOUN AVE       3.70       2.62       8.83   \n",
              "2   12/17/2019   100XX S CALUMET AVE       4.02       5.35       6.97   \n",
              "3   12/14/2019  100XX S CARPENTER ST       9.54       7.31       6.95   \n",
              "4    7/14/2021  100XX S CARPENTER ST      14.00      11.00       8.83   \n",
              "\n",
              "   X4th.Draw  X5th.Draw  X6th.Draw  X7th.Draw  X8th.Draw  X9th.Draw  \\\n",
              "0       2.53       2.44       1.90       2.45       2.92       3.75   \n",
              "1      13.80      13.20      13.60      12.30      11.80      10.80   \n",
              "2       6.55      17.70      16.60      12.10      11.60      12.00   \n",
              "3       5.63       4.91       7.15      12.40      13.10      10.10   \n",
              "4       8.12       8.69       7.14      11.00       7.51       8.50   \n",
              "\n",
              "   X10th.Draw  X11th.Draw  Sale Price  \n",
              "0        3.86        4.35    280000.0  \n",
              "1        8.01        2.75         NaN  \n",
              "2       11.10        8.72         NaN  \n",
              "3        9.54        7.23         NaN  \n",
              "4        8.01         NaN         NaN  "
            ]
          },
          "execution_count": 84,
          "metadata": {},
          "output_type": "execute_result"
        }
      ],
      "source": [
        "df.head(5)"
      ]
    },
    {
      "cell_type": "markdown",
      "metadata": {
        "id": "QnfVqv81wTzz"
      },
      "source": [
        "Lead Water Concentration Data Preprocessing"
      ]
    },
    {
      "cell_type": "code",
      "execution_count": 85,
      "metadata": {
        "colab": {
          "base_uri": "https://localhost:8080/"
        },
        "id": "dyZF7QMowgtn",
        "outputId": "84286a27-62f8-4fa2-d440-f3c2af114a3e"
      },
      "outputs": [
        {
          "data": {
            "text/plain": [
              "(125, 14)"
            ]
          },
          "execution_count": 85,
          "metadata": {},
          "output_type": "execute_result"
        }
      ],
      "source": [
        "df[~df.isin(['NaN']).any(axis=1)]\n",
        "df.shape\n",
        "df.dropna(inplace=True)\n",
        "df.shape"
      ]
    },
    {
      "cell_type": "code",
      "execution_count": 86,
      "metadata": {
        "colab": {
          "base_uri": "https://localhost:8080/",
          "height": 409
        },
        "id": "f1HJcpYlw_kC",
        "outputId": "4d1ec18a-31ba-4ebf-ab6f-35a33740f32d"
      },
      "outputs": [
        {
          "data": {
            "text/html": [
              "<div>\n",
              "<style scoped>\n",
              "    .dataframe tbody tr th:only-of-type {\n",
              "        vertical-align: middle;\n",
              "    }\n",
              "\n",
              "    .dataframe tbody tr th {\n",
              "        vertical-align: top;\n",
              "    }\n",
              "\n",
              "    .dataframe thead th {\n",
              "        text-align: right;\n",
              "    }\n",
              "</style>\n",
              "<table border=\"1\" class=\"dataframe\">\n",
              "  <thead>\n",
              "    <tr style=\"text-align: right;\">\n",
              "      <th></th>\n",
              "      <th>Date.Sampled</th>\n",
              "      <th>Address</th>\n",
              "      <th>X1st.Draw</th>\n",
              "      <th>X2nd.Draw</th>\n",
              "      <th>X3rd.Draw</th>\n",
              "      <th>X4th.Draw</th>\n",
              "      <th>X5th.Draw</th>\n",
              "      <th>X6th.Draw</th>\n",
              "      <th>X7th.Draw</th>\n",
              "      <th>X8th.Draw</th>\n",
              "      <th>X9th.Draw</th>\n",
              "      <th>X10th.Draw</th>\n",
              "      <th>X11th.Draw</th>\n",
              "      <th>Sale Price</th>\n",
              "    </tr>\n",
              "  </thead>\n",
              "  <tbody>\n",
              "    <tr>\n",
              "      <th>0</th>\n",
              "      <td>9/4/2019</td>\n",
              "      <td>100XX S BELL AVE</td>\n",
              "      <td>1.52</td>\n",
              "      <td>1.37</td>\n",
              "      <td>1.59</td>\n",
              "      <td>2.53</td>\n",
              "      <td>2.44</td>\n",
              "      <td>1.90</td>\n",
              "      <td>2.45</td>\n",
              "      <td>2.92</td>\n",
              "      <td>3.75</td>\n",
              "      <td>3.86</td>\n",
              "      <td>4.35</td>\n",
              "      <td>280000.0</td>\n",
              "    </tr>\n",
              "    <tr>\n",
              "      <th>17</th>\n",
              "      <td>12/20/2016</td>\n",
              "      <td>102XX S ARTESIAN AVE</td>\n",
              "      <td>4.62</td>\n",
              "      <td>4.92</td>\n",
              "      <td>6.12</td>\n",
              "      <td>6.08</td>\n",
              "      <td>5.76</td>\n",
              "      <td>5.28</td>\n",
              "      <td>4.81</td>\n",
              "      <td>4.85</td>\n",
              "      <td>4.86</td>\n",
              "      <td>4.62</td>\n",
              "      <td>1.26</td>\n",
              "      <td>219000.0</td>\n",
              "    </tr>\n",
              "    <tr>\n",
              "      <th>20</th>\n",
              "      <td>9/17/2019</td>\n",
              "      <td>102XX S OGLESBY AVE</td>\n",
              "      <td>9.70</td>\n",
              "      <td>25.60</td>\n",
              "      <td>41.50</td>\n",
              "      <td>42.10</td>\n",
              "      <td>36.20</td>\n",
              "      <td>31.20</td>\n",
              "      <td>26.00</td>\n",
              "      <td>23.70</td>\n",
              "      <td>20.30</td>\n",
              "      <td>16.20</td>\n",
              "      <td>4.85</td>\n",
              "      <td>147400.0</td>\n",
              "    </tr>\n",
              "    <tr>\n",
              "      <th>21</th>\n",
              "      <td>9/28/2016</td>\n",
              "      <td>103XX S HAMILTON AVE</td>\n",
              "      <td>1.24</td>\n",
              "      <td>3.35</td>\n",
              "      <td>3.23</td>\n",
              "      <td>6.19</td>\n",
              "      <td>6.78</td>\n",
              "      <td>6.57</td>\n",
              "      <td>8.94</td>\n",
              "      <td>9.38</td>\n",
              "      <td>8.98</td>\n",
              "      <td>8.49</td>\n",
              "      <td>8.88</td>\n",
              "      <td>330000.0</td>\n",
              "    </tr>\n",
              "    <tr>\n",
              "      <th>36</th>\n",
              "      <td>10/10/2019</td>\n",
              "      <td>105XX S CENTRAL PARK AVE</td>\n",
              "      <td>4.35</td>\n",
              "      <td>3.59</td>\n",
              "      <td>3.55</td>\n",
              "      <td>3.60</td>\n",
              "      <td>8.56</td>\n",
              "      <td>15.50</td>\n",
              "      <td>18.70</td>\n",
              "      <td>18.00</td>\n",
              "      <td>15.00</td>\n",
              "      <td>14.20</td>\n",
              "      <td>1.70</td>\n",
              "      <td>280000.0</td>\n",
              "    </tr>\n",
              "  </tbody>\n",
              "</table>\n",
              "</div>"
            ],
            "text/plain": [
              "   Date.Sampled                   Address  X1st.Draw  X2nd.Draw  X3rd.Draw  \\\n",
              "0      9/4/2019          100XX S BELL AVE       1.52       1.37       1.59   \n",
              "17   12/20/2016      102XX S ARTESIAN AVE       4.62       4.92       6.12   \n",
              "20    9/17/2019       102XX S OGLESBY AVE       9.70      25.60      41.50   \n",
              "21    9/28/2016      103XX S HAMILTON AVE       1.24       3.35       3.23   \n",
              "36   10/10/2019  105XX S CENTRAL PARK AVE       4.35       3.59       3.55   \n",
              "\n",
              "    X4th.Draw  X5th.Draw  X6th.Draw  X7th.Draw  X8th.Draw  X9th.Draw  \\\n",
              "0        2.53       2.44       1.90       2.45       2.92       3.75   \n",
              "17       6.08       5.76       5.28       4.81       4.85       4.86   \n",
              "20      42.10      36.20      31.20      26.00      23.70      20.30   \n",
              "21       6.19       6.78       6.57       8.94       9.38       8.98   \n",
              "36       3.60       8.56      15.50      18.70      18.00      15.00   \n",
              "\n",
              "    X10th.Draw  X11th.Draw  Sale Price  \n",
              "0         3.86        4.35    280000.0  \n",
              "17        4.62        1.26    219000.0  \n",
              "20       16.20        4.85    147400.0  \n",
              "21        8.49        8.88    330000.0  \n",
              "36       14.20        1.70    280000.0  "
            ]
          },
          "execution_count": 86,
          "metadata": {},
          "output_type": "execute_result"
        }
      ],
      "source": [
        "df.head(5)"
      ]
    },
    {
      "cell_type": "code",
      "execution_count": null,
      "metadata": {},
      "outputs": [],
      "source": []
    },
    {
      "cell_type": "code",
      "execution_count": 62,
      "metadata": {},
      "outputs": [],
      "source": [
        "col_name = df.columns[2:13]\n",
        "col_name\n",
        "df['Median Lead Draw'] = df[col_name].median(axis=1)"
      ]
    },
    {
      "cell_type": "code",
      "execution_count": 63,
      "metadata": {},
      "outputs": [
        {
          "data": {
            "text/html": [
              "<div>\n",
              "<style scoped>\n",
              "    .dataframe tbody tr th:only-of-type {\n",
              "        vertical-align: middle;\n",
              "    }\n",
              "\n",
              "    .dataframe tbody tr th {\n",
              "        vertical-align: top;\n",
              "    }\n",
              "\n",
              "    .dataframe thead th {\n",
              "        text-align: right;\n",
              "    }\n",
              "</style>\n",
              "<table border=\"1\" class=\"dataframe\">\n",
              "  <thead>\n",
              "    <tr style=\"text-align: right;\">\n",
              "      <th></th>\n",
              "      <th>Date.Sampled</th>\n",
              "      <th>Address</th>\n",
              "      <th>X1st.Draw</th>\n",
              "      <th>X2nd.Draw</th>\n",
              "      <th>X3rd.Draw</th>\n",
              "      <th>X4th.Draw</th>\n",
              "      <th>X5th.Draw</th>\n",
              "      <th>X6th.Draw</th>\n",
              "      <th>X7th.Draw</th>\n",
              "      <th>X8th.Draw</th>\n",
              "      <th>X9th.Draw</th>\n",
              "      <th>X10th.Draw</th>\n",
              "      <th>X11th.Draw</th>\n",
              "      <th>Sale Price</th>\n",
              "      <th>Median Lead Draw</th>\n",
              "    </tr>\n",
              "  </thead>\n",
              "  <tbody>\n",
              "    <tr>\n",
              "      <th>0</th>\n",
              "      <td>9/4/2019</td>\n",
              "      <td>100XX S BELL AVE</td>\n",
              "      <td>1.52</td>\n",
              "      <td>1.37</td>\n",
              "      <td>1.59</td>\n",
              "      <td>2.53</td>\n",
              "      <td>2.44</td>\n",
              "      <td>1.90</td>\n",
              "      <td>2.45</td>\n",
              "      <td>2.92</td>\n",
              "      <td>3.75</td>\n",
              "      <td>3.86</td>\n",
              "      <td>4.35</td>\n",
              "      <td>280000.0</td>\n",
              "      <td>2.45</td>\n",
              "    </tr>\n",
              "    <tr>\n",
              "      <th>17</th>\n",
              "      <td>12/20/2016</td>\n",
              "      <td>102XX S ARTESIAN AVE</td>\n",
              "      <td>4.62</td>\n",
              "      <td>4.92</td>\n",
              "      <td>6.12</td>\n",
              "      <td>6.08</td>\n",
              "      <td>5.76</td>\n",
              "      <td>5.28</td>\n",
              "      <td>4.81</td>\n",
              "      <td>4.85</td>\n",
              "      <td>4.86</td>\n",
              "      <td>4.62</td>\n",
              "      <td>1.26</td>\n",
              "      <td>219000.0</td>\n",
              "      <td>4.86</td>\n",
              "    </tr>\n",
              "    <tr>\n",
              "      <th>20</th>\n",
              "      <td>9/17/2019</td>\n",
              "      <td>102XX S OGLESBY AVE</td>\n",
              "      <td>9.70</td>\n",
              "      <td>25.60</td>\n",
              "      <td>41.50</td>\n",
              "      <td>42.10</td>\n",
              "      <td>36.20</td>\n",
              "      <td>31.20</td>\n",
              "      <td>26.00</td>\n",
              "      <td>23.70</td>\n",
              "      <td>20.30</td>\n",
              "      <td>16.20</td>\n",
              "      <td>4.85</td>\n",
              "      <td>147400.0</td>\n",
              "      <td>25.60</td>\n",
              "    </tr>\n",
              "    <tr>\n",
              "      <th>21</th>\n",
              "      <td>9/28/2016</td>\n",
              "      <td>103XX S HAMILTON AVE</td>\n",
              "      <td>1.24</td>\n",
              "      <td>3.35</td>\n",
              "      <td>3.23</td>\n",
              "      <td>6.19</td>\n",
              "      <td>6.78</td>\n",
              "      <td>6.57</td>\n",
              "      <td>8.94</td>\n",
              "      <td>9.38</td>\n",
              "      <td>8.98</td>\n",
              "      <td>8.49</td>\n",
              "      <td>8.88</td>\n",
              "      <td>330000.0</td>\n",
              "      <td>6.78</td>\n",
              "    </tr>\n",
              "    <tr>\n",
              "      <th>36</th>\n",
              "      <td>10/10/2019</td>\n",
              "      <td>105XX S CENTRAL PARK AVE</td>\n",
              "      <td>4.35</td>\n",
              "      <td>3.59</td>\n",
              "      <td>3.55</td>\n",
              "      <td>3.60</td>\n",
              "      <td>8.56</td>\n",
              "      <td>15.50</td>\n",
              "      <td>18.70</td>\n",
              "      <td>18.00</td>\n",
              "      <td>15.00</td>\n",
              "      <td>14.20</td>\n",
              "      <td>1.70</td>\n",
              "      <td>280000.0</td>\n",
              "      <td>8.56</td>\n",
              "    </tr>\n",
              "  </tbody>\n",
              "</table>\n",
              "</div>"
            ],
            "text/plain": [
              "   Date.Sampled                   Address  X1st.Draw  X2nd.Draw  X3rd.Draw  \\\n",
              "0      9/4/2019          100XX S BELL AVE       1.52       1.37       1.59   \n",
              "17   12/20/2016      102XX S ARTESIAN AVE       4.62       4.92       6.12   \n",
              "20    9/17/2019       102XX S OGLESBY AVE       9.70      25.60      41.50   \n",
              "21    9/28/2016      103XX S HAMILTON AVE       1.24       3.35       3.23   \n",
              "36   10/10/2019  105XX S CENTRAL PARK AVE       4.35       3.59       3.55   \n",
              "\n",
              "    X4th.Draw  X5th.Draw  X6th.Draw  X7th.Draw  X8th.Draw  X9th.Draw  \\\n",
              "0        2.53       2.44       1.90       2.45       2.92       3.75   \n",
              "17       6.08       5.76       5.28       4.81       4.85       4.86   \n",
              "20      42.10      36.20      31.20      26.00      23.70      20.30   \n",
              "21       6.19       6.78       6.57       8.94       9.38       8.98   \n",
              "36       3.60       8.56      15.50      18.70      18.00      15.00   \n",
              "\n",
              "    X10th.Draw  X11th.Draw  Sale Price  Median Lead Draw  \n",
              "0         3.86        4.35    280000.0              2.45  \n",
              "17        4.62        1.26    219000.0              4.86  \n",
              "20       16.20        4.85    147400.0             25.60  \n",
              "21        8.49        8.88    330000.0              6.78  \n",
              "36       14.20        1.70    280000.0              8.56  "
            ]
          },
          "execution_count": 63,
          "metadata": {},
          "output_type": "execute_result"
        }
      ],
      "source": [
        "df.head(5)"
      ]
    },
    {
      "cell_type": "code",
      "execution_count": 64,
      "metadata": {},
      "outputs": [
        {
          "data": {
            "text/html": [
              "<div>\n",
              "<style scoped>\n",
              "    .dataframe tbody tr th:only-of-type {\n",
              "        vertical-align: middle;\n",
              "    }\n",
              "\n",
              "    .dataframe tbody tr th {\n",
              "        vertical-align: top;\n",
              "    }\n",
              "\n",
              "    .dataframe thead th {\n",
              "        text-align: right;\n",
              "    }\n",
              "</style>\n",
              "<table border=\"1\" class=\"dataframe\">\n",
              "  <thead>\n",
              "    <tr style=\"text-align: right;\">\n",
              "      <th></th>\n",
              "      <th>Date.Sampled</th>\n",
              "      <th>Address</th>\n",
              "      <th>Sale Price</th>\n",
              "      <th>Median Lead Draw</th>\n",
              "    </tr>\n",
              "  </thead>\n",
              "  <tbody>\n",
              "    <tr>\n",
              "      <th>0</th>\n",
              "      <td>9/4/2019</td>\n",
              "      <td>100XX S BELL AVE</td>\n",
              "      <td>280000.0</td>\n",
              "      <td>2.45</td>\n",
              "    </tr>\n",
              "    <tr>\n",
              "      <th>17</th>\n",
              "      <td>12/20/2016</td>\n",
              "      <td>102XX S ARTESIAN AVE</td>\n",
              "      <td>219000.0</td>\n",
              "      <td>4.86</td>\n",
              "    </tr>\n",
              "    <tr>\n",
              "      <th>20</th>\n",
              "      <td>9/17/2019</td>\n",
              "      <td>102XX S OGLESBY AVE</td>\n",
              "      <td>147400.0</td>\n",
              "      <td>25.60</td>\n",
              "    </tr>\n",
              "    <tr>\n",
              "      <th>21</th>\n",
              "      <td>9/28/2016</td>\n",
              "      <td>103XX S HAMILTON AVE</td>\n",
              "      <td>330000.0</td>\n",
              "      <td>6.78</td>\n",
              "    </tr>\n",
              "    <tr>\n",
              "      <th>36</th>\n",
              "      <td>10/10/2019</td>\n",
              "      <td>105XX S CENTRAL PARK AVE</td>\n",
              "      <td>280000.0</td>\n",
              "      <td>8.56</td>\n",
              "    </tr>\n",
              "  </tbody>\n",
              "</table>\n",
              "</div>"
            ],
            "text/plain": [
              "   Date.Sampled                   Address  Sale Price  Median Lead Draw\n",
              "0      9/4/2019          100XX S BELL AVE    280000.0              2.45\n",
              "17   12/20/2016      102XX S ARTESIAN AVE    219000.0              4.86\n",
              "20    9/17/2019       102XX S OGLESBY AVE    147400.0             25.60\n",
              "21    9/28/2016      103XX S HAMILTON AVE    330000.0              6.78\n",
              "36   10/10/2019  105XX S CENTRAL PARK AVE    280000.0              8.56"
            ]
          },
          "execution_count": 64,
          "metadata": {},
          "output_type": "execute_result"
        }
      ],
      "source": [
        "df = df.drop(columns=df.columns[2:13])\n",
        "df.head(5)"
      ]
    },
    {
      "cell_type": "code",
      "execution_count": 65,
      "metadata": {
        "id": "ZHIdfKIIyIAz"
      },
      "outputs": [],
      "source": [
        "import seaborn as sns\n",
        "import scipy.stats as stats\n",
        "import statsmodels.api as sm"
      ]
    },
    {
      "cell_type": "code",
      "execution_count": 66,
      "metadata": {
        "colab": {
          "base_uri": "https://localhost:8080/",
          "height": 895
        },
        "id": "4Ra6Ngajxv-U",
        "outputId": "4d21e330-5979-4157-b63f-b4500a07f490"
      },
      "outputs": [
        {
          "name": "stderr",
          "output_type": "stream",
          "text": [
            "/opt/conda/lib/python3.9/site-packages/seaborn/distributions.py:2619: FutureWarning: `distplot` is a deprecated function and will be removed in a future version. Please adapt your code to use either `displot` (a figure-level function with similar flexibility) or `histplot` (an axes-level function for histograms).\n",
            "  warnings.warn(msg, FutureWarning)\n"
          ]
        },
        {
          "data": {
            "image/png": "[encoded data removed]",
            "text/plain": [
              "<Figure size 1000x800 with 1 Axes>"
            ]
          },
          "metadata": {},
          "output_type": "display_data"
        }
      ],
      "source": [
        "plt.rcParams['figure.figsize'] = 10, 8\n",
        "plt.rcParams['font.size'] = 12\n",
        "\n",
        "\n",
        "sns.distplot(df['Median Lead Draw'], hist=True, kde=True,  \n",
        "             hist_kws={'edgecolor':'black'},\n",
        "             kde_kws={'linewidth': 4})\n",
        "plt.xlim(0, 40)\n",
        "plt.show()"
      ]
    },
    {
      "cell_type": "code",
      "execution_count": 67,
      "metadata": {
        "id": "vxBj19Gu7Ya-"
      },
      "outputs": [],
      "source": [
        "import datetime as dt"
      ]
    },
    {
      "cell_type": "code",
      "execution_count": 68,
      "metadata": {
        "id": "wkD9-r6N8deL"
      },
      "outputs": [],
      "source": [
        "df_year = df[['Date.Sampled','Sale Price', 'Median Lead Draw']]"
      ]
    },
    {
      "cell_type": "code",
      "execution_count": 69,
      "metadata": {
        "id": "7vhhgEW3IkBs"
      },
      "outputs": [],
      "source": [
        "q33 = df_year['Sale Price'].quantile(0.33)\n",
        "q66 = df_year['Sale Price'].quantile(0.66)"
      ]
    },
    {
      "cell_type": "code",
      "execution_count": 70,
      "metadata": {
        "id": "-Q6SrO3t0qKG"
      },
      "outputs": [],
      "source": [
        "df_low = df_year.drop(df_year[df_year['Sale Price'] > q33].index)\n",
        "med_low = df_low['Median Lead Draw'].tolist()"
      ]
    },
    {
      "cell_type": "code",
      "execution_count": 71,
      "metadata": {
        "id": "jYjV_rSd4sXv"
      },
      "outputs": [],
      "source": [
        "df_mid = df_year.drop(df_year[df_year['Sale Price'] <= q33].index)\n",
        "med_mid = df_mid['Median Lead Draw'].tolist()"
      ]
    },
    {
      "cell_type": "code",
      "execution_count": 72,
      "metadata": {
        "id": "mb9Nyqr38r73"
      },
      "outputs": [],
      "source": [
        "df_mid.drop(df_mid[df_mid['Sale Price'] > q66].index,inplace=True)"
      ]
    },
    {
      "cell_type": "code",
      "execution_count": 73,
      "metadata": {
        "id": "Ql88rTlZ4322"
      },
      "outputs": [],
      "source": [
        "df_high = df_year.drop(df_year[df_year['Sale Price'] <= q66].index)\n",
        "med_high = df_high['Median Lead Draw'].tolist()"
      ]
    },
    {
      "cell_type": "code",
      "execution_count": 74,
      "metadata": {
        "id": "bCq86vqi9J3M"
      },
      "outputs": [],
      "source": [
        "from scipy.stats import f_oneway\n",
        "from scipy.stats import ttest_ind"
      ]
    },
    {
      "cell_type": "code",
      "execution_count": 75,
      "metadata": {
        "colab": {
          "base_uri": "https://localhost:8080/"
        },
        "id": "olw36cFj9G_9",
        "outputId": "98fc7866-b51d-4caa-e853-f198f944b048"
      },
      "outputs": [
        {
          "name": "stdout",
          "output_type": "stream",
          "text": [
            "ANOVA: low vs mid vs high Sale Price: p-value= 0.7337351437278643\n"
          ]
        }
      ],
      "source": [
        "print('ANOVA: low vs mid vs high Sale Price: p-value=', f_oneway(med_low, med_mid, med_high)[1])"
      ]
    },
    {
      "cell_type": "code",
      "execution_count": 76,
      "metadata": {
        "colab": {
          "base_uri": "https://localhost:8080/"
        },
        "id": "sKqzcfJaBHbt",
        "outputId": "99902dbd-7a1d-4088-8c84-032d49b62eb2"
      },
      "outputs": [
        {
          "name": "stdout",
          "output_type": "stream",
          "text": [
            "T-test: low vs high Sales: p-value= 0.467715793479597\n",
            "T-test: low vs mid Sales: p-value= 0.7934638325613391\n",
            "T-test: med vs high Sales: p-value= 0.5370994208660924\n"
          ]
        }
      ],
      "source": [
        "print('T-test: low vs high Sales: p-value=', ttest_ind(med_low, med_high, random_state=232)[1])\n",
        "print('T-test: low vs mid Sales: p-value=', ttest_ind(med_low, med_mid, random_state=232)[1])\n",
        "print('T-test: med vs high Sales: p-value=', ttest_ind(med_mid, med_high, random_state=232)[1])"
      ]
    },
    {
      "cell_type": "code",
      "execution_count": 79,
      "metadata": {
        "id": "AhRex0sxBbi6"
      },
      "outputs": [
        {
          "name": "stderr",
          "output_type": "stream",
          "text": [
            "/opt/conda/lib/python3.9/site-packages/seaborn/distributions.py:2619: FutureWarning: `distplot` is a deprecated function and will be removed in a future version. Please adapt your code to use either `displot` (a figure-level function with similar flexibility) or `kdeplot` (an axes-level function for kernel density plots).\n",
            "  warnings.warn(msg, FutureWarning)\n",
            "/opt/conda/lib/python3.9/site-packages/seaborn/distributions.py:2619: FutureWarning: `distplot` is a deprecated function and will be removed in a future version. Please adapt your code to use either `displot` (a figure-level function with similar flexibility) or `kdeplot` (an axes-level function for kernel density plots).\n",
            "  warnings.warn(msg, FutureWarning)\n",
            "/opt/conda/lib/python3.9/site-packages/seaborn/distributions.py:2619: FutureWarning: `distplot` is a deprecated function and will be removed in a future version. Please adapt your code to use either `displot` (a figure-level function with similar flexibility) or `kdeplot` (an axes-level function for kernel density plots).\n",
            "  warnings.warn(msg, FutureWarning)\n"
          ]
        },
        {
          "data": {
            "image/png": "[encoded data removed]",
            "text/plain": [
              "<Figure size 1000x800 with 1 Axes>"
            ]
          },
          "metadata": {},
          "output_type": "display_data"
        }
      ],
      "source": [
        "#t test distribution\n",
        "sns.distplot(med_low, hist=False, kde=True,\n",
        "                hist_kws={'edgecolor':'black'},\n",
        "                kde_kws={'linewidth': 4})\n",
        "sns.distplot(med_mid, hist=False, kde=True,\n",
        "                hist_kws={'edgecolor':'black'}, \n",
        "                kde_kws={'linewidth': 4})\n",
        "sns.distplot(med_high, hist=False, kde=True,\n",
        "                hist_kws={'edgecolor':'black'},\n",
        "                kde_kws={'linewidth': 4})\n",
        "plt.xlim(0, 40)\n",
        "#legend\n",
        "plt.legend(['low', 'mid', 'high'])\n",
        "plt.show()\n"
      ]
    },
    {
      "cell_type": "code",
      "execution_count": 80,
      "metadata": {},
      "outputs": [
        {
          "data": {
            "text/html": [
              "<div>\n",
              "<style scoped>\n",
              "    .dataframe tbody tr th:only-of-type {\n",
              "        vertical-align: middle;\n",
              "    }\n",
              "\n",
              "    .dataframe tbody tr th {\n",
              "        vertical-align: top;\n",
              "    }\n",
              "\n",
              "    .dataframe thead th {\n",
              "        text-align: right;\n",
              "    }\n",
              "</style>\n",
              "<table border=\"1\" class=\"dataframe\">\n",
              "  <thead>\n",
              "    <tr style=\"text-align: right;\">\n",
              "      <th></th>\n",
              "      <th>Sale Price</th>\n",
              "      <th>Median Lead Draw</th>\n",
              "    </tr>\n",
              "  </thead>\n",
              "  <tbody>\n",
              "    <tr>\n",
              "      <th>count</th>\n",
              "      <td>1.250000e+02</td>\n",
              "      <td>125.000000</td>\n",
              "    </tr>\n",
              "    <tr>\n",
              "      <th>mean</th>\n",
              "      <td>4.108050e+05</td>\n",
              "      <td>9.284720</td>\n",
              "    </tr>\n",
              "    <tr>\n",
              "      <th>std</th>\n",
              "      <td>2.991434e+05</td>\n",
              "      <td>6.656478</td>\n",
              "    </tr>\n",
              "    <tr>\n",
              "      <th>min</th>\n",
              "      <td>2.000000e+04</td>\n",
              "      <td>0.380000</td>\n",
              "    </tr>\n",
              "    <tr>\n",
              "      <th>25%</th>\n",
              "      <td>2.200000e+05</td>\n",
              "      <td>4.660000</td>\n",
              "    </tr>\n",
              "    <tr>\n",
              "      <th>50%</th>\n",
              "      <td>3.330000e+05</td>\n",
              "      <td>8.200000</td>\n",
              "    </tr>\n",
              "    <tr>\n",
              "      <th>75%</th>\n",
              "      <td>5.050000e+05</td>\n",
              "      <td>12.000000</td>\n",
              "    </tr>\n",
              "    <tr>\n",
              "      <th>max</th>\n",
              "      <td>1.975000e+06</td>\n",
              "      <td>32.400000</td>\n",
              "    </tr>\n",
              "  </tbody>\n",
              "</table>\n",
              "</div>"
            ],
            "text/plain": [
              "         Sale Price  Median Lead Draw\n",
              "count  1.250000e+02        125.000000\n",
              "mean   4.108050e+05          9.284720\n",
              "std    2.991434e+05          6.656478\n",
              "min    2.000000e+04          0.380000\n",
              "25%    2.200000e+05          4.660000\n",
              "50%    3.330000e+05          8.200000\n",
              "75%    5.050000e+05         12.000000\n",
              "max    1.975000e+06         32.400000"
            ]
          },
          "execution_count": 80,
          "metadata": {},
          "output_type": "execute_result"
        }
      ],
      "source": [
        "#Descriptive Statistics\n",
        "df_year.describe()\n"
      ]
    },
    {
      "cell_type": "code",
      "execution_count": null,
      "metadata": {},
      "outputs": [],
      "source": []
    }
  ],
  "metadata": {
    "colab": {
      "provenance": []
    },
    "kernelspec": {
      "display_name": "Python 3.9.15 64-bit",
      "language": "python",
      "name": "python3"
    },
    "language_info": {
      "codemirror_mode": {
        "name": "ipython",
        "version": 3
      },
      "file_extension": ".py",
      "mimetype": "text/x-python",
      "name": "python",
      "nbconvert_exporter": "python",
      "pygments_lexer": "ipython3",
      "version": "3.9.13"
    },
    "vscode": {
      "interpreter": {
        "hash": "397704579725e15f5c7cb49fe5f0341eb7531c82d19f2c29d197e8b64ab5776b"
      }
    }
  },
  "nbformat": 4,
  "nbformat_minor": 0
}
