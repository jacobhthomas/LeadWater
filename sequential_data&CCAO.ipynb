{
  "nbformat": 4,
  "nbformat_minor": 0,
  "metadata": {
    "colab": {
      "provenance": []
    },
    "kernelspec": {
      "name": "python3",
      "display_name": "Python 3"
    },
    "language_info": {
      "name": "python"
    }
  },
  "cells": [
    {
      "cell_type": "code",
      "execution_count": null,
      "metadata": {
        "colab": {
          "base_uri": "https://localhost:8080/"
        },
        "id": "A4G1ZzKWazcG",
        "outputId": "f3259a24-32e0-4dbf-e760-073393ad55e7"
      },
      "outputs": [
        {
          "output_type": "stream",
          "name": "stdout",
          "text": [
            "Mounted at /content/drive\n"
          ]
        }
      ],
      "source": [
        "from google.colab import drive\n",
        "drive.mount('/content/drive')"
      ]
    },
    {
      "cell_type": "code",
      "source": [
        "import numpy as np\n",
        "import pandas as pd\n",
        "import matplotlib.pyplot as plt\n",
        "\n",
        "import matplotlib as mpl\n",
        "import matplotlib.cm as cm"
      ],
      "metadata": {
        "id": "3S2K6jJwbDRP"
      },
      "execution_count": null,
      "outputs": []
    },
    {
      "cell_type": "markdown",
      "source": [
        "Assessor Sales Data Preprocessing"
      ],
      "metadata": {
        "id": "Br8WaEQNv2wS"
      }
    },
    {
      "cell_type": "markdown",
      "source": [
        "Link to Dataset: https://datacatalog.cookcountyil.gov/Property-Taxation/Assessor-Archived-05-11-2022-Residential-Sales-Dat/5pge-nu6u"
      ],
      "metadata": {
        "id": "Bpe1DsIpwXQe"
      }
    },
    {
      "cell_type": "code",
      "source": [
        "def cast_address_format(address): \n",
        "    lst_address = address.split(' ')\n",
        "    lst_address[0] = lst_address[0][0:-2]\n",
        "    lst_address[0] = lst_address[0] + 'XX'\n",
        "    return ' '.join(x for x in lst_address)\n",
        "\n",
        "print(cast_address_format('10011 Wabash Ave'))"
      ],
      "metadata": {
        "id": "W-CfV_uY4xZp",
        "colab": {
          "base_uri": "https://localhost:8080/"
        },
        "outputId": "4e9af28a-daf1-46ac-b996-921b0768c2cb"
      },
      "execution_count": null,
      "outputs": [
        {
          "output_type": "stream",
          "name": "stdout",
          "text": [
            "100XX Wabash Ave\n"
          ]
        }
      ]
    },
    {
      "cell_type": "code",
      "source": [],
      "metadata": {
        "id": "XcGTtBnl83h8"
      },
      "execution_count": null,
      "outputs": []
    },
    {
      "cell_type": "code",
      "source": [
        "def assessor_df_cleaned(assessor_df):\n",
        "    assessor_df = assessor_df[['Property Address','Sale Price']]\n",
        "    assessor_df['Property Address'] = assessor_df['Property Address'].str.title()\n",
        "    assessor_df['Property Address'] = assessor_df['Property Address'].astype(str)\n",
        "    # assessor_df['Property Address'] = assessor_df['Property Address'].str.replace(r'\\d{2}(?=\\D*$)','XX')\n",
        "    assessor_df['Property Address'] = assessor_df['Property Address'].apply(lambda x: cast_address_format(x))\n",
        "    assessor_df['Address'] = assessor_df['Property Address']\n",
        "    assessor_df = assessor_df.drop(columns=['Property Address'])\n",
        "    assessor_df = assessor_df.groupby('Address')['Sale Price'].mean().reset_index()\n",
        "    return assessor_df"
      ],
      "metadata": {
        "id": "Mo9ZEyLANyZa"
      },
      "execution_count": null,
      "outputs": []
    },
    {
      "cell_type": "code",
      "source": [
        "assessor_dir = '/content/drive/MyDrive/MATH 497 Subteam 3/Code Files & Github/Dataset/Assessor__Archived_05-11-2022__-_Residential_Sales_Data.csv' \n",
        "assessor_df = pd.read_csv(assessor_dir)\n",
        "# assessor_df = assessor_df_cleaned(assessor_df)"
      ],
      "metadata": {
        "id": "xzte3bfUv2JP"
      },
      "execution_count": null,
      "outputs": []
    },
    {
      "cell_type": "code",
      "source": [
        "assessor_df.head(10)"
      ],
      "metadata": {
        "colab": {
          "base_uri": "https://localhost:8080/",
          "height": 508
        },
        "id": "UmmKG3wKOmee",
        "outputId": "7004714e-16cf-496b-a105-83fe305adfbf"
      },
      "execution_count": null,
      "outputs": [
        {
          "output_type": "execute_result",
          "data": {
            "text/plain": [
              "              PIN  Property Class  Neighborhood Code  Land Square Feet  \\\n",
              "0  17273100931118             299                 40          365398.0   \n",
              "1  18013090421010             299                 52           19551.0   \n",
              "2  16094150130000             211                 13            4500.0   \n",
              "3  12253140491007             299                 80           12148.0   \n",
              "4  12111190201042             299                390           48470.0   \n",
              "5   4252000820000             204                100           33898.0   \n",
              "6   3293400251060             299                 72           21930.0   \n",
              "7  13093160601015             299                402            8893.0   \n",
              "8  14322110150000             208                 12            3720.0   \n",
              "9  27021200080000             204                 34           16079.0   \n",
              "\n",
              "   Town Code  Type of Residence  Apartments  Wall Material  Roof Material  \\\n",
              "0         76                NaN         NaN            NaN            NaN   \n",
              "1         21                NaN         NaN            NaN            NaN   \n",
              "2         77                3.0         6.0            2.0            2.0   \n",
              "3         20                NaN         NaN            NaN            NaN   \n",
              "4         71                NaN         NaN            NaN            NaN   \n",
              "5         25                5.0         0.0            2.0            4.0   \n",
              "6         38                NaN         NaN            NaN            NaN   \n",
              "7         71                NaN         NaN            NaN            NaN   \n",
              "8         74                3.0         0.0            2.0            6.0   \n",
              "9         28                1.0         0.0            3.0            1.0   \n",
              "\n",
              "   Rooms  ...  Age Decade Squared  Lot Size Squared  Improvement Size Squared  \\\n",
              "0    NaN  ...               19.36      1.335157e+11                       NaN   \n",
              "1    NaN  ...               32.49      3.822416e+08                       NaN   \n",
              "2   24.0  ...               75.69      2.025000e+07                55279225.0   \n",
              "3    NaN  ...                6.76      1.475739e+08                       NaN   \n",
              "4    NaN  ...               20.25      2.349341e+09                       NaN   \n",
              "5   11.0  ...               37.21      1.149074e+09                22014864.0   \n",
              "6    NaN  ...                1.69      4.809249e+08                       NaN   \n",
              "7    NaN  ...               22.09      7.908545e+07                       NaN   \n",
              "8    9.0  ...                0.16      1.383840e+07                18378369.0   \n",
              "9    7.0  ...                8.41      2.585342e+08                 4875264.0   \n",
              "\n",
              "   Pure Market Filter  Garage Indicator  Neigborhood Code (mapping)  \\\n",
              "0                   1               NaN                          40   \n",
              "1                   1               NaN                          52   \n",
              "2                   1               1.0                          13   \n",
              "3                   1               NaN                          80   \n",
              "4                   1               NaN                         390   \n",
              "5                   1               1.0                         100   \n",
              "6                   1               NaN                          72   \n",
              "7                   1               NaN                         402   \n",
              "8                   1               1.0                          12   \n",
              "9                   1               1.0                          34   \n",
              "\n",
              "   Square root of lot size  Square root of age  \\\n",
              "0               604.481596            6.633250   \n",
              "1               139.824890            7.549834   \n",
              "2                67.082039            9.327379   \n",
              "3               110.217966            5.099020   \n",
              "4               220.159033            6.708204   \n",
              "5               184.114095            7.810250   \n",
              "6               148.087812            3.605551   \n",
              "7                94.302704            6.855655   \n",
              "8                60.991803            2.000000   \n",
              "9               126.802997            5.385165   \n",
              "\n",
              "   Square root of improvement size  Town and Neighborhood  \n",
              "0                              NaN                   7640  \n",
              "1                              NaN                   2152  \n",
              "2                        86.226446                   7713  \n",
              "3                              NaN                   2080  \n",
              "4                              NaN                  71390  \n",
              "5                        68.498175                  25100  \n",
              "6                              NaN                   3872  \n",
              "7                              NaN                  71402  \n",
              "8                        65.475186                   7412  \n",
              "9                        46.989360                   2834  \n",
              "\n",
              "[10 rows x 83 columns]"
            ],
            "text/html": [
              "\n",
              "  <div id=\"df-39e15742-d444-43c5-8d4b-5c0310d076b2\">\n",
              "    <div class=\"colab-df-container\">\n",
              "      <div>\n",
              "<style scoped>\n",
              "    .dataframe tbody tr th:only-of-type {\n",
              "        vertical-align: middle;\n",
              "    }\n",
              "\n",
              "    .dataframe tbody tr th {\n",
              "        vertical-align: top;\n",
              "    }\n",
              "\n",
              "    .dataframe thead th {\n",
              "        text-align: right;\n",
              "    }\n",
              "</style>\n",
              "<table border=\"1\" class=\"dataframe\">\n",
              "  <thead>\n",
              "    <tr style=\"text-align: right;\">\n",
              "      <th></th>\n",
              "      <th>PIN</th>\n",
              "      <th>Property Class</th>\n",
              "      <th>Neighborhood Code</th>\n",
              "      <th>Land Square Feet</th>\n",
              "      <th>Town Code</th>\n",
              "      <th>Type of Residence</th>\n",
              "      <th>Apartments</th>\n",
              "      <th>Wall Material</th>\n",
              "      <th>Roof Material</th>\n",
              "      <th>Rooms</th>\n",
              "      <th>...</th>\n",
              "      <th>Age Decade Squared</th>\n",
              "      <th>Lot Size Squared</th>\n",
              "      <th>Improvement Size Squared</th>\n",
              "      <th>Pure Market Filter</th>\n",
              "      <th>Garage Indicator</th>\n",
              "      <th>Neigborhood Code (mapping)</th>\n",
              "      <th>Square root of lot size</th>\n",
              "      <th>Square root of age</th>\n",
              "      <th>Square root of improvement size</th>\n",
              "      <th>Town and Neighborhood</th>\n",
              "    </tr>\n",
              "  </thead>\n",
              "  <tbody>\n",
              "    <tr>\n",
              "      <th>0</th>\n",
              "      <td>17273100931118</td>\n",
              "      <td>299</td>\n",
              "      <td>40</td>\n",
              "      <td>365398.0</td>\n",
              "      <td>76</td>\n",
              "      <td>NaN</td>\n",
              "      <td>NaN</td>\n",
              "      <td>NaN</td>\n",
              "      <td>NaN</td>\n",
              "      <td>NaN</td>\n",
              "      <td>...</td>\n",
              "      <td>19.36</td>\n",
              "      <td>1.335157e+11</td>\n",
              "      <td>NaN</td>\n",
              "      <td>1</td>\n",
              "      <td>NaN</td>\n",
              "      <td>40</td>\n",
              "      <td>604.481596</td>\n",
              "      <td>6.633250</td>\n",
              "      <td>NaN</td>\n",
              "      <td>7640</td>\n",
              "    </tr>\n",
              "    <tr>\n",
              "      <th>1</th>\n",
              "      <td>18013090421010</td>\n",
              "      <td>299</td>\n",
              "      <td>52</td>\n",
              "      <td>19551.0</td>\n",
              "      <td>21</td>\n",
              "      <td>NaN</td>\n",
              "      <td>NaN</td>\n",
              "      <td>NaN</td>\n",
              "      <td>NaN</td>\n",
              "      <td>NaN</td>\n",
              "      <td>...</td>\n",
              "      <td>32.49</td>\n",
              "      <td>3.822416e+08</td>\n",
              "      <td>NaN</td>\n",
              "      <td>1</td>\n",
              "      <td>NaN</td>\n",
              "      <td>52</td>\n",
              "      <td>139.824890</td>\n",
              "      <td>7.549834</td>\n",
              "      <td>NaN</td>\n",
              "      <td>2152</td>\n",
              "    </tr>\n",
              "    <tr>\n",
              "      <th>2</th>\n",
              "      <td>16094150130000</td>\n",
              "      <td>211</td>\n",
              "      <td>13</td>\n",
              "      <td>4500.0</td>\n",
              "      <td>77</td>\n",
              "      <td>3.0</td>\n",
              "      <td>6.0</td>\n",
              "      <td>2.0</td>\n",
              "      <td>2.0</td>\n",
              "      <td>24.0</td>\n",
              "      <td>...</td>\n",
              "      <td>75.69</td>\n",
              "      <td>2.025000e+07</td>\n",
              "      <td>55279225.0</td>\n",
              "      <td>1</td>\n",
              "      <td>1.0</td>\n",
              "      <td>13</td>\n",
              "      <td>67.082039</td>\n",
              "      <td>9.327379</td>\n",
              "      <td>86.226446</td>\n",
              "      <td>7713</td>\n",
              "    </tr>\n",
              "    <tr>\n",
              "      <th>3</th>\n",
              "      <td>12253140491007</td>\n",
              "      <td>299</td>\n",
              "      <td>80</td>\n",
              "      <td>12148.0</td>\n",
              "      <td>20</td>\n",
              "      <td>NaN</td>\n",
              "      <td>NaN</td>\n",
              "      <td>NaN</td>\n",
              "      <td>NaN</td>\n",
              "      <td>NaN</td>\n",
              "      <td>...</td>\n",
              "      <td>6.76</td>\n",
              "      <td>1.475739e+08</td>\n",
              "      <td>NaN</td>\n",
              "      <td>1</td>\n",
              "      <td>NaN</td>\n",
              "      <td>80</td>\n",
              "      <td>110.217966</td>\n",
              "      <td>5.099020</td>\n",
              "      <td>NaN</td>\n",
              "      <td>2080</td>\n",
              "    </tr>\n",
              "    <tr>\n",
              "      <th>4</th>\n",
              "      <td>12111190201042</td>\n",
              "      <td>299</td>\n",
              "      <td>390</td>\n",
              "      <td>48470.0</td>\n",
              "      <td>71</td>\n",
              "      <td>NaN</td>\n",
              "      <td>NaN</td>\n",
              "      <td>NaN</td>\n",
              "      <td>NaN</td>\n",
              "      <td>NaN</td>\n",
              "      <td>...</td>\n",
              "      <td>20.25</td>\n",
              "      <td>2.349341e+09</td>\n",
              "      <td>NaN</td>\n",
              "      <td>1</td>\n",
              "      <td>NaN</td>\n",
              "      <td>390</td>\n",
              "      <td>220.159033</td>\n",
              "      <td>6.708204</td>\n",
              "      <td>NaN</td>\n",
              "      <td>71390</td>\n",
              "    </tr>\n",
              "    <tr>\n",
              "      <th>5</th>\n",
              "      <td>4252000820000</td>\n",
              "      <td>204</td>\n",
              "      <td>100</td>\n",
              "      <td>33898.0</td>\n",
              "      <td>25</td>\n",
              "      <td>5.0</td>\n",
              "      <td>0.0</td>\n",
              "      <td>2.0</td>\n",
              "      <td>4.0</td>\n",
              "      <td>11.0</td>\n",
              "      <td>...</td>\n",
              "      <td>37.21</td>\n",
              "      <td>1.149074e+09</td>\n",
              "      <td>22014864.0</td>\n",
              "      <td>1</td>\n",
              "      <td>1.0</td>\n",
              "      <td>100</td>\n",
              "      <td>184.114095</td>\n",
              "      <td>7.810250</td>\n",
              "      <td>68.498175</td>\n",
              "      <td>25100</td>\n",
              "    </tr>\n",
              "    <tr>\n",
              "      <th>6</th>\n",
              "      <td>3293400251060</td>\n",
              "      <td>299</td>\n",
              "      <td>72</td>\n",
              "      <td>21930.0</td>\n",
              "      <td>38</td>\n",
              "      <td>NaN</td>\n",
              "      <td>NaN</td>\n",
              "      <td>NaN</td>\n",
              "      <td>NaN</td>\n",
              "      <td>NaN</td>\n",
              "      <td>...</td>\n",
              "      <td>1.69</td>\n",
              "      <td>4.809249e+08</td>\n",
              "      <td>NaN</td>\n",
              "      <td>1</td>\n",
              "      <td>NaN</td>\n",
              "      <td>72</td>\n",
              "      <td>148.087812</td>\n",
              "      <td>3.605551</td>\n",
              "      <td>NaN</td>\n",
              "      <td>3872</td>\n",
              "    </tr>\n",
              "    <tr>\n",
              "      <th>7</th>\n",
              "      <td>13093160601015</td>\n",
              "      <td>299</td>\n",
              "      <td>402</td>\n",
              "      <td>8893.0</td>\n",
              "      <td>71</td>\n",
              "      <td>NaN</td>\n",
              "      <td>NaN</td>\n",
              "      <td>NaN</td>\n",
              "      <td>NaN</td>\n",
              "      <td>NaN</td>\n",
              "      <td>...</td>\n",
              "      <td>22.09</td>\n",
              "      <td>7.908545e+07</td>\n",
              "      <td>NaN</td>\n",
              "      <td>1</td>\n",
              "      <td>NaN</td>\n",
              "      <td>402</td>\n",
              "      <td>94.302704</td>\n",
              "      <td>6.855655</td>\n",
              "      <td>NaN</td>\n",
              "      <td>71402</td>\n",
              "    </tr>\n",
              "    <tr>\n",
              "      <th>8</th>\n",
              "      <td>14322110150000</td>\n",
              "      <td>208</td>\n",
              "      <td>12</td>\n",
              "      <td>3720.0</td>\n",
              "      <td>74</td>\n",
              "      <td>3.0</td>\n",
              "      <td>0.0</td>\n",
              "      <td>2.0</td>\n",
              "      <td>6.0</td>\n",
              "      <td>9.0</td>\n",
              "      <td>...</td>\n",
              "      <td>0.16</td>\n",
              "      <td>1.383840e+07</td>\n",
              "      <td>18378369.0</td>\n",
              "      <td>1</td>\n",
              "      <td>1.0</td>\n",
              "      <td>12</td>\n",
              "      <td>60.991803</td>\n",
              "      <td>2.000000</td>\n",
              "      <td>65.475186</td>\n",
              "      <td>7412</td>\n",
              "    </tr>\n",
              "    <tr>\n",
              "      <th>9</th>\n",
              "      <td>27021200080000</td>\n",
              "      <td>204</td>\n",
              "      <td>34</td>\n",
              "      <td>16079.0</td>\n",
              "      <td>28</td>\n",
              "      <td>1.0</td>\n",
              "      <td>0.0</td>\n",
              "      <td>3.0</td>\n",
              "      <td>1.0</td>\n",
              "      <td>7.0</td>\n",
              "      <td>...</td>\n",
              "      <td>8.41</td>\n",
              "      <td>2.585342e+08</td>\n",
              "      <td>4875264.0</td>\n",
              "      <td>1</td>\n",
              "      <td>1.0</td>\n",
              "      <td>34</td>\n",
              "      <td>126.802997</td>\n",
              "      <td>5.385165</td>\n",
              "      <td>46.989360</td>\n",
              "      <td>2834</td>\n",
              "    </tr>\n",
              "  </tbody>\n",
              "</table>\n",
              "<p>10 rows × 83 columns</p>\n",
              "</div>\n",
              "      <button class=\"colab-df-convert\" onclick=\"convertToInteractive('df-39e15742-d444-43c5-8d4b-5c0310d076b2')\"\n",
              "              title=\"Convert this dataframe to an interactive table.\"\n",
              "              style=\"display:none;\">\n",
              "        \n",
              "  <svg xmlns=\"http://www.w3.org/2000/svg\" height=\"24px\"viewBox=\"0 0 24 24\"\n",
              "       width=\"24px\">\n",
              "    <path d=\"M0 0h24v24H0V0z\" fill=\"none\"/>\n",
              "    <path d=\"M18.56 5.44l.94 2.06.94-2.06 2.06-.94-2.06-.94-.94-2.06-.94 2.06-2.06.94zm-11 1L8.5 8.5l.94-2.06 2.06-.94-2.06-.94L8.5 2.5l-.94 2.06-2.06.94zm10 10l.94 2.06.94-2.06 2.06-.94-2.06-.94-.94-2.06-.94 2.06-2.06.94z\"/><path d=\"M17.41 7.96l-1.37-1.37c-.4-.4-.92-.59-1.43-.59-.52 0-1.04.2-1.43.59L10.3 9.45l-7.72 7.72c-.78.78-.78 2.05 0 2.83L4 21.41c.39.39.9.59 1.41.59.51 0 1.02-.2 1.41-.59l7.78-7.78 2.81-2.81c.8-.78.8-2.07 0-2.86zM5.41 20L4 18.59l7.72-7.72 1.47 1.35L5.41 20z\"/>\n",
              "  </svg>\n",
              "      </button>\n",
              "      \n",
              "  <style>\n",
              "    .colab-df-container {\n",
              "      display:flex;\n",
              "      flex-wrap:wrap;\n",
              "      gap: 12px;\n",
              "    }\n",
              "\n",
              "    .colab-df-convert {\n",
              "      background-color: #E8F0FE;\n",
              "      border: none;\n",
              "      border-radius: 50%;\n",
              "      cursor: pointer;\n",
              "      display: none;\n",
              "      fill: #1967D2;\n",
              "      height: 32px;\n",
              "      padding: 0 0 0 0;\n",
              "      width: 32px;\n",
              "    }\n",
              "\n",
              "    .colab-df-convert:hover {\n",
              "      background-color: #E2EBFA;\n",
              "      box-shadow: 0px 1px 2px rgba(60, 64, 67, 0.3), 0px 1px 3px 1px rgba(60, 64, 67, 0.15);\n",
              "      fill: #174EA6;\n",
              "    }\n",
              "\n",
              "    [theme=dark] .colab-df-convert {\n",
              "      background-color: #3B4455;\n",
              "      fill: #D2E3FC;\n",
              "    }\n",
              "\n",
              "    [theme=dark] .colab-df-convert:hover {\n",
              "      background-color: #434B5C;\n",
              "      box-shadow: 0px 1px 3px 1px rgba(0, 0, 0, 0.15);\n",
              "      filter: drop-shadow(0px 1px 2px rgba(0, 0, 0, 0.3));\n",
              "      fill: #FFFFFF;\n",
              "    }\n",
              "  </style>\n",
              "\n",
              "      <script>\n",
              "        const buttonEl =\n",
              "          document.querySelector('#df-39e15742-d444-43c5-8d4b-5c0310d076b2 button.colab-df-convert');\n",
              "        buttonEl.style.display =\n",
              "          google.colab.kernel.accessAllowed ? 'block' : 'none';\n",
              "\n",
              "        async function convertToInteractive(key) {\n",
              "          const element = document.querySelector('#df-39e15742-d444-43c5-8d4b-5c0310d076b2');\n",
              "          const dataTable =\n",
              "            await google.colab.kernel.invokeFunction('convertToInteractive',\n",
              "                                                     [key], {});\n",
              "          if (!dataTable) return;\n",
              "\n",
              "          const docLinkHtml = 'Like what you see? Visit the ' +\n",
              "            '<a target=\"_blank\" href=https://colab.research.google.com/notebooks/data_table.ipynb>data table notebook</a>'\n",
              "            + ' to learn more about interactive tables.';\n",
              "          element.innerHTML = '';\n",
              "          dataTable['output_type'] = 'display_data';\n",
              "          await google.colab.output.renderOutput(dataTable, element);\n",
              "          const docLink = document.createElement('div');\n",
              "          docLink.innerHTML = docLinkHtml;\n",
              "          element.appendChild(docLink);\n",
              "        }\n",
              "      </script>\n",
              "    </div>\n",
              "  </div>\n",
              "  "
            ]
          },
          "metadata": {},
          "execution_count": 7
        }
      ]
    },
    {
      "cell_type": "markdown",
      "source": [
        "Lead Water Concentration Data Preprocessing"
      ],
      "metadata": {
        "id": "16OijIe2ytI2"
      }
    },
    {
      "cell_type": "code",
      "source": [
        "def df_cleaned(df):\n",
        "    print(df.shape)\n",
        "    df = df.drop(0) \n",
        "    df = df.drop(\"Index\",axis=1)\n",
        "    df['Date.Sampled'] = pd.to_datetime(df['Date.Sampled'])\n",
        "    for i in range(3,len(col_name)):\n",
        "        df[col_name[i]] = df[col_name[i]].apply(pd.to_numeric)\n",
        "    df.drop(df.columns[[13,14,15,16,17,18]],axis=1,inplace=True) \n",
        "    col_new = df.columns\n",
        "    draw_cols = col_new[2:]\n",
        "\n",
        "    for i in range(len(draw_cols)):\n",
        "        df = df[df[draw_cols[i]].notnull()]\n",
        "    return df"
      ],
      "metadata": {
        "id": "ZG6e6UUkFjh1"
      },
      "execution_count": null,
      "outputs": []
    },
    {
      "cell_type": "code",
      "source": [
        "pd_dir = '/content/drive/MyDrive/MATH 497 Subteam 3/Code Files & Github/Dataset/497CleanedSequentialData.csv'\n",
        "col_name = ['Index','Date.Sampled','Address','X1st.Draw','X2nd.Draw','X3rd.Draw','X4th.Draw','X5th.Draw','X6th.Draw','X7th.Draw','X8th.Draw','X9th.Draw','X10th.Draw','X11th.Draw','X3.Minute','X5.Minute','X7.Minute','X10.Minute','X15.Minute','X20.Minute']\n",
        "df = pd.read_csv(pd_dir,names=col_name)"
      ],
      "metadata": {
        "id": "2xa8hSq4bJVq"
      },
      "execution_count": null,
      "outputs": []
    },
    {
      "cell_type": "code",
      "source": [
        "df = df_cleaned(df) #before"
      ],
      "metadata": {
        "id": "nc-wrqX8GNff",
        "colab": {
          "base_uri": "https://localhost:8080/"
        },
        "outputId": "e473c21f-d978-47a5-c528-6ecf2297ff32"
      },
      "execution_count": null,
      "outputs": [
        {
          "output_type": "stream",
          "name": "stdout",
          "text": [
            "(1809, 20)\n"
          ]
        }
      ]
    },
    {
      "cell_type": "code",
      "source": [
        "df[~df.isin(['NaN', 'NaT']).any(axis=1)]\n",
        "df.shape\n",
        "df.dropna(inplace=True)\n",
        "df.shape"
      ],
      "metadata": {
        "colab": {
          "base_uri": "https://localhost:8080/"
        },
        "id": "ZABtfKySO8mi",
        "outputId": "6c0e143f-5b1e-4c47-8c01-cb4da5616676"
      },
      "execution_count": null,
      "outputs": [
        {
          "output_type": "execute_result",
          "data": {
            "text/plain": [
              "(1535, 13)"
            ]
          },
          "metadata": {},
          "execution_count": 29
        }
      ]
    },
    {
      "cell_type": "code",
      "source": [
        "df.shape #after"
      ],
      "metadata": {
        "colab": {
          "base_uri": "https://localhost:8080/"
        },
        "id": "j-SnZVyBMNWG",
        "outputId": "61981846-52fa-420d-8d17-b6b6b11b7c51"
      },
      "execution_count": null,
      "outputs": [
        {
          "output_type": "execute_result",
          "data": {
            "text/plain": [
              "(1535, 13)"
            ]
          },
          "metadata": {},
          "execution_count": 30
        }
      ]
    },
    {
      "cell_type": "code",
      "source": [
        "df.isnull().sum(axis = 0)"
      ],
      "metadata": {
        "colab": {
          "base_uri": "https://localhost:8080/"
        },
        "id": "WweD4DakPp_u",
        "outputId": "171669a2-197f-4151-ccaa-7adccb22063e"
      },
      "execution_count": null,
      "outputs": [
        {
          "output_type": "execute_result",
          "data": {
            "text/plain": [
              "Date.Sampled    0\n",
              "Address         0\n",
              "X1st.Draw       0\n",
              "X2nd.Draw       0\n",
              "X3rd.Draw       0\n",
              "X4th.Draw       0\n",
              "X5th.Draw       0\n",
              "X6th.Draw       0\n",
              "X7th.Draw       0\n",
              "X8th.Draw       0\n",
              "X9th.Draw       0\n",
              "X10th.Draw      0\n",
              "X11th.Draw      0\n",
              "dtype: int64"
            ]
          },
          "metadata": {},
          "execution_count": 31
        }
      ]
    },
    {
      "cell_type": "code",
      "source": [
        "df.describe()"
      ],
      "metadata": {
        "colab": {
          "base_uri": "https://localhost:8080/",
          "height": 300
        },
        "id": "-eF18pGUGbOW",
        "outputId": "c0fd837a-1f32-4aa5-f047-f34f76cb24d6"
      },
      "execution_count": null,
      "outputs": [
        {
          "output_type": "execute_result",
          "data": {
            "text/plain": [
              "         X1st.Draw    X2nd.Draw    X3rd.Draw    X4th.Draw    X5th.Draw  \\\n",
              "count  1535.000000  1535.000000  1535.000000  1535.000000  1535.000000   \n",
              "mean      9.073397     9.691195    10.474641    10.791291    11.441878   \n",
              "std      19.051722    19.930587    17.054842    12.250770    12.025400   \n",
              "min       0.210000     0.200000     0.230000     0.220000     0.210000   \n",
              "25%       3.735000     4.360000     4.600000     4.800000     5.210000   \n",
              "50%       5.750000     6.640000     7.330000     7.800000     8.420000   \n",
              "75%       8.945000    10.100000    11.800000    12.600000    14.000000   \n",
              "max     355.000000   491.000000   420.000000   231.000000   267.000000   \n",
              "\n",
              "         X6th.Draw    X7th.Draw    X8th.Draw    X9th.Draw   X10th.Draw  \\\n",
              "count  1535.000000  1535.000000  1535.000000  1535.000000  1535.000000   \n",
              "mean     12.062595    12.785183    13.574099    13.689857    13.529373   \n",
              "std       9.922047    10.080543    11.282248    10.392408     9.971626   \n",
              "min       0.230000     0.210000     0.220000     0.190000     0.240000   \n",
              "25%       5.575000     6.000000     6.400000     6.550000     6.580000   \n",
              "50%       9.530000    10.600000    11.400000    11.800000    11.700000   \n",
              "75%      15.400000    16.900000    17.800000    18.000000    18.000000   \n",
              "max      88.000000    99.600000   169.000000   101.000000    99.600000   \n",
              "\n",
              "        X11th.Draw  \n",
              "count  1535.000000  \n",
              "mean     10.059421  \n",
              "std       9.039908  \n",
              "min       0.200000  \n",
              "25%       3.410000  \n",
              "50%       7.550000  \n",
              "75%      14.350000  \n",
              "max      89.400000  "
            ],
            "text/html": [
              "\n",
              "  <div id=\"df-dc88f64a-4e7c-4f4f-a8df-f370c73b3071\">\n",
              "    <div class=\"colab-df-container\">\n",
              "      <div>\n",
              "<style scoped>\n",
              "    .dataframe tbody tr th:only-of-type {\n",
              "        vertical-align: middle;\n",
              "    }\n",
              "\n",
              "    .dataframe tbody tr th {\n",
              "        vertical-align: top;\n",
              "    }\n",
              "\n",
              "    .dataframe thead th {\n",
              "        text-align: right;\n",
              "    }\n",
              "</style>\n",
              "<table border=\"1\" class=\"dataframe\">\n",
              "  <thead>\n",
              "    <tr style=\"text-align: right;\">\n",
              "      <th></th>\n",
              "      <th>X1st.Draw</th>\n",
              "      <th>X2nd.Draw</th>\n",
              "      <th>X3rd.Draw</th>\n",
              "      <th>X4th.Draw</th>\n",
              "      <th>X5th.Draw</th>\n",
              "      <th>X6th.Draw</th>\n",
              "      <th>X7th.Draw</th>\n",
              "      <th>X8th.Draw</th>\n",
              "      <th>X9th.Draw</th>\n",
              "      <th>X10th.Draw</th>\n",
              "      <th>X11th.Draw</th>\n",
              "    </tr>\n",
              "  </thead>\n",
              "  <tbody>\n",
              "    <tr>\n",
              "      <th>count</th>\n",
              "      <td>1535.000000</td>\n",
              "      <td>1535.000000</td>\n",
              "      <td>1535.000000</td>\n",
              "      <td>1535.000000</td>\n",
              "      <td>1535.000000</td>\n",
              "      <td>1535.000000</td>\n",
              "      <td>1535.000000</td>\n",
              "      <td>1535.000000</td>\n",
              "      <td>1535.000000</td>\n",
              "      <td>1535.000000</td>\n",
              "      <td>1535.000000</td>\n",
              "    </tr>\n",
              "    <tr>\n",
              "      <th>mean</th>\n",
              "      <td>9.073397</td>\n",
              "      <td>9.691195</td>\n",
              "      <td>10.474641</td>\n",
              "      <td>10.791291</td>\n",
              "      <td>11.441878</td>\n",
              "      <td>12.062595</td>\n",
              "      <td>12.785183</td>\n",
              "      <td>13.574099</td>\n",
              "      <td>13.689857</td>\n",
              "      <td>13.529373</td>\n",
              "      <td>10.059421</td>\n",
              "    </tr>\n",
              "    <tr>\n",
              "      <th>std</th>\n",
              "      <td>19.051722</td>\n",
              "      <td>19.930587</td>\n",
              "      <td>17.054842</td>\n",
              "      <td>12.250770</td>\n",
              "      <td>12.025400</td>\n",
              "      <td>9.922047</td>\n",
              "      <td>10.080543</td>\n",
              "      <td>11.282248</td>\n",
              "      <td>10.392408</td>\n",
              "      <td>9.971626</td>\n",
              "      <td>9.039908</td>\n",
              "    </tr>\n",
              "    <tr>\n",
              "      <th>min</th>\n",
              "      <td>0.210000</td>\n",
              "      <td>0.200000</td>\n",
              "      <td>0.230000</td>\n",
              "      <td>0.220000</td>\n",
              "      <td>0.210000</td>\n",
              "      <td>0.230000</td>\n",
              "      <td>0.210000</td>\n",
              "      <td>0.220000</td>\n",
              "      <td>0.190000</td>\n",
              "      <td>0.240000</td>\n",
              "      <td>0.200000</td>\n",
              "    </tr>\n",
              "    <tr>\n",
              "      <th>25%</th>\n",
              "      <td>3.735000</td>\n",
              "      <td>4.360000</td>\n",
              "      <td>4.600000</td>\n",
              "      <td>4.800000</td>\n",
              "      <td>5.210000</td>\n",
              "      <td>5.575000</td>\n",
              "      <td>6.000000</td>\n",
              "      <td>6.400000</td>\n",
              "      <td>6.550000</td>\n",
              "      <td>6.580000</td>\n",
              "      <td>3.410000</td>\n",
              "    </tr>\n",
              "    <tr>\n",
              "      <th>50%</th>\n",
              "      <td>5.750000</td>\n",
              "      <td>6.640000</td>\n",
              "      <td>7.330000</td>\n",
              "      <td>7.800000</td>\n",
              "      <td>8.420000</td>\n",
              "      <td>9.530000</td>\n",
              "      <td>10.600000</td>\n",
              "      <td>11.400000</td>\n",
              "      <td>11.800000</td>\n",
              "      <td>11.700000</td>\n",
              "      <td>7.550000</td>\n",
              "    </tr>\n",
              "    <tr>\n",
              "      <th>75%</th>\n",
              "      <td>8.945000</td>\n",
              "      <td>10.100000</td>\n",
              "      <td>11.800000</td>\n",
              "      <td>12.600000</td>\n",
              "      <td>14.000000</td>\n",
              "      <td>15.400000</td>\n",
              "      <td>16.900000</td>\n",
              "      <td>17.800000</td>\n",
              "      <td>18.000000</td>\n",
              "      <td>18.000000</td>\n",
              "      <td>14.350000</td>\n",
              "    </tr>\n",
              "    <tr>\n",
              "      <th>max</th>\n",
              "      <td>355.000000</td>\n",
              "      <td>491.000000</td>\n",
              "      <td>420.000000</td>\n",
              "      <td>231.000000</td>\n",
              "      <td>267.000000</td>\n",
              "      <td>88.000000</td>\n",
              "      <td>99.600000</td>\n",
              "      <td>169.000000</td>\n",
              "      <td>101.000000</td>\n",
              "      <td>99.600000</td>\n",
              "      <td>89.400000</td>\n",
              "    </tr>\n",
              "  </tbody>\n",
              "</table>\n",
              "</div>\n",
              "      <button class=\"colab-df-convert\" onclick=\"convertToInteractive('df-dc88f64a-4e7c-4f4f-a8df-f370c73b3071')\"\n",
              "              title=\"Convert this dataframe to an interactive table.\"\n",
              "              style=\"display:none;\">\n",
              "        \n",
              "  <svg xmlns=\"http://www.w3.org/2000/svg\" height=\"24px\"viewBox=\"0 0 24 24\"\n",
              "       width=\"24px\">\n",
              "    <path d=\"M0 0h24v24H0V0z\" fill=\"none\"/>\n",
              "    <path d=\"M18.56 5.44l.94 2.06.94-2.06 2.06-.94-2.06-.94-.94-2.06-.94 2.06-2.06.94zm-11 1L8.5 8.5l.94-2.06 2.06-.94-2.06-.94L8.5 2.5l-.94 2.06-2.06.94zm10 10l.94 2.06.94-2.06 2.06-.94-2.06-.94-.94-2.06-.94 2.06-2.06.94z\"/><path d=\"M17.41 7.96l-1.37-1.37c-.4-.4-.92-.59-1.43-.59-.52 0-1.04.2-1.43.59L10.3 9.45l-7.72 7.72c-.78.78-.78 2.05 0 2.83L4 21.41c.39.39.9.59 1.41.59.51 0 1.02-.2 1.41-.59l7.78-7.78 2.81-2.81c.8-.78.8-2.07 0-2.86zM5.41 20L4 18.59l7.72-7.72 1.47 1.35L5.41 20z\"/>\n",
              "  </svg>\n",
              "      </button>\n",
              "      \n",
              "  <style>\n",
              "    .colab-df-container {\n",
              "      display:flex;\n",
              "      flex-wrap:wrap;\n",
              "      gap: 12px;\n",
              "    }\n",
              "\n",
              "    .colab-df-convert {\n",
              "      background-color: #E8F0FE;\n",
              "      border: none;\n",
              "      border-radius: 50%;\n",
              "      cursor: pointer;\n",
              "      display: none;\n",
              "      fill: #1967D2;\n",
              "      height: 32px;\n",
              "      padding: 0 0 0 0;\n",
              "      width: 32px;\n",
              "    }\n",
              "\n",
              "    .colab-df-convert:hover {\n",
              "      background-color: #E2EBFA;\n",
              "      box-shadow: 0px 1px 2px rgba(60, 64, 67, 0.3), 0px 1px 3px 1px rgba(60, 64, 67, 0.15);\n",
              "      fill: #174EA6;\n",
              "    }\n",
              "\n",
              "    [theme=dark] .colab-df-convert {\n",
              "      background-color: #3B4455;\n",
              "      fill: #D2E3FC;\n",
              "    }\n",
              "\n",
              "    [theme=dark] .colab-df-convert:hover {\n",
              "      background-color: #434B5C;\n",
              "      box-shadow: 0px 1px 3px 1px rgba(0, 0, 0, 0.15);\n",
              "      filter: drop-shadow(0px 1px 2px rgba(0, 0, 0, 0.3));\n",
              "      fill: #FFFFFF;\n",
              "    }\n",
              "  </style>\n",
              "\n",
              "      <script>\n",
              "        const buttonEl =\n",
              "          document.querySelector('#df-dc88f64a-4e7c-4f4f-a8df-f370c73b3071 button.colab-df-convert');\n",
              "        buttonEl.style.display =\n",
              "          google.colab.kernel.accessAllowed ? 'block' : 'none';\n",
              "\n",
              "        async function convertToInteractive(key) {\n",
              "          const element = document.querySelector('#df-dc88f64a-4e7c-4f4f-a8df-f370c73b3071');\n",
              "          const dataTable =\n",
              "            await google.colab.kernel.invokeFunction('convertToInteractive',\n",
              "                                                     [key], {});\n",
              "          if (!dataTable) return;\n",
              "\n",
              "          const docLinkHtml = 'Like what you see? Visit the ' +\n",
              "            '<a target=\"_blank\" href=https://colab.research.google.com/notebooks/data_table.ipynb>data table notebook</a>'\n",
              "            + ' to learn more about interactive tables.';\n",
              "          element.innerHTML = '';\n",
              "          dataTable['output_type'] = 'display_data';\n",
              "          await google.colab.output.renderOutput(dataTable, element);\n",
              "          const docLink = document.createElement('div');\n",
              "          docLink.innerHTML = docLinkHtml;\n",
              "          element.appendChild(docLink);\n",
              "        }\n",
              "      </script>\n",
              "    </div>\n",
              "  </div>\n",
              "  "
            ]
          },
          "metadata": {},
          "execution_count": 32
        }
      ]
    },
    {
      "cell_type": "markdown",
      "source": [
        "### Locating Address with the name \"Carpenter\""
      ],
      "metadata": {
        "id": "b918kg9E1vPB"
      }
    },
    {
      "cell_type": "code",
      "source": [
        "assessor_df[assessor_df[\"Address\"] == '100XX S Bell Ave']"
      ],
      "metadata": {
        "colab": {
          "base_uri": "https://localhost:8080/",
          "height": 81
        },
        "id": "XD8z2Du1JUeA",
        "outputId": "e4a9d805-8333-4f88-dd99-5eddac4671f0"
      },
      "execution_count": null,
      "outputs": [
        {
          "output_type": "execute_result",
          "data": {
            "text/plain": [
              "             Address     Sale Price\n",
              "78  100XX S Bell Ave  299166.777778"
            ],
            "text/html": [
              "\n",
              "  <div id=\"df-ca5da41f-331b-4353-baf8-1ae16a4906be\">\n",
              "    <div class=\"colab-df-container\">\n",
              "      <div>\n",
              "<style scoped>\n",
              "    .dataframe tbody tr th:only-of-type {\n",
              "        vertical-align: middle;\n",
              "    }\n",
              "\n",
              "    .dataframe tbody tr th {\n",
              "        vertical-align: top;\n",
              "    }\n",
              "\n",
              "    .dataframe thead th {\n",
              "        text-align: right;\n",
              "    }\n",
              "</style>\n",
              "<table border=\"1\" class=\"dataframe\">\n",
              "  <thead>\n",
              "    <tr style=\"text-align: right;\">\n",
              "      <th></th>\n",
              "      <th>Address</th>\n",
              "      <th>Sale Price</th>\n",
              "    </tr>\n",
              "  </thead>\n",
              "  <tbody>\n",
              "    <tr>\n",
              "      <th>78</th>\n",
              "      <td>100XX S Bell Ave</td>\n",
              "      <td>299166.777778</td>\n",
              "    </tr>\n",
              "  </tbody>\n",
              "</table>\n",
              "</div>\n",
              "      <button class=\"colab-df-convert\" onclick=\"convertToInteractive('df-ca5da41f-331b-4353-baf8-1ae16a4906be')\"\n",
              "              title=\"Convert this dataframe to an interactive table.\"\n",
              "              style=\"display:none;\">\n",
              "        \n",
              "  <svg xmlns=\"http://www.w3.org/2000/svg\" height=\"24px\"viewBox=\"0 0 24 24\"\n",
              "       width=\"24px\">\n",
              "    <path d=\"M0 0h24v24H0V0z\" fill=\"none\"/>\n",
              "    <path d=\"M18.56 5.44l.94 2.06.94-2.06 2.06-.94-2.06-.94-.94-2.06-.94 2.06-2.06.94zm-11 1L8.5 8.5l.94-2.06 2.06-.94-2.06-.94L8.5 2.5l-.94 2.06-2.06.94zm10 10l.94 2.06.94-2.06 2.06-.94-2.06-.94-.94-2.06-.94 2.06-2.06.94z\"/><path d=\"M17.41 7.96l-1.37-1.37c-.4-.4-.92-.59-1.43-.59-.52 0-1.04.2-1.43.59L10.3 9.45l-7.72 7.72c-.78.78-.78 2.05 0 2.83L4 21.41c.39.39.9.59 1.41.59.51 0 1.02-.2 1.41-.59l7.78-7.78 2.81-2.81c.8-.78.8-2.07 0-2.86zM5.41 20L4 18.59l7.72-7.72 1.47 1.35L5.41 20z\"/>\n",
              "  </svg>\n",
              "      </button>\n",
              "      \n",
              "  <style>\n",
              "    .colab-df-container {\n",
              "      display:flex;\n",
              "      flex-wrap:wrap;\n",
              "      gap: 12px;\n",
              "    }\n",
              "\n",
              "    .colab-df-convert {\n",
              "      background-color: #E8F0FE;\n",
              "      border: none;\n",
              "      border-radius: 50%;\n",
              "      cursor: pointer;\n",
              "      display: none;\n",
              "      fill: #1967D2;\n",
              "      height: 32px;\n",
              "      padding: 0 0 0 0;\n",
              "      width: 32px;\n",
              "    }\n",
              "\n",
              "    .colab-df-convert:hover {\n",
              "      background-color: #E2EBFA;\n",
              "      box-shadow: 0px 1px 2px rgba(60, 64, 67, 0.3), 0px 1px 3px 1px rgba(60, 64, 67, 0.15);\n",
              "      fill: #174EA6;\n",
              "    }\n",
              "\n",
              "    [theme=dark] .colab-df-convert {\n",
              "      background-color: #3B4455;\n",
              "      fill: #D2E3FC;\n",
              "    }\n",
              "\n",
              "    [theme=dark] .colab-df-convert:hover {\n",
              "      background-color: #434B5C;\n",
              "      box-shadow: 0px 1px 3px 1px rgba(0, 0, 0, 0.15);\n",
              "      filter: drop-shadow(0px 1px 2px rgba(0, 0, 0, 0.3));\n",
              "      fill: #FFFFFF;\n",
              "    }\n",
              "  </style>\n",
              "\n",
              "      <script>\n",
              "        const buttonEl =\n",
              "          document.querySelector('#df-ca5da41f-331b-4353-baf8-1ae16a4906be button.colab-df-convert');\n",
              "        buttonEl.style.display =\n",
              "          google.colab.kernel.accessAllowed ? 'block' : 'none';\n",
              "\n",
              "        async function convertToInteractive(key) {\n",
              "          const element = document.querySelector('#df-ca5da41f-331b-4353-baf8-1ae16a4906be');\n",
              "          const dataTable =\n",
              "            await google.colab.kernel.invokeFunction('convertToInteractive',\n",
              "                                                     [key], {});\n",
              "          if (!dataTable) return;\n",
              "\n",
              "          const docLinkHtml = 'Like what you see? Visit the ' +\n",
              "            '<a target=\"_blank\" href=https://colab.research.google.com/notebooks/data_table.ipynb>data table notebook</a>'\n",
              "            + ' to learn more about interactive tables.';\n",
              "          element.innerHTML = '';\n",
              "          dataTable['output_type'] = 'display_data';\n",
              "          await google.colab.output.renderOutput(dataTable, element);\n",
              "          const docLink = document.createElement('div');\n",
              "          docLink.innerHTML = docLinkHtml;\n",
              "          element.appendChild(docLink);\n",
              "        }\n",
              "      </script>\n",
              "    </div>\n",
              "  </div>\n",
              "  "
            ]
          },
          "metadata": {},
          "execution_count": 33
        }
      ]
    },
    {
      "cell_type": "code",
      "source": [
        "assessor_df"
      ],
      "metadata": {
        "colab": {
          "base_uri": "https://localhost:8080/",
          "height": 423
        },
        "id": "5jo8cWUNKNev",
        "outputId": "5d90ceb2-90d6-41bd-86da-218713714367"
      },
      "execution_count": null,
      "outputs": [
        {
          "output_type": "execute_result",
          "data": {
            "text/plain": [
              "              Address     Sale Price\n",
              "0      100XX 127Th St  250000.000000\n",
              "1      100XX 145Th St  491000.000000\n",
              "2      100XX 146Th St  447500.000000\n",
              "3      100XX 147Th St  100880.600000\n",
              "4      100XX 151St St  124400.250000\n",
              "...               ...            ...\n",
              "71977    XX Yates Ave  101352.400000\n",
              "71978  XX Yorktown Ct  610000.000000\n",
              "71979  XX Yosemite Ct  604625.000000\n",
              "71980      XX Yost St  311750.250000\n",
              "71981             nXX  273848.376999\n",
              "\n",
              "[71982 rows x 2 columns]"
            ],
            "text/html": [
              "\n",
              "  <div id=\"df-d71774ea-3481-4cb6-a5eb-cd2ccd585d53\">\n",
              "    <div class=\"colab-df-container\">\n",
              "      <div>\n",
              "<style scoped>\n",
              "    .dataframe tbody tr th:only-of-type {\n",
              "        vertical-align: middle;\n",
              "    }\n",
              "\n",
              "    .dataframe tbody tr th {\n",
              "        vertical-align: top;\n",
              "    }\n",
              "\n",
              "    .dataframe thead th {\n",
              "        text-align: right;\n",
              "    }\n",
              "</style>\n",
              "<table border=\"1\" class=\"dataframe\">\n",
              "  <thead>\n",
              "    <tr style=\"text-align: right;\">\n",
              "      <th></th>\n",
              "      <th>Address</th>\n",
              "      <th>Sale Price</th>\n",
              "    </tr>\n",
              "  </thead>\n",
              "  <tbody>\n",
              "    <tr>\n",
              "      <th>0</th>\n",
              "      <td>100XX 127Th St</td>\n",
              "      <td>250000.000000</td>\n",
              "    </tr>\n",
              "    <tr>\n",
              "      <th>1</th>\n",
              "      <td>100XX 145Th St</td>\n",
              "      <td>491000.000000</td>\n",
              "    </tr>\n",
              "    <tr>\n",
              "      <th>2</th>\n",
              "      <td>100XX 146Th St</td>\n",
              "      <td>447500.000000</td>\n",
              "    </tr>\n",
              "    <tr>\n",
              "      <th>3</th>\n",
              "      <td>100XX 147Th St</td>\n",
              "      <td>100880.600000</td>\n",
              "    </tr>\n",
              "    <tr>\n",
              "      <th>4</th>\n",
              "      <td>100XX 151St St</td>\n",
              "      <td>124400.250000</td>\n",
              "    </tr>\n",
              "    <tr>\n",
              "      <th>...</th>\n",
              "      <td>...</td>\n",
              "      <td>...</td>\n",
              "    </tr>\n",
              "    <tr>\n",
              "      <th>71977</th>\n",
              "      <td>XX Yates Ave</td>\n",
              "      <td>101352.400000</td>\n",
              "    </tr>\n",
              "    <tr>\n",
              "      <th>71978</th>\n",
              "      <td>XX Yorktown Ct</td>\n",
              "      <td>610000.000000</td>\n",
              "    </tr>\n",
              "    <tr>\n",
              "      <th>71979</th>\n",
              "      <td>XX Yosemite Ct</td>\n",
              "      <td>604625.000000</td>\n",
              "    </tr>\n",
              "    <tr>\n",
              "      <th>71980</th>\n",
              "      <td>XX Yost St</td>\n",
              "      <td>311750.250000</td>\n",
              "    </tr>\n",
              "    <tr>\n",
              "      <th>71981</th>\n",
              "      <td>nXX</td>\n",
              "      <td>273848.376999</td>\n",
              "    </tr>\n",
              "  </tbody>\n",
              "</table>\n",
              "<p>71982 rows × 2 columns</p>\n",
              "</div>\n",
              "      <button class=\"colab-df-convert\" onclick=\"convertToInteractive('df-d71774ea-3481-4cb6-a5eb-cd2ccd585d53')\"\n",
              "              title=\"Convert this dataframe to an interactive table.\"\n",
              "              style=\"display:none;\">\n",
              "        \n",
              "  <svg xmlns=\"http://www.w3.org/2000/svg\" height=\"24px\"viewBox=\"0 0 24 24\"\n",
              "       width=\"24px\">\n",
              "    <path d=\"M0 0h24v24H0V0z\" fill=\"none\"/>\n",
              "    <path d=\"M18.56 5.44l.94 2.06.94-2.06 2.06-.94-2.06-.94-.94-2.06-.94 2.06-2.06.94zm-11 1L8.5 8.5l.94-2.06 2.06-.94-2.06-.94L8.5 2.5l-.94 2.06-2.06.94zm10 10l.94 2.06.94-2.06 2.06-.94-2.06-.94-.94-2.06-.94 2.06-2.06.94z\"/><path d=\"M17.41 7.96l-1.37-1.37c-.4-.4-.92-.59-1.43-.59-.52 0-1.04.2-1.43.59L10.3 9.45l-7.72 7.72c-.78.78-.78 2.05 0 2.83L4 21.41c.39.39.9.59 1.41.59.51 0 1.02-.2 1.41-.59l7.78-7.78 2.81-2.81c.8-.78.8-2.07 0-2.86zM5.41 20L4 18.59l7.72-7.72 1.47 1.35L5.41 20z\"/>\n",
              "  </svg>\n",
              "      </button>\n",
              "      \n",
              "  <style>\n",
              "    .colab-df-container {\n",
              "      display:flex;\n",
              "      flex-wrap:wrap;\n",
              "      gap: 12px;\n",
              "    }\n",
              "\n",
              "    .colab-df-convert {\n",
              "      background-color: #E8F0FE;\n",
              "      border: none;\n",
              "      border-radius: 50%;\n",
              "      cursor: pointer;\n",
              "      display: none;\n",
              "      fill: #1967D2;\n",
              "      height: 32px;\n",
              "      padding: 0 0 0 0;\n",
              "      width: 32px;\n",
              "    }\n",
              "\n",
              "    .colab-df-convert:hover {\n",
              "      background-color: #E2EBFA;\n",
              "      box-shadow: 0px 1px 2px rgba(60, 64, 67, 0.3), 0px 1px 3px 1px rgba(60, 64, 67, 0.15);\n",
              "      fill: #174EA6;\n",
              "    }\n",
              "\n",
              "    [theme=dark] .colab-df-convert {\n",
              "      background-color: #3B4455;\n",
              "      fill: #D2E3FC;\n",
              "    }\n",
              "\n",
              "    [theme=dark] .colab-df-convert:hover {\n",
              "      background-color: #434B5C;\n",
              "      box-shadow: 0px 1px 3px 1px rgba(0, 0, 0, 0.15);\n",
              "      filter: drop-shadow(0px 1px 2px rgba(0, 0, 0, 0.3));\n",
              "      fill: #FFFFFF;\n",
              "    }\n",
              "  </style>\n",
              "\n",
              "      <script>\n",
              "        const buttonEl =\n",
              "          document.querySelector('#df-d71774ea-3481-4cb6-a5eb-cd2ccd585d53 button.colab-df-convert');\n",
              "        buttonEl.style.display =\n",
              "          google.colab.kernel.accessAllowed ? 'block' : 'none';\n",
              "\n",
              "        async function convertToInteractive(key) {\n",
              "          const element = document.querySelector('#df-d71774ea-3481-4cb6-a5eb-cd2ccd585d53');\n",
              "          const dataTable =\n",
              "            await google.colab.kernel.invokeFunction('convertToInteractive',\n",
              "                                                     [key], {});\n",
              "          if (!dataTable) return;\n",
              "\n",
              "          const docLinkHtml = 'Like what you see? Visit the ' +\n",
              "            '<a target=\"_blank\" href=https://colab.research.google.com/notebooks/data_table.ipynb>data table notebook</a>'\n",
              "            + ' to learn more about interactive tables.';\n",
              "          element.innerHTML = '';\n",
              "          dataTable['output_type'] = 'display_data';\n",
              "          await google.colab.output.renderOutput(dataTable, element);\n",
              "          const docLink = document.createElement('div');\n",
              "          docLink.innerHTML = docLinkHtml;\n",
              "          element.appendChild(docLink);\n",
              "        }\n",
              "      </script>\n",
              "    </div>\n",
              "  </div>\n",
              "  "
            ]
          },
          "metadata": {},
          "execution_count": 34
        }
      ]
    },
    {
      "cell_type": "markdown",
      "source": [
        "### Merging two DataFrames by using address "
      ],
      "metadata": {
        "id": "cI3l8NIkOyXK"
      }
    },
    {
      "cell_type": "code",
      "source": [
        "# df_new = pd.merge(df,assessor_df,on=\"Address\",how='left')"
      ],
      "metadata": {
        "id": "E8rO5qdnHR7F"
      },
      "execution_count": null,
      "outputs": []
    },
    {
      "cell_type": "code",
      "source": [
        "def joins(join):  \n",
        "    df_new_inner = pd.merge(df,assessor_df,on=\"Address\",how=join) #inner join\n",
        "    df_new_inner.shape\n",
        "    price_median = df_new_inner['Sale Price'].median()\n",
        "    df_new_inner['Sale Price'] = df_new_inner['Sale Price'].fillna(price_median)\n",
        "    df_new_inner = df_new_inner.drop_duplicates(subset='Address', keep=\"first\")\n",
        "    df_new_inner['Median Lead Draw'] = df_new_inner[col_name[3:14]].median(axis=1)\n",
        "    df_new_inner = df_new_inner.drop(columns=col_name[3:14])\n",
        "    df_new_inner = df_new_inner.drop_duplicates(subset='Address', keep=\"first\")\n",
        "    return df_new_inner"
      ],
      "metadata": {
        "id": "9RpiveqVU9mi"
      },
      "execution_count": null,
      "outputs": []
    },
    {
      "cell_type": "code",
      "source": [
        "df_new_inner = joins(\"inner\")"
      ],
      "metadata": {
        "id": "zkE4ZkLu6lGH"
      },
      "execution_count": null,
      "outputs": []
    },
    {
      "cell_type": "code",
      "source": [
        "# price_median = df_new['Sale Price'].median()\n",
        "# df_new['Sale Price'] = df_new['Sale Price'].fillna(price_median)\n",
        "df_new_inner.shape"
      ],
      "metadata": {
        "colab": {
          "base_uri": "https://localhost:8080/"
        },
        "id": "_Jca6kIEMCB-",
        "outputId": "1b60191b-2e81-4b40-ad66-8ec8a096015d"
      },
      "execution_count": null,
      "outputs": [
        {
          "output_type": "execute_result",
          "data": {
            "text/plain": [
              "(907, 4)"
            ]
          },
          "metadata": {},
          "execution_count": 67
        }
      ]
    },
    {
      "cell_type": "code",
      "source": [
        "df_new_inner"
      ],
      "metadata": {
        "colab": {
          "base_uri": "https://localhost:8080/",
          "height": 423
        },
        "id": "bD-FQohEe0-p",
        "outputId": "9fc7f0cd-fa28-4ed7-9348-53f464349c65"
      },
      "execution_count": null,
      "outputs": [
        {
          "output_type": "execute_result",
          "data": {
            "text/plain": [
              "    Date.Sampled               Address     Sale Price  Median Lead Draw\n",
              "0     2019-09-04      100XX S Bell Ave  299166.777778              2.45\n",
              "1     2016-07-16   100XX S Calhoun Ave   28977.714286             10.80\n",
              "2     2019-12-17   100XX S Calumet Ave   59607.500000             11.10\n",
              "3     2019-12-14  100XX S Carpenter St   64849.222222              7.31\n",
              "4     2021-12-14    100XX S Lasalle St   16712.235294              9.50\n",
              "..           ...                   ...            ...               ...\n",
              "965   2021-09-21   9XX N Fairfield Ave  312804.952381             13.90\n",
              "966   2022-01-26     9XX W Gunnison St  217721.484848              9.40\n",
              "967   2021-11-22          XX W 78Th St   98760.666667             17.20\n",
              "968   2021-10-28          XX W 81St St   84167.666667              4.96\n",
              "969   2019-06-18        XX W Burton Pl  147344.275510              5.79\n",
              "\n",
              "[907 rows x 4 columns]"
            ],
            "text/html": [
              "\n",
              "  <div id=\"df-9936a533-b4f9-491c-8195-9d6b48b5cca6\">\n",
              "    <div class=\"colab-df-container\">\n",
              "      <div>\n",
              "<style scoped>\n",
              "    .dataframe tbody tr th:only-of-type {\n",
              "        vertical-align: middle;\n",
              "    }\n",
              "\n",
              "    .dataframe tbody tr th {\n",
              "        vertical-align: top;\n",
              "    }\n",
              "\n",
              "    .dataframe thead th {\n",
              "        text-align: right;\n",
              "    }\n",
              "</style>\n",
              "<table border=\"1\" class=\"dataframe\">\n",
              "  <thead>\n",
              "    <tr style=\"text-align: right;\">\n",
              "      <th></th>\n",
              "      <th>Date.Sampled</th>\n",
              "      <th>Address</th>\n",
              "      <th>Sale Price</th>\n",
              "      <th>Median Lead Draw</th>\n",
              "    </tr>\n",
              "  </thead>\n",
              "  <tbody>\n",
              "    <tr>\n",
              "      <th>0</th>\n",
              "      <td>2019-09-04</td>\n",
              "      <td>100XX S Bell Ave</td>\n",
              "      <td>299166.777778</td>\n",
              "      <td>2.45</td>\n",
              "    </tr>\n",
              "    <tr>\n",
              "      <th>1</th>\n",
              "      <td>2016-07-16</td>\n",
              "      <td>100XX S Calhoun Ave</td>\n",
              "      <td>28977.714286</td>\n",
              "      <td>10.80</td>\n",
              "    </tr>\n",
              "    <tr>\n",
              "      <th>2</th>\n",
              "      <td>2019-12-17</td>\n",
              "      <td>100XX S Calumet Ave</td>\n",
              "      <td>59607.500000</td>\n",
              "      <td>11.10</td>\n",
              "    </tr>\n",
              "    <tr>\n",
              "      <th>3</th>\n",
              "      <td>2019-12-14</td>\n",
              "      <td>100XX S Carpenter St</td>\n",
              "      <td>64849.222222</td>\n",
              "      <td>7.31</td>\n",
              "    </tr>\n",
              "    <tr>\n",
              "      <th>4</th>\n",
              "      <td>2021-12-14</td>\n",
              "      <td>100XX S Lasalle St</td>\n",
              "      <td>16712.235294</td>\n",
              "      <td>9.50</td>\n",
              "    </tr>\n",
              "    <tr>\n",
              "      <th>...</th>\n",
              "      <td>...</td>\n",
              "      <td>...</td>\n",
              "      <td>...</td>\n",
              "      <td>...</td>\n",
              "    </tr>\n",
              "    <tr>\n",
              "      <th>965</th>\n",
              "      <td>2021-09-21</td>\n",
              "      <td>9XX N Fairfield Ave</td>\n",
              "      <td>312804.952381</td>\n",
              "      <td>13.90</td>\n",
              "    </tr>\n",
              "    <tr>\n",
              "      <th>966</th>\n",
              "      <td>2022-01-26</td>\n",
              "      <td>9XX W Gunnison St</td>\n",
              "      <td>217721.484848</td>\n",
              "      <td>9.40</td>\n",
              "    </tr>\n",
              "    <tr>\n",
              "      <th>967</th>\n",
              "      <td>2021-11-22</td>\n",
              "      <td>XX W 78Th St</td>\n",
              "      <td>98760.666667</td>\n",
              "      <td>17.20</td>\n",
              "    </tr>\n",
              "    <tr>\n",
              "      <th>968</th>\n",
              "      <td>2021-10-28</td>\n",
              "      <td>XX W 81St St</td>\n",
              "      <td>84167.666667</td>\n",
              "      <td>4.96</td>\n",
              "    </tr>\n",
              "    <tr>\n",
              "      <th>969</th>\n",
              "      <td>2019-06-18</td>\n",
              "      <td>XX W Burton Pl</td>\n",
              "      <td>147344.275510</td>\n",
              "      <td>5.79</td>\n",
              "    </tr>\n",
              "  </tbody>\n",
              "</table>\n",
              "<p>907 rows × 4 columns</p>\n",
              "</div>\n",
              "      <button class=\"colab-df-convert\" onclick=\"convertToInteractive('df-9936a533-b4f9-491c-8195-9d6b48b5cca6')\"\n",
              "              title=\"Convert this dataframe to an interactive table.\"\n",
              "              style=\"display:none;\">\n",
              "        \n",
              "  <svg xmlns=\"http://www.w3.org/2000/svg\" height=\"24px\"viewBox=\"0 0 24 24\"\n",
              "       width=\"24px\">\n",
              "    <path d=\"M0 0h24v24H0V0z\" fill=\"none\"/>\n",
              "    <path d=\"M18.56 5.44l.94 2.06.94-2.06 2.06-.94-2.06-.94-.94-2.06-.94 2.06-2.06.94zm-11 1L8.5 8.5l.94-2.06 2.06-.94-2.06-.94L8.5 2.5l-.94 2.06-2.06.94zm10 10l.94 2.06.94-2.06 2.06-.94-2.06-.94-.94-2.06-.94 2.06-2.06.94z\"/><path d=\"M17.41 7.96l-1.37-1.37c-.4-.4-.92-.59-1.43-.59-.52 0-1.04.2-1.43.59L10.3 9.45l-7.72 7.72c-.78.78-.78 2.05 0 2.83L4 21.41c.39.39.9.59 1.41.59.51 0 1.02-.2 1.41-.59l7.78-7.78 2.81-2.81c.8-.78.8-2.07 0-2.86zM5.41 20L4 18.59l7.72-7.72 1.47 1.35L5.41 20z\"/>\n",
              "  </svg>\n",
              "      </button>\n",
              "      \n",
              "  <style>\n",
              "    .colab-df-container {\n",
              "      display:flex;\n",
              "      flex-wrap:wrap;\n",
              "      gap: 12px;\n",
              "    }\n",
              "\n",
              "    .colab-df-convert {\n",
              "      background-color: #E8F0FE;\n",
              "      border: none;\n",
              "      border-radius: 50%;\n",
              "      cursor: pointer;\n",
              "      display: none;\n",
              "      fill: #1967D2;\n",
              "      height: 32px;\n",
              "      padding: 0 0 0 0;\n",
              "      width: 32px;\n",
              "    }\n",
              "\n",
              "    .colab-df-convert:hover {\n",
              "      background-color: #E2EBFA;\n",
              "      box-shadow: 0px 1px 2px rgba(60, 64, 67, 0.3), 0px 1px 3px 1px rgba(60, 64, 67, 0.15);\n",
              "      fill: #174EA6;\n",
              "    }\n",
              "\n",
              "    [theme=dark] .colab-df-convert {\n",
              "      background-color: #3B4455;\n",
              "      fill: #D2E3FC;\n",
              "    }\n",
              "\n",
              "    [theme=dark] .colab-df-convert:hover {\n",
              "      background-color: #434B5C;\n",
              "      box-shadow: 0px 1px 3px 1px rgba(0, 0, 0, 0.15);\n",
              "      filter: drop-shadow(0px 1px 2px rgba(0, 0, 0, 0.3));\n",
              "      fill: #FFFFFF;\n",
              "    }\n",
              "  </style>\n",
              "\n",
              "      <script>\n",
              "        const buttonEl =\n",
              "          document.querySelector('#df-9936a533-b4f9-491c-8195-9d6b48b5cca6 button.colab-df-convert');\n",
              "        buttonEl.style.display =\n",
              "          google.colab.kernel.accessAllowed ? 'block' : 'none';\n",
              "\n",
              "        async function convertToInteractive(key) {\n",
              "          const element = document.querySelector('#df-9936a533-b4f9-491c-8195-9d6b48b5cca6');\n",
              "          const dataTable =\n",
              "            await google.colab.kernel.invokeFunction('convertToInteractive',\n",
              "                                                     [key], {});\n",
              "          if (!dataTable) return;\n",
              "\n",
              "          const docLinkHtml = 'Like what you see? Visit the ' +\n",
              "            '<a target=\"_blank\" href=https://colab.research.google.com/notebooks/data_table.ipynb>data table notebook</a>'\n",
              "            + ' to learn more about interactive tables.';\n",
              "          element.innerHTML = '';\n",
              "          dataTable['output_type'] = 'display_data';\n",
              "          await google.colab.output.renderOutput(dataTable, element);\n",
              "          const docLink = document.createElement('div');\n",
              "          docLink.innerHTML = docLinkHtml;\n",
              "          element.appendChild(docLink);\n",
              "        }\n",
              "      </script>\n",
              "    </div>\n",
              "  </div>\n",
              "  "
            ]
          },
          "metadata": {},
          "execution_count": 68
        }
      ]
    },
    {
      "cell_type": "code",
      "source": [
        "len(df_new_inner.Address.unique())"
      ],
      "metadata": {
        "colab": {
          "base_uri": "https://localhost:8080/"
        },
        "id": "4O4wuecEe53J",
        "outputId": "36368ad2-8bd0-4af3-a501-504991022f8c"
      },
      "execution_count": null,
      "outputs": [
        {
          "output_type": "execute_result",
          "data": {
            "text/plain": [
              "907"
            ]
          },
          "metadata": {},
          "execution_count": 69
        }
      ]
    },
    {
      "cell_type": "code",
      "source": [
        "from scipy.stats import pearsonr"
      ],
      "metadata": {
        "id": "Yj1qBGKx5yqx"
      },
      "execution_count": null,
      "outputs": []
    },
    {
      "cell_type": "code",
      "source": [
        "df_left = joins(\"left\")\n",
        "df_right = joins(\"right\")"
      ],
      "metadata": {
        "id": "jaTapcEk6zcV"
      },
      "execution_count": null,
      "outputs": []
    },
    {
      "cell_type": "code",
      "source": [
        "df_left.shape"
      ],
      "metadata": {
        "colab": {
          "base_uri": "https://localhost:8080/"
        },
        "id": "Mdbin54Y67LZ",
        "outputId": "165177f3-f398-4017-fad4-9b0e8619ad6b"
      },
      "execution_count": null,
      "outputs": [
        {
          "output_type": "execute_result",
          "data": {
            "text/plain": [
              "(1386, 4)"
            ]
          },
          "metadata": {},
          "execution_count": 72
        }
      ]
    },
    {
      "cell_type": "code",
      "source": [
        "df_right.shape"
      ],
      "metadata": {
        "colab": {
          "base_uri": "https://localhost:8080/"
        },
        "id": "AS-i7HfJ69fV",
        "outputId": "bcd20347-0334-44db-ee33-56752698f726"
      },
      "execution_count": null,
      "outputs": [
        {
          "output_type": "execute_result",
          "data": {
            "text/plain": [
              "(71982, 4)"
            ]
          },
          "metadata": {},
          "execution_count": 73
        }
      ]
    },
    {
      "cell_type": "code",
      "source": [
        "fig,ax = plt.subplots()\n",
        "\n",
        "ax.scatter(df_new_inner['Median Lead Draw'], df_new_inner['Sale Price'], label='Median Lead Concentration')\n",
        "\n",
        "\n",
        "# ax.scatter(df_max['Max Lead Draw'],df_max['Sale Price'],label='Max Draw')\n",
        "ax.set_xlabel('Lead Concentration')\n",
        "ax.set_ylabel('Sales Price')\n",
        "ax.set_title('Relationship between Median Sequential Draw and Sales Price (Inner Join)')\n",
        "plt.xlim(0, 100)\n",
        "# plt.ylim(0, 500000)\n",
        "ax.legend()\n",
        "plt.show()"
      ],
      "metadata": {
        "colab": {
          "base_uri": "https://localhost:8080/",
          "height": 306
        },
        "id": "JNpefXnFMhq-",
        "outputId": "9ba60647-2d6a-4ca4-ff69-3d27a04abcb2"
      },
      "execution_count": null,
      "outputs": [
        {
          "output_type": "display_data",
          "data": {
            "text/plain": [
              "<Figure size 432x288 with 1 Axes>"
            ],
            "image/png": "[encoded data removed]"
          },
          "metadata": {
            "needs_background": "light"
          }
        }
      ]
    },
    {
      "cell_type": "code",
      "source": [
        "fig,ax = plt.subplots()\n",
        "\n",
        "ax.scatter(df_left['Median Lead Draw'], df_left['Sale Price'], label='Median Lead Concentration')\n",
        "\n",
        "\n",
        "# ax.scatter(df_max['Max Lead Draw'],df_max['Sale Price'],label='Max Draw')\n",
        "ax.set_xlabel('Lead Concentration')\n",
        "ax.set_ylabel('Sales Price')\n",
        "ax.set_title('Relationship between Median Sequential Draw and Sales Price (Left Join)')\n",
        "plt.xlim(0, 100)\n",
        "# plt.ylim(0, 500000)\n",
        "ax.legend()\n",
        "plt.show()"
      ],
      "metadata": {
        "id": "jZUSOgUXzbqb",
        "colab": {
          "base_uri": "https://localhost:8080/",
          "height": 306
        },
        "outputId": "b52361ac-78b9-4f1d-9f90-89ccde6e5f42"
      },
      "execution_count": null,
      "outputs": [
        {
          "output_type": "display_data",
          "data": {
            "text/plain": [
              "<Figure size 432x288 with 1 Axes>"
            ],
            "image/png": "[encoded data removed]"
          },
          "metadata": {
            "needs_background": "light"
          }
        }
      ]
    },
    {
      "cell_type": "code",
      "source": [
        "fig,ax = plt.subplots()\n",
        "\n",
        "ax.scatter(df_right['Median Lead Draw'], df_right['Sale Price'], label='Median Lead Concentration')\n",
        "\n",
        "\n",
        "# ax.scatter(df_max['Max Lead Draw'],df_max['Sale Price'],label='Max Draw')\n",
        "ax.set_xlabel('Lead Concentration')\n",
        "ax.set_ylabel('Sales Price')\n",
        "ax.set_title('Relationship between Median Sequential Draw and Sales Price (Right Join)')\n",
        "plt.xlim(0, 100)\n",
        "# plt.ylim(0, 500000)\n",
        "ax.legend()\n",
        "plt.show()"
      ],
      "metadata": {
        "colab": {
          "base_uri": "https://localhost:8080/",
          "height": 306
        },
        "id": "G4UcQYB18JDQ",
        "outputId": "07dca192-8a0a-43ea-c287-c6bbbb958c64"
      },
      "execution_count": null,
      "outputs": [
        {
          "output_type": "display_data",
          "data": {
            "text/plain": [
              "<Figure size 432x288 with 1 Axes>"
            ],
            "image/png": "[encoded data removed]"
          },
          "metadata": {
            "needs_background": "light"
          }
        }
      ]
    },
    {
      "cell_type": "code",
      "source": [],
      "metadata": {
        "id": "NLdK_SE38GDa"
      },
      "execution_count": null,
      "outputs": []
    },
    {
      "cell_type": "markdown",
      "source": [
        "List Slicing"
      ],
      "metadata": {
        "id": "v1-W0ht4pjDt"
      }
    },
    {
      "cell_type": "code",
      "source": [
        "draw_df = df.iloc[:,2:].values"
      ],
      "metadata": {
        "id": "-mzBzgk7nR4U"
      },
      "execution_count": null,
      "outputs": []
    },
    {
      "cell_type": "code",
      "source": [
        "draw_df = np.array(draw_df)"
      ],
      "metadata": {
        "id": "b-axD8tsned-"
      },
      "execution_count": null,
      "outputs": []
    },
    {
      "cell_type": "code",
      "source": [
        "draw_df[:,0] #draw 1 values (col)"
      ],
      "metadata": {
        "colab": {
          "base_uri": "https://localhost:8080/"
        },
        "id": "G8zVrkomnfcW",
        "outputId": "42ae7514-fc8b-4bbd-a252-840740d65924"
      },
      "execution_count": null,
      "outputs": [
        {
          "output_type": "execute_result",
          "data": {
            "text/plain": [
              "array([ 1.52,  3.7 ,  4.02, ..., 11.  ,  4.41,  5.79])"
            ]
          },
          "metadata": {},
          "execution_count": 20
        }
      ]
    },
    {
      "cell_type": "code",
      "source": [
        "draw_df[0,:] #1 sequential data sample (row)"
      ],
      "metadata": {
        "colab": {
          "base_uri": "https://localhost:8080/"
        },
        "id": "bgGyu4cKpSRy",
        "outputId": "8f16c4c5-9389-4780-a923-cc04dfa3f493"
      },
      "execution_count": null,
      "outputs": [
        {
          "output_type": "execute_result",
          "data": {
            "text/plain": [
              "array([1.52, 1.37, 1.59, 2.53, 2.44, 1.9 , 2.45, 2.92, 3.75, 3.86, 4.35])"
            ]
          },
          "metadata": {},
          "execution_count": 21
        }
      ]
    },
    {
      "cell_type": "code",
      "source": [
        "!sudo apt-get install texlive-xetex texlive-fonts-recommended"
      ],
      "metadata": {
        "id": "5dS9TUsmPwAt"
      },
      "execution_count": null,
      "outputs": []
    },
    {
      "cell_type": "code",
      "source": [
        "!jupyter nbconvert --to pdf '/content/drive/MyDrive/MATH 497 Subteam 3/sequential_data&CCAO.ipynb'"
      ],
      "metadata": {
        "id": "TYql9gxOPzql"
      },
      "execution_count": null,
      "outputs": []
    },
    {
      "cell_type": "code",
      "source": [],
      "metadata": {
        "id": "fb27YIdCQaXQ"
      },
      "execution_count": null,
      "outputs": []
    }
  ]
}