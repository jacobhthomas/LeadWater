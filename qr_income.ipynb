{
 "cells": [
  {
   "cell_type": "code",
   "execution_count": 1,
   "metadata": {},
   "outputs": [],
   "source": [
    "import numpy as np\n",
    "import pandas as pd\n",
    "import matplotlib.pyplot as plt\n",
    "import statsmodels.api as sm\n",
    "import statsmodels.formula.api as smf\n",
    "import matplotlib as mpl\n",
    "import matplotlib.cm as cm"
   ]
  },
  {
   "cell_type": "markdown",
   "metadata": {},
   "source": [
    "https://subramgo.github.io/2017/03/13/Quantile-Regression/"
   ]
  },
  {
   "cell_type": "code",
   "execution_count": 12,
   "metadata": {},
   "outputs": [],
   "source": [
    "assessor_dir = 'datasets/assessorSequential.csv' \n",
    "df = pd.read_csv(assessor_dir)"
   ]
  },
  {
   "cell_type": "code",
   "execution_count": 13,
   "metadata": {},
   "outputs": [
    {
     "data": {
      "text/html": [
       "<div>\n",
       "<style scoped>\n",
       "    .dataframe tbody tr th:only-of-type {\n",
       "        vertical-align: middle;\n",
       "    }\n",
       "\n",
       "    .dataframe tbody tr th {\n",
       "        vertical-align: top;\n",
       "    }\n",
       "\n",
       "    .dataframe thead th {\n",
       "        text-align: right;\n",
       "    }\n",
       "</style>\n",
       "<table border=\"1\" class=\"dataframe\">\n",
       "  <thead>\n",
       "    <tr style=\"text-align: right;\">\n",
       "      <th></th>\n",
       "      <th>Unnamed: 0</th>\n",
       "      <th>Date.Sampled</th>\n",
       "      <th>Address</th>\n",
       "      <th>X1st.Draw</th>\n",
       "      <th>X2nd.Draw</th>\n",
       "      <th>X3rd.Draw</th>\n",
       "      <th>X4th.Draw</th>\n",
       "      <th>X5th.Draw</th>\n",
       "      <th>X6th.Draw</th>\n",
       "      <th>X7th.Draw</th>\n",
       "      <th>...</th>\n",
       "      <th>X11th.Draw</th>\n",
       "      <th>PIN</th>\n",
       "      <th>Township Code</th>\n",
       "      <th>Neighborhood Code</th>\n",
       "      <th>Sale Price</th>\n",
       "      <th>Age</th>\n",
       "      <th>ZIP</th>\n",
       "      <th>Longitude</th>\n",
       "      <th>Latitude</th>\n",
       "      <th>Tract Median Income</th>\n",
       "    </tr>\n",
       "  </thead>\n",
       "  <tbody>\n",
       "    <tr>\n",
       "      <th>0</th>\n",
       "      <td>0</td>\n",
       "      <td>9/4/2019</td>\n",
       "      <td>100XX S BELL AVE</td>\n",
       "      <td>1.52</td>\n",
       "      <td>1.37</td>\n",
       "      <td>1.59</td>\n",
       "      <td>2.53</td>\n",
       "      <td>2.44</td>\n",
       "      <td>1.90</td>\n",
       "      <td>2.45</td>\n",
       "      <td>...</td>\n",
       "      <td>4.35</td>\n",
       "      <td>25-07-311-006-0000</td>\n",
       "      <td>72.0</td>\n",
       "      <td>72271.0</td>\n",
       "      <td>280000.0</td>\n",
       "      <td>94.0</td>\n",
       "      <td>60643-1903</td>\n",
       "      <td>-87.677779</td>\n",
       "      <td>41.710994</td>\n",
       "      <td>122727.0</td>\n",
       "    </tr>\n",
       "    <tr>\n",
       "      <th>1</th>\n",
       "      <td>1</td>\n",
       "      <td>7/16/2016</td>\n",
       "      <td>100XX S CALHOUN AVE</td>\n",
       "      <td>3.70</td>\n",
       "      <td>2.62</td>\n",
       "      <td>8.83</td>\n",
       "      <td>13.80</td>\n",
       "      <td>13.20</td>\n",
       "      <td>13.60</td>\n",
       "      <td>12.30</td>\n",
       "      <td>...</td>\n",
       "      <td>2.75</td>\n",
       "      <td>26-07-150-042-0000</td>\n",
       "      <td>70.0</td>\n",
       "      <td>70180.0</td>\n",
       "      <td>NaN</td>\n",
       "      <td>72.0</td>\n",
       "      <td>60617-5354</td>\n",
       "      <td>-87.561811</td>\n",
       "      <td>41.713056</td>\n",
       "      <td>44423.0</td>\n",
       "    </tr>\n",
       "    <tr>\n",
       "      <th>2</th>\n",
       "      <td>2</td>\n",
       "      <td>12/17/2019</td>\n",
       "      <td>100XX S CALUMET AVE</td>\n",
       "      <td>4.02</td>\n",
       "      <td>5.35</td>\n",
       "      <td>6.97</td>\n",
       "      <td>6.55</td>\n",
       "      <td>17.70</td>\n",
       "      <td>16.60</td>\n",
       "      <td>12.10</td>\n",
       "      <td>...</td>\n",
       "      <td>8.72</td>\n",
       "      <td>25-10-313-023-0000</td>\n",
       "      <td>70.0</td>\n",
       "      <td>70220.0</td>\n",
       "      <td>NaN</td>\n",
       "      <td>72.0</td>\n",
       "      <td>60628-2122</td>\n",
       "      <td>-87.615468</td>\n",
       "      <td>41.712462</td>\n",
       "      <td>40612.0</td>\n",
       "    </tr>\n",
       "    <tr>\n",
       "      <th>3</th>\n",
       "      <td>3</td>\n",
       "      <td>12/14/2019</td>\n",
       "      <td>100XX S CARPENTER ST</td>\n",
       "      <td>9.54</td>\n",
       "      <td>7.31</td>\n",
       "      <td>6.95</td>\n",
       "      <td>5.63</td>\n",
       "      <td>4.91</td>\n",
       "      <td>7.15</td>\n",
       "      <td>12.40</td>\n",
       "      <td>...</td>\n",
       "      <td>7.23</td>\n",
       "      <td>25-08-410-026-0000</td>\n",
       "      <td>72.0</td>\n",
       "      <td>72282.0</td>\n",
       "      <td>NaN</td>\n",
       "      <td>70.0</td>\n",
       "      <td>60643-2248</td>\n",
       "      <td>-87.649387</td>\n",
       "      <td>41.711889</td>\n",
       "      <td>37207.0</td>\n",
       "    </tr>\n",
       "    <tr>\n",
       "      <th>4</th>\n",
       "      <td>4</td>\n",
       "      <td>7/14/2021</td>\n",
       "      <td>100XX S CARPENTER ST</td>\n",
       "      <td>14.00</td>\n",
       "      <td>11.00</td>\n",
       "      <td>8.83</td>\n",
       "      <td>8.12</td>\n",
       "      <td>8.69</td>\n",
       "      <td>7.14</td>\n",
       "      <td>11.00</td>\n",
       "      <td>...</td>\n",
       "      <td>NaN</td>\n",
       "      <td>25-08-410-039-0000</td>\n",
       "      <td>72.0</td>\n",
       "      <td>72282.0</td>\n",
       "      <td>NaN</td>\n",
       "      <td>66.0</td>\n",
       "      <td>60643-2248</td>\n",
       "      <td>-87.649360</td>\n",
       "      <td>41.710831</td>\n",
       "      <td>37207.0</td>\n",
       "    </tr>\n",
       "  </tbody>\n",
       "</table>\n",
       "<p>5 rows × 23 columns</p>\n",
       "</div>"
      ],
      "text/plain": [
       "   Unnamed: 0 Date.Sampled               Address  X1st.Draw  X2nd.Draw  \\\n",
       "0           0     9/4/2019      100XX S BELL AVE       1.52       1.37   \n",
       "1           1    7/16/2016   100XX S CALHOUN AVE       3.70       2.62   \n",
       "2           2   12/17/2019   100XX S CALUMET AVE       4.02       5.35   \n",
       "3           3   12/14/2019  100XX S CARPENTER ST       9.54       7.31   \n",
       "4           4    7/14/2021  100XX S CARPENTER ST      14.00      11.00   \n",
       "\n",
       "   X3rd.Draw  X4th.Draw  X5th.Draw  X6th.Draw  X7th.Draw  ...  X11th.Draw  \\\n",
       "0       1.59       2.53       2.44       1.90       2.45  ...        4.35   \n",
       "1       8.83      13.80      13.20      13.60      12.30  ...        2.75   \n",
       "2       6.97       6.55      17.70      16.60      12.10  ...        8.72   \n",
       "3       6.95       5.63       4.91       7.15      12.40  ...        7.23   \n",
       "4       8.83       8.12       8.69       7.14      11.00  ...         NaN   \n",
       "\n",
       "                  PIN  Township Code  Neighborhood Code Sale Price   Age  \\\n",
       "0  25-07-311-006-0000           72.0            72271.0   280000.0  94.0   \n",
       "1  26-07-150-042-0000           70.0            70180.0        NaN  72.0   \n",
       "2  25-10-313-023-0000           70.0            70220.0        NaN  72.0   \n",
       "3  25-08-410-026-0000           72.0            72282.0        NaN  70.0   \n",
       "4  25-08-410-039-0000           72.0            72282.0        NaN  66.0   \n",
       "\n",
       "          ZIP  Longitude   Latitude Tract Median Income  \n",
       "0  60643-1903 -87.677779  41.710994            122727.0  \n",
       "1  60617-5354 -87.561811  41.713056             44423.0  \n",
       "2  60628-2122 -87.615468  41.712462             40612.0  \n",
       "3  60643-2248 -87.649387  41.711889             37207.0  \n",
       "4  60643-2248 -87.649360  41.710831             37207.0  \n",
       "\n",
       "[5 rows x 23 columns]"
      ]
     },
     "execution_count": 13,
     "metadata": {},
     "output_type": "execute_result"
    }
   ],
   "source": [
    "df.head(5)"
   ]
  },
  {
   "cell_type": "code",
   "execution_count": 16,
   "metadata": {},
   "outputs": [],
   "source": [
    "df = df.drop(['Unnamed: 0','X11th.Draw'], axis=1)"
   ]
  },
  {
   "cell_type": "code",
   "execution_count": 5,
   "metadata": {},
   "outputs": [
    {
     "data": {
      "text/html": [
       "<div>\n",
       "<style scoped>\n",
       "    .dataframe tbody tr th:only-of-type {\n",
       "        vertical-align: middle;\n",
       "    }\n",
       "\n",
       "    .dataframe tbody tr th {\n",
       "        vertical-align: top;\n",
       "    }\n",
       "\n",
       "    .dataframe thead th {\n",
       "        text-align: right;\n",
       "    }\n",
       "</style>\n",
       "<table border=\"1\" class=\"dataframe\">\n",
       "  <thead>\n",
       "    <tr style=\"text-align: right;\">\n",
       "      <th></th>\n",
       "      <th>Date.Sampled</th>\n",
       "      <th>Address</th>\n",
       "      <th>median_lead</th>\n",
       "      <th>tract_income</th>\n",
       "    </tr>\n",
       "  </thead>\n",
       "  <tbody>\n",
       "    <tr>\n",
       "      <th>0</th>\n",
       "      <td>9/4/2019</td>\n",
       "      <td>100XX S BELL AVE</td>\n",
       "      <td>2.445</td>\n",
       "      <td>122727.0</td>\n",
       "    </tr>\n",
       "    <tr>\n",
       "      <th>1</th>\n",
       "      <td>7/16/2016</td>\n",
       "      <td>100XX S CALHOUN AVE</td>\n",
       "      <td>11.300</td>\n",
       "      <td>44423.0</td>\n",
       "    </tr>\n",
       "    <tr>\n",
       "      <th>2</th>\n",
       "      <td>12/17/2019</td>\n",
       "      <td>100XX S CALUMET AVE</td>\n",
       "      <td>11.350</td>\n",
       "      <td>40612.0</td>\n",
       "    </tr>\n",
       "    <tr>\n",
       "      <th>3</th>\n",
       "      <td>12/14/2019</td>\n",
       "      <td>100XX S CARPENTER ST</td>\n",
       "      <td>8.425</td>\n",
       "      <td>37207.0</td>\n",
       "    </tr>\n",
       "    <tr>\n",
       "      <th>4</th>\n",
       "      <td>12/14/2021</td>\n",
       "      <td>100XX S LASALLE ST</td>\n",
       "      <td>9.650</td>\n",
       "      <td>39787.0</td>\n",
       "    </tr>\n",
       "  </tbody>\n",
       "</table>\n",
       "</div>"
      ],
      "text/plain": [
       "  Date.Sampled               Address  median_lead  tract_income\n",
       "0     9/4/2019      100XX S BELL AVE        2.445      122727.0\n",
       "1    7/16/2016   100XX S CALHOUN AVE       11.300       44423.0\n",
       "2   12/17/2019   100XX S CALUMET AVE       11.350       40612.0\n",
       "3   12/14/2019  100XX S CARPENTER ST        8.425       37207.0\n",
       "4   12/14/2021    100XX S LASALLE ST        9.650       39787.0"
      ]
     },
     "execution_count": 5,
     "metadata": {},
     "output_type": "execute_result"
    }
   ],
   "source": [
    "df.head(5)"
   ]
  },
  {
   "cell_type": "code",
   "execution_count": 17,
   "metadata": {},
   "outputs": [
    {
     "data": {
      "text/plain": [
       "Index(['X1st.Draw', 'X2nd.Draw', 'X3rd.Draw', 'X4th.Draw', 'X5th.Draw',\n",
       "       'X6th.Draw', 'X7th.Draw', 'X8th.Draw', 'X9th.Draw', 'X10th.Draw'],\n",
       "      dtype='object')"
      ]
     },
     "execution_count": 17,
     "metadata": {},
     "output_type": "execute_result"
    }
   ],
   "source": [
    "draw_cols = df.columns[2:12]\n",
    "draw_cols"
   ]
  },
  {
   "cell_type": "code",
   "execution_count": 18,
   "metadata": {},
   "outputs": [
    {
     "data": {
      "text/plain": [
       "(147, 21)"
      ]
     },
     "execution_count": 18,
     "metadata": {},
     "output_type": "execute_result"
    }
   ],
   "source": [
    "df[~df.isin(['NaN', 'NaT']).any(axis=1)]\n",
    "df.shape\n",
    "df.dropna(inplace=True)\n",
    "df.shape"
   ]
  },
  {
   "cell_type": "code",
   "execution_count": 20,
   "metadata": {},
   "outputs": [],
   "source": [
    "df['avg_draw'] = df[draw_cols].mean(axis=1)\n",
    "df = df.drop(columns=draw_cols)"
   ]
  },
  {
   "cell_type": "code",
   "execution_count": 22,
   "metadata": {},
   "outputs": [],
   "source": [
    "df['tract_income'] = df['Tract Median Income']\n",
    "df = df.drop(columns=['Tract Median Income'])"
   ]
  },
  {
   "cell_type": "markdown",
   "metadata": {},
   "source": [
    "Least Absolute Deviation"
   ]
  },
  {
   "cell_type": "code",
   "execution_count": 23,
   "metadata": {},
   "outputs": [
    {
     "name": "stdout",
     "output_type": "stream",
     "text": [
      "                         QuantReg Regression Results                          \n",
      "==============================================================================\n",
      "Dep. Variable:               avg_draw   Pseudo R-squared:             0.001552\n",
      "Model:                       QuantReg   Bandwidth:                       4.645\n",
      "Method:                 Least Squares   Sparsity:                        53.67\n",
      "Date:                Mon, 24 Apr 2023   No. Observations:                  147\n",
      "Time:                        14:22:06   Df Residuals:                      145\n",
      "                                        Df Model:                            1\n",
      "================================================================================\n",
      "                   coef    std err          t      P>|t|      [0.025      0.975]\n",
      "--------------------------------------------------------------------------------\n",
      "Intercept       21.5839      3.995      5.403      0.000      13.688      29.480\n",
      "tract_income -4.271e-05   5.48e-05     -0.779      0.437      -0.000    6.56e-05\n",
      "================================================================================\n",
      "\n",
      "The condition number is large, 1.88e+05. This might indicate that there are\n",
      "strong multicollinearity or other numerical problems.\n"
     ]
    }
   ],
   "source": [
    "mod = smf.quantreg('avg_draw ~ tract_income', df)\n",
    "res = mod.fit(q=.9)\n",
    "print(res.summary())"
   ]
  },
  {
   "cell_type": "code",
   "execution_count": 25,
   "metadata": {},
   "outputs": [
    {
     "name": "stdout",
     "output_type": "stream",
     "text": [
      "      q          a             b        lb        ub\n",
      "0  0.05   2.196312 -4.331429e-06 -0.000037  0.000028\n",
      "1  0.15   4.427341 -1.253709e-05 -0.000049  0.000024\n",
      "2  0.25   4.882029  6.322748e-06 -0.000031  0.000044\n",
      "3  0.35   7.638846 -1.057648e-05 -0.000050  0.000029\n",
      "4  0.45   8.037391  5.799491e-06 -0.000036  0.000047\n",
      "5  0.55   9.302136 -4.129865e-07 -0.000043  0.000042\n",
      "6  0.65  11.082447 -1.294812e-06 -0.000049  0.000046\n",
      "7  0.75  13.651401 -1.291631e-05 -0.000070  0.000044\n",
      "8  0.85  12.433919  2.524385e-05 -0.000043  0.000094\n",
      "9  0.95  23.702357  2.289669e-05 -0.000294  0.000340\n"
     ]
    },
    {
     "name": "stderr",
     "output_type": "stream",
     "text": [
      "/Users/aakashvardhan/miniforge3/lib/python3.9/site-packages/statsmodels/regression/quantile_regression.py:191: IterationLimitWarning: Maximum number of iterations (1000) reached.\n",
      "  warnings.warn(\"Maximum number of iterations (\" + str(max_iter) +\n"
     ]
    }
   ],
   "source": [
    "quantiles_ = np.arange(0.05, 0.96, 0.1)\n",
    "def fit_model(q):\n",
    "    res = mod.fit(q=q)\n",
    "    return [q, res.params['Intercept'], res.params['tract_income']] + \\\n",
    "            res.conf_int().loc['tract_income'].tolist()\n",
    "\n",
    "# fit the model for each quantile\n",
    "models = [fit_model(x) for x in quantiles_]\n",
    "models = pd.DataFrame(models, columns=['q', 'a', 'b', 'lb', 'ub'])\n",
    "\n",
    "ols = smf.ols('avg_draw ~ tract_income', df).fit()\n",
    "ols_ci = ols.conf_int().loc['tract_income'].tolist()\n",
    "ols = dict(a = ols.params['Intercept'],\n",
    "              b = ols.params['tract_income'],\n",
    "                lb = ols_ci[0],\n",
    "                ub = ols_ci[1])\n",
    "\n",
    "print(models)"
   ]
  },
  {
   "cell_type": "code",
   "execution_count": 26,
   "metadata": {},
   "outputs": [
    {
     "name": "stdout",
     "output_type": "stream",
     "text": [
      "{'a': 11.758626604604942, 'b': -1.2526944919313862e-05, 'lb': -8.141915633166188e-05, 'ub': 5.636526649303415e-05}\n"
     ]
    }
   ],
   "source": [
    "print(ols)"
   ]
  },
  {
   "cell_type": "code",
   "execution_count": 27,
   "metadata": {},
   "outputs": [
    {
     "data": {
      "text/plain": [
       "10"
      ]
     },
     "execution_count": 27,
     "metadata": {},
     "output_type": "execute_result"
    }
   ],
   "source": [
    "models.shape[0]"
   ]
  },
  {
   "cell_type": "code",
   "execution_count": 29,
   "metadata": {},
   "outputs": [
    {
     "data": {
      "image/png": "[encoded data removed]",
      "text/plain": [
       "<Figure size 576x432 with 1 Axes>"
      ]
     },
     "metadata": {
      "needs_background": "light"
     },
     "output_type": "display_data"
    }
   ],
   "source": [
    "fig, ax = plt.subplots(figsize=(8,6))\n",
    "colors = cm.rainbow(np.linspace(0, 1, models.shape[0]))\n",
    "\n",
    "for i in range(models.shape[0]):\n",
    "    y = models.a[i] + models.b[i] * df.tract_income\n",
    "    ax.plot(df.tract_income, y, linestyle='solid', color=colors[i],label='q: ' + str(models.q[i].round(2)))\n",
    "\n",
    "\n",
    "\n",
    "y_ols = ols['a'] + ols['b'] * df.tract_income\n",
    "\n",
    "ax.plot(df.tract_income, y_ols, color='yellow', label='OLS')\n",
    "\n",
    "ax.scatter(df.tract_income, df.avg_draw, color='black',s=5)\n",
    "\n",
    "ax.set_xlabel('Tract Median Income')\n",
    "ax.set_ylabel('Mean Lead Level')\n",
    "\n",
    "ax.legend(bbox_to_anchor=(1.18, 1.02))\n",
    "\n",
    "\n",
    "\n",
    "plt.show()"
   ]
  },
  {
   "cell_type": "code",
   "execution_count": 35,
   "metadata": {},
   "outputs": [
    {
     "name": "stdout",
     "output_type": "stream",
     "text": [
      "Quantile:  0.05\n",
      "                         QuantReg Regression Results                          \n",
      "==============================================================================\n",
      "Dep. Variable:               avg_draw   Pseudo R-squared:             0.001712\n",
      "Model:                       QuantReg   Bandwidth:                       5.586\n",
      "Method:                 Least Squares   Sparsity:                        28.21\n",
      "Date:                Mon, 24 Apr 2023   No. Observations:                  147\n",
      "Time:                        14:39:54   Df Residuals:                      145\n",
      "                                        Df Model:                            1\n",
      "================================================================================\n",
      "                   coef    std err          t      P>|t|      [0.025      0.975]\n",
      "--------------------------------------------------------------------------------\n",
      "Intercept        2.1963      1.234      1.779      0.077      -0.243       4.636\n",
      "tract_income -4.331e-06   1.66e-05     -0.261      0.794   -3.71e-05    2.84e-05\n",
      "================================================================================\n",
      "\n",
      "The condition number is large, 1.88e+05. This might indicate that there are\n",
      "strong multicollinearity or other numerical problems.\n",
      "Quantile:  0.15000000000000002\n",
      "                         QuantReg Regression Results                          \n",
      "==============================================================================\n",
      "Dep. Variable:               avg_draw   Pseudo R-squared:             0.001478\n",
      "Model:                       QuantReg   Bandwidth:                       4.412\n",
      "Method:                 Least Squares   Sparsity:                        19.85\n",
      "Date:                Mon, 24 Apr 2023   No. Observations:                  147\n",
      "Time:                        14:39:54   Df Residuals:                      145\n",
      "                                        Df Model:                            1\n",
      "================================================================================\n",
      "                   coef    std err          t      P>|t|      [0.025      0.975]\n",
      "--------------------------------------------------------------------------------\n",
      "Intercept        4.4273      1.412      3.136      0.002       1.637       7.218\n",
      "tract_income -1.254e-05   1.86e-05     -0.674      0.501   -4.93e-05    2.42e-05\n",
      "================================================================================\n",
      "\n",
      "The condition number is large, 1.88e+05. This might indicate that there are\n",
      "strong multicollinearity or other numerical problems.\n",
      "Quantile:  0.25000000000000006\n",
      "                         QuantReg Regression Results                          \n",
      "==============================================================================\n",
      "Dep. Variable:               avg_draw   Pseudo R-squared:             0.001040\n",
      "Model:                       QuantReg   Bandwidth:                       4.987\n",
      "Method:                 Least Squares   Sparsity:                        16.23\n",
      "Date:                Mon, 24 Apr 2023   No. Observations:                  147\n",
      "Time:                        14:39:54   Df Residuals:                      145\n",
      "                                        Df Model:                            1\n",
      "================================================================================\n",
      "                   coef    std err          t      P>|t|      [0.025      0.975]\n",
      "--------------------------------------------------------------------------------\n",
      "Intercept        4.8820      1.416      3.448      0.001       2.084       7.680\n",
      "tract_income  6.323e-06    1.9e-05      0.332      0.740   -3.13e-05     4.4e-05\n",
      "================================================================================\n",
      "\n",
      "The condition number is large, 1.88e+05. This might indicate that there are\n",
      "strong multicollinearity or other numerical problems.\n",
      "Quantile:  0.35000000000000003\n",
      "                         QuantReg Regression Results                          \n",
      "==============================================================================\n",
      "Dep. Variable:               avg_draw   Pseudo R-squared:             0.001638\n",
      "Model:                       QuantReg   Bandwidth:                       4.917\n",
      "Method:                 Least Squares   Sparsity:                        14.94\n",
      "Date:                Mon, 24 Apr 2023   No. Observations:                  147\n",
      "Time:                        14:39:54   Df Residuals:                      145\n",
      "                                        Df Model:                            1\n",
      "================================================================================\n",
      "                   coef    std err          t      P>|t|      [0.025      0.975]\n",
      "--------------------------------------------------------------------------------\n",
      "Intercept        7.6388      1.499      5.097      0.000       4.677      10.601\n",
      "tract_income -1.058e-05   2.02e-05     -0.524      0.601   -5.04e-05    2.93e-05\n",
      "================================================================================\n",
      "\n",
      "The condition number is large, 1.88e+05. This might indicate that there are\n",
      "strong multicollinearity or other numerical problems.\n",
      "Quantile:  0.45000000000000007\n",
      "                         QuantReg Regression Results                          \n",
      "==============================================================================\n",
      "Dep. Variable:               avg_draw   Pseudo R-squared:            0.0005339\n",
      "Model:                       QuantReg   Bandwidth:                       5.564\n",
      "Method:                 Least Squares   Sparsity:                        15.07\n",
      "Date:                Mon, 24 Apr 2023   No. Observations:                  147\n",
      "Time:                        14:39:54   Df Residuals:                      145\n",
      "                                        Df Model:                            1\n",
      "================================================================================\n",
      "                   coef    std err          t      P>|t|      [0.025      0.975]\n",
      "--------------------------------------------------------------------------------\n",
      "Intercept        8.0374      1.557      5.162      0.000       4.960      11.115\n",
      "tract_income  5.799e-06   2.09e-05      0.277      0.782   -3.55e-05    4.71e-05\n",
      "================================================================================\n",
      "\n",
      "The condition number is large, 1.88e+05. This might indicate that there are\n",
      "strong multicollinearity or other numerical problems.\n",
      "Quantile:  0.5500000000000002\n",
      "                         QuantReg Regression Results                          \n",
      "==============================================================================\n",
      "Dep. Variable:               avg_draw   Pseudo R-squared:            7.319e-06\n",
      "Model:                       QuantReg   Bandwidth:                       5.444\n",
      "Method:                 Least Squares   Sparsity:                        15.38\n",
      "Date:                Mon, 24 Apr 2023   No. Observations:                  147\n",
      "Time:                        14:39:54   Df Residuals:                      145\n",
      "                                        Df Model:                            1\n",
      "================================================================================\n",
      "                   coef    std err          t      P>|t|      [0.025      0.975]\n",
      "--------------------------------------------------------------------------------\n",
      "Intercept        9.3021      1.606      5.791      0.000       6.127      12.477\n",
      "tract_income  -4.13e-07   2.16e-05     -0.019      0.985   -4.32e-05    4.23e-05\n",
      "================================================================================\n",
      "\n",
      "The condition number is large, 1.88e+05. This might indicate that there are\n",
      "strong multicollinearity or other numerical problems.\n",
      "Quantile:  0.6500000000000001\n",
      "                         QuantReg Regression Results                          \n",
      "==============================================================================\n",
      "Dep. Variable:               avg_draw   Pseudo R-squared:            0.0001559\n",
      "Model:                       QuantReg   Bandwidth:                       5.169\n",
      "Method:                 Least Squares   Sparsity:                        17.07\n",
      "Date:                Mon, 24 Apr 2023   No. Observations:                  147\n",
      "Time:                        14:39:54   Df Residuals:                      145\n",
      "                                        Df Model:                            1\n",
      "================================================================================\n",
      "                   coef    std err          t      P>|t|      [0.025      0.975]\n",
      "--------------------------------------------------------------------------------\n",
      "Intercept       11.0824      1.760      6.298      0.000       7.604      14.560\n",
      "tract_income -1.295e-06   2.39e-05     -0.054      0.957   -4.86e-05     4.6e-05\n",
      "================================================================================\n",
      "\n",
      "The condition number is large, 1.88e+05. This might indicate that there are\n",
      "strong multicollinearity or other numerical problems.\n",
      "Quantile:  0.7500000000000002\n",
      "                         QuantReg Regression Results                          \n",
      "==============================================================================\n",
      "Dep. Variable:               avg_draw   Pseudo R-squared:            8.940e-05\n",
      "Model:                       QuantReg   Bandwidth:                       4.560\n",
      "Method:                 Least Squares   Sparsity:                        22.46\n",
      "Date:                Mon, 24 Apr 2023   No. Observations:                  147\n",
      "Time:                        14:39:54   Df Residuals:                      145\n",
      "                                        Df Model:                            1\n",
      "================================================================================\n",
      "                   coef    std err          t      P>|t|      [0.025      0.975]\n",
      "--------------------------------------------------------------------------------\n",
      "Intercept       13.6514      2.126      6.420      0.000       9.449      17.854\n",
      "tract_income -1.292e-05   2.88e-05     -0.449      0.654   -6.98e-05     4.4e-05\n",
      "================================================================================\n",
      "\n",
      "The condition number is large, 1.88e+05. This might indicate that there are\n",
      "strong multicollinearity or other numerical problems.\n",
      "Quantile:  0.8500000000000002\n",
      "                         QuantReg Regression Results                          \n",
      "==============================================================================\n",
      "Dep. Variable:               avg_draw   Pseudo R-squared:             -0.02082\n",
      "Model:                       QuantReg   Bandwidth:                       5.033\n",
      "Method:                 Least Squares   Sparsity:                        28.34\n",
      "Date:                Mon, 24 Apr 2023   No. Observations:                  147\n",
      "Time:                        14:39:54   Df Residuals:                      145\n",
      "                                        Df Model:                            1\n",
      "================================================================================\n",
      "                   coef    std err          t      P>|t|      [0.025      0.975]\n",
      "--------------------------------------------------------------------------------\n",
      "Intercept       12.4339      2.580      4.820      0.000       7.335      17.533\n",
      "tract_income  2.524e-05   3.47e-05      0.727      0.469   -4.34e-05    9.39e-05\n",
      "================================================================================\n",
      "\n",
      "The condition number is large, 1.88e+05. This might indicate that there are\n",
      "strong multicollinearity or other numerical problems.\n",
      "Quantile:  0.9500000000000002\n",
      "                         QuantReg Regression Results                          \n",
      "==============================================================================\n",
      "Dep. Variable:               avg_draw   Pseudo R-squared:             0.004938\n",
      "Model:                       QuantReg   Bandwidth:                       6.087\n",
      "Method:                 Least Squares   Sparsity:                        164.5\n",
      "Date:                Mon, 24 Apr 2023   No. Observations:                  147\n",
      "Time:                        14:39:54   Df Residuals:                      145\n",
      "                                        Df Model:                            1\n",
      "================================================================================\n",
      "                   coef    std err          t      P>|t|      [0.025      0.975]\n",
      "--------------------------------------------------------------------------------\n",
      "Intercept       23.7024     11.182      2.120      0.036       1.602      45.803\n",
      "tract_income   2.29e-05      0.000      0.143      0.887      -0.000       0.000\n",
      "================================================================================\n",
      "\n",
      "The condition number is large, 1.88e+05. This might indicate that there are\n",
      "strong multicollinearity or other numerical problems.\n"
     ]
    },
    {
     "name": "stderr",
     "output_type": "stream",
     "text": [
      "/Users/aakashvardhan/miniforge3/lib/python3.9/site-packages/statsmodels/regression/quantile_regression.py:191: IterationLimitWarning: Maximum number of iterations (1000) reached.\n",
      "  warnings.warn(\"Maximum number of iterations (\" + str(max_iter) +\n"
     ]
    },
    {
     "data": {
      "image/png": "[encoded data removed]",
      "text/plain": [
       "<Figure size 432x288 with 1 Axes>"
      ]
     },
     "metadata": {
      "needs_background": "light"
     },
     "output_type": "display_data"
    }
   ],
   "source": [
    "coeff = []\n",
    "for q in quantiles_:\n",
    "    q_model = smf.quantreg(formula='avg_draw ~ tract_income',data=df)\n",
    "    q_model_result = q_model.fit(q=q)\n",
    "    print(\"Quantile: \",q)\n",
    "    print(q_model_result.summary())\n",
    "    coeff.append(q_model_result.params['tract_income'])\n",
    "\n",
    "fig = plt.figure()\n",
    "fig.suptitle('Coefficient of tract income versus Quantile number')\n",
    "plt.xlabel('Quantile number')\n",
    "plt.ylabel('Coefficient of tract_income')\n",
    "plt.plot(quantiles_, coeff)\n",
    "plt.show()"
   ]
  },
  {
   "cell_type": "code",
   "execution_count": 31,
   "metadata": {},
   "outputs": [
    {
     "data": {
      "image/png": "[encoded data removed]",
      "text/plain": [
       "<Figure size 576x432 with 1 Axes>"
      ]
     },
     "metadata": {
      "needs_background": "light"
     },
     "output_type": "display_data"
    }
   ],
   "source": [
    "#residual plot for quantile regression\n",
    "fig, ax = plt.subplots(figsize=(8,6))\n",
    "\n",
    "for i in range(models.shape[0]):\n",
    "    y = models.a[i] + models.b[i] * df.tract_income\n",
    "    ax.scatter(df.tract_income, df.avg_draw - y, color=colors[i], label='q: ' + str(models.q[i].round(2)),s=5)\n",
    "\n",
    "ax.set_xlabel('Tract Income')\n",
    "ax.set_ylabel('Residuals')\n",
    "\n",
    "ax.legend(loc='upper left')\n",
    "\n",
    "\n",
    "#residual plot for OLS\n",
    "\n",
    "ax.scatter(df.tract_income, df.avg_draw - y_ols, color='grey', label='OLS',s=5)\n",
    "\n",
    "ax.set_xlabel('Tract Median Income')\n",
    "ax.set_ylabel('Mean Lead Residuals')\n",
    "\n",
    "ax.legend(bbox_to_anchor=(1.18, 1.02))\n",
    "\n",
    "plt.show()\n",
    "\n"
   ]
  },
  {
   "cell_type": "code",
   "execution_count": null,
   "metadata": {},
   "outputs": [],
   "source": []
  }
 ],
 "metadata": {
  "kernelspec": {
   "display_name": "Python 3 (ipykernel)",
   "language": "python",
   "name": "python3"
  },
  "language_info": {
   "codemirror_mode": {
    "name": "ipython",
    "version": 3
   },
   "file_extension": ".py",
   "mimetype": "text/x-python",
   "name": "python",
   "nbconvert_exporter": "python",
   "pygments_lexer": "ipython3",
   "version": "3.9.7"
  }
 },
 "nbformat": 4,
 "nbformat_minor": 2
}
